{
  "nbformat": 4,
  "nbformat_minor": 0,
  "metadata": {
    "colab": {
      "name": "TFE Workshop: Models.ipynb",
      "version": "0.3.2",
      "provenance": [],
      "collapsed_sections": [],
      "include_colab_link": true
    },
    "kernelspec": {
      "name": "python3",
      "display_name": "Python 3"
    }
  },
  "cells": [
    {
      "cell_type": "markdown",
      "metadata": {
        "id": "view-in-github",
        "colab_type": "text"
      },
      "source": [
        "[View in Colaboratory](https://colab.research.google.com/gist/alextp/5cfcffd408bd5103f5ae747bc97ab0b5/tfe-workshop-models.ipynb)"
      ]
    },
    {
      "metadata": {
        "id": "BMxv1O6Q0SJL",
        "colab_type": "code",
        "colab": {
          "base_uri": "https://localhost:8080/",
          "height": 17
        },
        "outputId": "8be9c556-ac7f-4142-e35e-19dc2b097121"
      },
      "cell_type": "code",
      "source": [
        "import tensorflow as tf\n",
        "tf.enable_eager_execution()\n",
        "tfe = tf.contrib.eager"
      ],
      "execution_count": 1,
      "outputs": []
    },
    {
      "metadata": {
        "id": "lE1vJhxp0WR9",
        "colab_type": "text"
      },
      "cell_type": "markdown",
      "source": [
        "# Variables\n",
        "\n",
        "TensorFlow variables are useful to store the state in your program. They are integrated with other parts of the API (taking gradients, checkpointing, graph functions)."
      ]
    },
    {
      "metadata": {
        "id": "C4ztQNgc0VpW",
        "colab_type": "code",
        "colab": {
          "base_uri": "https://localhost:8080/",
          "height": 34
        },
        "outputId": "8b63ae1f-2670-49c0-a31b-8cf7fc4194a1"
      },
      "cell_type": "code",
      "source": [
        "# Creating variables\n",
        "v = tf.Variable(1.0)\n",
        "v"
      ],
      "execution_count": 2,
      "outputs": [
        {
          "output_type": "execute_result",
          "data": {
            "text/plain": [
              "<tf.Variable 'Variable:0' shape=() dtype=float32, numpy=1.0>"
            ]
          },
          "metadata": {
            "tags": []
          },
          "execution_count": 2
        }
      ]
    },
    {
      "metadata": {
        "id": "H0daItGg1IAp",
        "colab_type": "code",
        "colab": {
          "base_uri": "https://localhost:8080/",
          "height": 34
        },
        "outputId": "e47d5aab-16a1-4e29-c27d-7fbc0b94b5d3"
      },
      "cell_type": "code",
      "source": [
        "v.assign_add(1.0)\n",
        "v"
      ],
      "execution_count": 3,
      "outputs": [
        {
          "output_type": "execute_result",
          "data": {
            "text/plain": [
              "<tf.Variable 'Variable:0' shape=() dtype=float32, numpy=2.0>"
            ]
          },
          "metadata": {
            "tags": []
          },
          "execution_count": 3
        }
      ]
    },
    {
      "metadata": {
        "id": "BJvBzcIG1hyK",
        "colab_type": "text"
      },
      "cell_type": "markdown",
      "source": [
        "# Layers: common sets of useful operations\n",
        "\n",
        "Most of the time when writing code for machine learning models you want to operate at a higher level of abstraction than individual operations and manipulation of individual variables.\n",
        "\n",
        "Many machine learning models are expressible as the composition and stacking of relatively simple layers, and TensorFlow provides both a set of many common layers as a well as easy ways for you to write your own application-specific layers either from scratch or as the composition of existing layers.\n",
        "\n",
        "TensorFlow includes the full [Keras](https://keras.io) API in the tf.keras package, and the Keras layers are very useful when building your own models.\n"
      ]
    },
    {
      "metadata": {
        "id": "iSQTS3QW1YQQ",
        "colab_type": "code",
        "colab": {
          "base_uri": "https://localhost:8080/",
          "height": 17
        },
        "outputId": "c5d8aa10-dcad-44f7-f0eb-0faf5249fd7e"
      },
      "cell_type": "code",
      "source": [
        "# In the tf.keras.layers package, layers are objects. To construct a layer,\n",
        "# simply construct the object. Most layers take as a first argument the number\n",
        "# of output dimensions / channels.\n",
        "layer = tf.keras.layers.Dense(100)\n",
        "\n",
        "# The number of input dimensions is often unnecessary, as it can be inferred\n",
        "# the first time the layer is used, but it can be provided if you want to \n",
        "# specify it manually, which is useful in some complex models.\n",
        "layer = tf.keras.layers.Dense(10, input_shape=(None, 5))\n"
      ],
      "execution_count": 4,
      "outputs": []
    },
    {
      "metadata": {
        "id": "nRuUogoS1liV",
        "colab_type": "code",
        "colab": {
          "base_uri": "https://localhost:8080/",
          "height": 68
        },
        "outputId": "c352ce79-d519-45e4-a12e-1eaba76871a2"
      },
      "cell_type": "code",
      "source": [
        "layer(tf.zeros([2, 2]))"
      ],
      "execution_count": 5,
      "outputs": [
        {
          "output_type": "execute_result",
          "data": {
            "text/plain": [
              "<tf.Tensor: id=43, shape=(2, 10), dtype=float32, numpy=\n",
              "array([[0., 0., 0., 0., 0., 0., 0., 0., 0., 0.],\n",
              "       [0., 0., 0., 0., 0., 0., 0., 0., 0., 0.]], dtype=float32)>"
            ]
          },
          "metadata": {
            "tags": []
          },
          "execution_count": 5
        }
      ]
    },
    {
      "metadata": {
        "id": "JH4Kf4ka1mht",
        "colab_type": "code",
        "colab": {
          "base_uri": "https://localhost:8080/",
          "height": 136
        },
        "outputId": "c34e2378-f83d-42c5-d30a-ebe55620368a"
      },
      "cell_type": "code",
      "source": [
        "layer.variables"
      ],
      "execution_count": 6,
      "outputs": [
        {
          "output_type": "execute_result",
          "data": {
            "text/plain": [
              "[<tf.Variable 'dense/kernel:0' shape=(2, 10) dtype=float32, numpy=\n",
              " array([[-0.42494273, -0.2067694 ,  0.4519381 ,  0.6842533 ,  0.04131705,\n",
              "          0.70547956,  0.4021917 , -0.5939298 , -0.5671462 ,  0.5586321 ],\n",
              "        [ 0.3709975 , -0.64126074, -0.5386696 , -0.42212513,  0.6550072 ,\n",
              "          0.70081085,  0.08859557, -0.30801034, -0.31450653,  0.02522504]],\n",
              "       dtype=float32)>,\n",
              " <tf.Variable 'dense/bias:0' shape=(10,) dtype=float32, numpy=array([0., 0., 0., 0., 0., 0., 0., 0., 0., 0.], dtype=float32)>]"
            ]
          },
          "metadata": {
            "tags": []
          },
          "execution_count": 6
        }
      ]
    },
    {
      "metadata": {
        "id": "DSI4NF0_1vn-",
        "colab_type": "text"
      },
      "cell_type": "markdown",
      "source": [
        "The full list of pre-existing layers can be seen in [the documentation](https://www.tensorflow.org/api_docs/python/tf/keras/layers). It includes Dense (a fully-connected layer),\n",
        "Conv2D, LSTM, BatchNormalization, Dropout, and many others."
      ]
    },
    {
      "metadata": {
        "id": "hMgDBftJ12Bp",
        "colab_type": "text"
      },
      "cell_type": "markdown",
      "source": [
        "# Models: composing layers\n",
        "\n",
        "Many interesting layer-like things in machine learning models are implemented by composing existing layers. For example, each residual block in a resnet is a composition of convolutions, batch normalizations, and a shortcut.\n",
        "\n",
        "The main class used when creating a layer-like thing which contains other layers is tf.keras.Model. Implementing one is done by inheriting from tf.keras.Model.\n"
      ]
    },
    {
      "metadata": {
        "id": "K3gVY6gj1nbe",
        "colab_type": "code",
        "colab": {
          "base_uri": "https://localhost:8080/",
          "height": 190
        },
        "outputId": "6e9be0c4-960e-46c2-cdd9-7e94ad09d46b"
      },
      "cell_type": "code",
      "source": [
        "class ResnetIdentityBlock(tf.keras.Model):\n",
        "  def __init__(self, kernel_size, filters):\n",
        "    super(ResnetIdentityBlock, self).__init__(name='')\n",
        "    filters1, filters2, filters3 = filters\n",
        "\n",
        "    self.conv2a = tf.keras.layers.Conv2D(filters1, (1, 1))\n",
        "    self.bn2a = tf.keras.layers.BatchNormalization()\n",
        "\n",
        "    self.conv2b = tf.keras.layers.Conv2D(filters2, kernel_size, padding='same')\n",
        "    self.bn2b = tf.keras.layers.BatchNormalization()\n",
        "\n",
        "    self.conv2c = tf.keras.layers.Conv2D(filters3, (1, 1))\n",
        "    self.bn2c = tf.keras.layers.BatchNormalization()\n",
        "\n",
        "  def call(self, input_tensor, training=False):\n",
        "    x = self.conv2a(input_tensor)\n",
        "    x = self.bn2a(x, training=training)\n",
        "    x = tf.nn.relu(x)\n",
        "\n",
        "    x = self.conv2b(x)\n",
        "    x = self.bn2b(x, training=training)\n",
        "    x = tf.nn.relu(x)\n",
        "\n",
        "    x = self.conv2c(x)\n",
        "    x = self.bn2c(x, training=training)\n",
        "\n",
        "    x += input_tensor\n",
        "    return tf.nn.relu(x)\n",
        "  \n",
        "block = ResnetIdentityBlock(1, [1, 2, 3])\n",
        "print(block(tf.zeros([1, 2, 3, 3])))\n",
        "print([x.name for x in block.variables])"
      ],
      "execution_count": 7,
      "outputs": [
        {
          "output_type": "stream",
          "text": [
            "tf.Tensor(\n",
            "[[[[0. 0. 0.]\n",
            "   [0. 0. 0.]\n",
            "   [0. 0. 0.]]\n",
            "\n",
            "  [[0. 0. 0.]\n",
            "   [0. 0. 0.]\n",
            "   [0. 0. 0.]]]], shape=(1, 2, 3, 3), dtype=float32)\n",
            "['resnet_identity_block/conv2d/kernel:0', 'resnet_identity_block/conv2d/bias:0', 'resnet_identity_block/batch_normalization/gamma:0', 'resnet_identity_block/batch_normalization/beta:0', 'resnet_identity_block/conv2d_1/kernel:0', 'resnet_identity_block/conv2d_1/bias:0', 'resnet_identity_block/batch_normalization_1/gamma:0', 'resnet_identity_block/batch_normalization_1/beta:0', 'resnet_identity_block/conv2d_2/kernel:0', 'resnet_identity_block/conv2d_2/bias:0', 'resnet_identity_block/batch_normalization_2/gamma:0', 'resnet_identity_block/batch_normalization_2/beta:0', 'resnet_identity_block/batch_normalization/moving_mean:0', 'resnet_identity_block/batch_normalization/moving_variance:0', 'resnet_identity_block/batch_normalization_1/moving_mean:0', 'resnet_identity_block/batch_normalization_1/moving_variance:0', 'resnet_identity_block/batch_normalization_2/moving_mean:0', 'resnet_identity_block/batch_normalization_2/moving_variance:0']\n"
          ],
          "name": "stdout"
        }
      ]
    },
    {
      "metadata": {
        "id": "LPXhHUIc1-sO",
        "colab_type": "text"
      },
      "cell_type": "markdown",
      "source": [
        "Much of the time, however, models which compose many layers simply call one layer after the other. This can be done in very little code using tf.keras.Sequential"
      ]
    },
    {
      "metadata": {
        "id": "5pXgzNAU17xk",
        "colab_type": "code",
        "colab": {
          "base_uri": "https://localhost:8080/",
          "height": 173
        },
        "outputId": "03b7eaf8-9b35-482b-bcf0-a99af6c2c6a4"
      },
      "cell_type": "code",
      "source": [
        " my_seq = tf.keras.Sequential([tf.keras.layers.Conv2D(1, (1, 1)),\n",
        "                               tf.keras.layers.BatchNormalization(),\n",
        "                               tf.keras.layers.Conv2D(2, 1, \n",
        "                                                      padding='same'),\n",
        "                               tf.keras.layers.BatchNormalization(),\n",
        "                               tf.keras.layers.Conv2D(3, (1, 1)),\n",
        "                               tf.keras.layers.BatchNormalization()])\n",
        "my_seq(tf.zeros([1, 2, 3, 3]))\n"
      ],
      "execution_count": 8,
      "outputs": [
        {
          "output_type": "execute_result",
          "data": {
            "text/plain": [
              "<tf.Tensor: id=493, shape=(1, 2, 3, 3), dtype=float32, numpy=\n",
              "array([[[[0., 0., 0.],\n",
              "         [0., 0., 0.],\n",
              "         [0., 0., 0.]],\n",
              "\n",
              "        [[0., 0., 0.],\n",
              "         [0., 0., 0.],\n",
              "         [0., 0., 0.]]]], dtype=float32)>"
            ]
          },
          "metadata": {
            "tags": []
          },
          "execution_count": 8
        }
      ]
    },
    {
      "metadata": {
        "id": "MZrns6p22GEQ",
        "colab_type": "text"
      },
      "cell_type": "markdown",
      "source": [
        "## Exercise!\n",
        "\n",
        "Make a simple convolutional neural network model, useful for things such as MNIST which don't need too many parameters. A sequence of two or three convolutions with small output channels (say, 32 and 64) plus one or two fully connected layers is probably enough.\n",
        "\n",
        "The input shape should be [batch_size, 28, 28, 1]."
      ]
    },
    {
      "metadata": {
        "id": "8CAUa3KNN916",
        "colab_type": "code",
        "colab": {
          "base_uri": "https://localhost:8080/",
          "height": 17
        },
        "outputId": "97c0ff3c-c962-4c13-eee8-406101465761"
      },
      "cell_type": "code",
      "source": [
        "# TODO: Implement a convolutional model as described above, and assign it to\n",
        "# model.\n",
        "model = tf.keras.Sequential([\n",
        "    \n",
        "])"
      ],
      "execution_count": 9,
      "outputs": []
    },
    {
      "metadata": {
        "id": "vLDDduR32E82",
        "colab_type": "code",
        "colab": {
          "base_uri": "https://localhost:8080/",
          "height": 34
        },
        "outputId": "09bb1d43-b4c6-44b5-916e-0d2903d10cf4"
      },
      "cell_type": "code",
      "source": [
        "#@title Click to see the answer\n",
        "\n",
        "max_pool = tf.keras.layers.MaxPooling2D(\n",
        "      (2, 2), (2, 2), padding='same')\n",
        "  # The model consists of a sequential chain of layers, so tf.keras.Sequential\n",
        "  # (a subclass of tf.keras.Model) makes for a compact description.\n",
        "model = tf.keras.Sequential(\n",
        "      [\n",
        "          tf.keras.layers.Conv2D(\n",
        "              32,\n",
        "              5,\n",
        "              padding='same',\n",
        "              activation=tf.nn.relu),\n",
        "          max_pool,\n",
        "          tf.keras.layers.Conv2D(\n",
        "              64,\n",
        "              5,\n",
        "              padding='same',\n",
        "              activation=tf.nn.relu),\n",
        "          max_pool,\n",
        "          tf.keras.layers.Flatten(),\n",
        "          tf.keras.layers.Dense(1024, activation=tf.nn.relu),\n",
        "          tf.keras.layers.Dropout(0.4),\n",
        "          tf.keras.layers.Dense(10)\n",
        "      ])\n",
        "\n",
        "model(tf.zeros([1, 28, 28, 1]))"
      ],
      "execution_count": 10,
      "outputs": [
        {
          "output_type": "execute_result",
          "data": {
            "text/plain": [
              "<tf.Tensor: id=625, shape=(1, 10), dtype=float32, numpy=array([[0., 0., 0., 0., 0., 0., 0., 0., 0., 0.]], dtype=float32)>"
            ]
          },
          "metadata": {
            "tags": []
          },
          "execution_count": 10
        }
      ]
    },
    {
      "metadata": {
        "id": "H_CKVBroik4M",
        "colab_type": "text"
      },
      "cell_type": "markdown",
      "source": [
        "# Stop here for now"
      ]
    },
    {
      "metadata": {
        "id": "_yRwuE6MMmzC",
        "colab_type": "text"
      },
      "cell_type": "markdown",
      "source": [
        "# Training\n",
        "\n",
        "When eager execution is enabled, you can write Pythonic training loops. Simply\n",
        "\n",
        "1. load your data into a `tf.data.Dataset`, which lets you construct functional pipelines for processing, shuffling, and batching your data,\n",
        "2. iterate over the dataset using a Python `for` loop, and\n",
        "3. perform an optimization step in the body of your `for` loop.\n",
        "\n",
        "This workflow is exemplified in the following exercise."
      ]
    },
    {
      "metadata": {
        "id": "gj0-EkTc_Xt1",
        "colab_type": "text"
      },
      "cell_type": "markdown",
      "source": [
        "\n",
        "\n",
        "## Exercise!\n",
        "\n",
        "In this exercise, you'll train the convolutional model you implemented for the previous exericse on the MNIST dataset. "
      ]
    },
    {
      "metadata": {
        "id": "WOGm9HHn_byR",
        "colab_type": "code",
        "colab": {
          "base_uri": "https://localhost:8080/",
          "height": 17
        },
        "outputId": "bbccc7ad-33cd-446e-bcda-f358c7547e1b"
      },
      "cell_type": "code",
      "source": [
        "#@title Utilities for downloading MNIST data (double-click to show code)\n",
        "import gzip\n",
        "import os\n",
        "import tempfile\n",
        "from six.moves import urllib\n",
        "import shutil\n",
        "\n",
        "import numpy as np\n",
        "\n",
        "def read32(bytestream):\n",
        "  \"\"\"Read 4 bytes from bytestream as an unsigned 32-bit integer.\"\"\"\n",
        "  dt = np.dtype(np.uint32).newbyteorder('>')\n",
        "  return np.frombuffer(bytestream.read(4), dtype=dt)[0]\n",
        "\n",
        "\n",
        "def check_image_file_header(filename):\n",
        "  \"\"\"Validate that filename corresponds to images for the MNIST dataset.\"\"\"\n",
        "  with tf.gfile.Open(filename, 'rb') as f:\n",
        "    magic = read32(f)\n",
        "    read32(f)  # num_images, unused\n",
        "    rows = read32(f)\n",
        "    cols = read32(f)\n",
        "    if magic != 2051:\n",
        "      raise ValueError('Invalid magic number %d in MNIST file %s' % (magic,\n",
        "                                                                     f.name))\n",
        "    if rows != 28 or cols != 28:\n",
        "      raise ValueError(\n",
        "          'Invalid MNIST file %s: Expected 28x28 images, found %dx%d' %\n",
        "          (f.name, rows, cols))\n",
        "\n",
        "\n",
        "def check_labels_file_header(filename):\n",
        "  \"\"\"Validate that filename corresponds to labels for the MNIST dataset.\"\"\"\n",
        "  with tf.gfile.Open(filename, 'rb') as f:\n",
        "    magic = read32(f)\n",
        "    read32(f)  # num_items, unused\n",
        "    if magic != 2049:\n",
        "      raise ValueError('Invalid magic number %d in MNIST file %s' % (magic,\n",
        "                                                                     f.name))\n",
        "      \n",
        "def download(directory, filename):\n",
        "  \"\"\"Download (and unzip) a file from the MNIST dataset if not already done.\"\"\"\n",
        "  filepath = os.path.join(directory, filename)\n",
        "  if tf.gfile.Exists(filepath):\n",
        "    return filepath\n",
        "  if not tf.gfile.Exists(directory):\n",
        "    tf.gfile.MakeDirs(directory)\n",
        "  # CVDF mirror of http://yann.lecun.com/exdb/mnist/\n",
        "  url = 'https://storage.googleapis.com/cvdf-datasets/mnist/' + filename + '.gz'\n",
        "  _, zipped_filepath = tempfile.mkstemp(suffix='.gz')\n",
        "  print('Downloading %s to %s' % (url, zipped_filepath))\n",
        "  urllib.request.urlretrieve(url, zipped_filepath)\n",
        "  with gzip.open(zipped_filepath, 'rb') as f_in, \\\n",
        "      tf.gfile.Open(filepath, 'wb') as f_out:\n",
        "    shutil.copyfileobj(f_in, f_out)\n",
        "  os.remove(zipped_filepath)\n",
        "  return filepath\n",
        "\n",
        "\n",
        "def dataset(directory, images_file, labels_file):\n",
        "  \"\"\"Download and parse MNIST dataset.\"\"\"\n",
        "\n",
        "  images_file = download(directory, images_file)\n",
        "  labels_file = download(directory, labels_file)\n",
        "\n",
        "  check_image_file_header(images_file)\n",
        "  check_labels_file_header(labels_file)\n",
        "\n",
        "  def decode_image(image):\n",
        "    # Normalize from [0, 255] to [0.0, 1.0]\n",
        "    image = tf.decode_raw(image, tf.uint8)\n",
        "    image = tf.cast(image, tf.float32)\n",
        "    image = tf.reshape(image, [28, 28, 1])\n",
        "    return image / 255.0\n",
        "\n",
        "  def decode_label(label):\n",
        "    label = tf.decode_raw(label, tf.uint8)  # tf.string -> [tf.uint8]\n",
        "    label = tf.reshape(label, [])  # label is a scalar\n",
        "    return tf.to_int32(label)\n",
        "\n",
        "  images = tf.data.FixedLengthRecordDataset(\n",
        "      images_file, 28 * 28, header_bytes=16).map(decode_image)\n",
        "  labels = tf.data.FixedLengthRecordDataset(\n",
        "      labels_file, 1, header_bytes=8).map(decode_label)\n",
        "  return tf.data.Dataset.zip((images, labels))\n",
        "\n",
        "\n",
        "def get_training_data(directory):\n",
        "  \"\"\"tf.data.Dataset object for MNIST training data.\"\"\"\n",
        "  return dataset(directory, 'train-images-idx3-ubyte',\n",
        "                 'train-labels-idx1-ubyte').take(1024)\n",
        "\n",
        "def get_test_data(directory):\n",
        "  \"\"\"tf.data.Dataset object for MNIST test data.\"\"\"\n",
        "  return dataset(directory, 't10k-images-idx3-ubyte', 't10k-labels-idx1-ubyte')"
      ],
      "execution_count": 11,
      "outputs": []
    },
    {
      "metadata": {
        "id": "4ejmJ2dv_f0R",
        "colab_type": "code",
        "colab": {
          "base_uri": "https://localhost:8080/",
          "height": 85
        },
        "outputId": "274c0381-e505-4e69-f910-3def6f8572a7"
      },
      "cell_type": "code",
      "source": [
        "# Don't forget to run the cell above!\n",
        "training_data = get_training_data(\"/tmp/mnist/train\")\n",
        "test_data = get_test_data(\"/tmp/mnist/test\")"
      ],
      "execution_count": 12,
      "outputs": [
        {
          "output_type": "stream",
          "text": [
            "Downloading https://storage.googleapis.com/cvdf-datasets/mnist/train-images-idx3-ubyte.gz to /tmp/tmp4ull1xwa.gz\n",
            "Downloading https://storage.googleapis.com/cvdf-datasets/mnist/train-labels-idx1-ubyte.gz to /tmp/tmp1eikhj1v.gz\n",
            "Downloading https://storage.googleapis.com/cvdf-datasets/mnist/t10k-images-idx3-ubyte.gz to /tmp/tmpcp8xah9c.gz\n",
            "Downloading https://storage.googleapis.com/cvdf-datasets/mnist/t10k-labels-idx1-ubyte.gz to /tmp/tmpqww_1e74.gz\n"
          ],
          "name": "stdout"
        }
      ]
    },
    {
      "metadata": {
        "id": "TANpFS6GKLMC",
        "colab_type": "text"
      },
      "cell_type": "markdown",
      "source": [
        "Fill in the implementation of `train_one_epoch` below and run the cell to train your model. "
      ]
    },
    {
      "metadata": {
        "id": "btKL0Ss9_rmC",
        "colab_type": "code",
        "colab": {
          "base_uri": "https://localhost:8080/",
          "height": 102
        },
        "outputId": "56858516-86fc-424a-f00d-6f088f98bf9b"
      },
      "cell_type": "code",
      "source": [
        "EPOCHS = 5\n",
        "optimizer = tf.train.MomentumOptimizer(learning_rate=0.01, momentum=0.5)\n",
        "\n",
        "def loss_fn(logits, labels):\n",
        "  return tf.reduce_mean(\n",
        "      tf.nn.sparse_softmax_cross_entropy_with_logits(\n",
        "          logits=tf.squeeze(logits), labels=labels))\n",
        "\n",
        "def train_one_epoch(model, training_data, optimizer):\n",
        "  # TODO: Implement an optimization step and return the average loss.\n",
        "  #\n",
        "  # Hint: Use `tf.GradientTape` to compute the gradient of the loss, and use\n",
        "  # `optimizer.apply_gradients` to update the model's variables, which are\n",
        "  #  accessible as `model.variables`\n",
        "  average_loss = tfe.metrics.Mean('loss')\n",
        "  for images, labels in training_data.shuffle(buffer_size=10000).batch(64):\n",
        "    pass\n",
        "  return average_loss.result()\n",
        "\n",
        "for epoch in range(EPOCHS):\n",
        "  loss = train_one_epoch(model, training_data, optimizer)\n",
        "  print(\"Average loss after epoch %d: %.4f\" % (epoch, loss))"
      ],
      "execution_count": 14,
      "outputs": [
        {
          "output_type": "stream",
          "text": [
            "Average loss after epoch 0: 2.2847\n",
            "Average loss after epoch 1: 2.2305\n",
            "Average loss after epoch 2: 2.1334\n",
            "Average loss after epoch 3: 1.9115\n",
            "Average loss after epoch 4: 1.4285\n"
          ],
          "name": "stdout"
        }
      ]
    },
    {
      "metadata": {
        "id": "yAOFupJN_htg",
        "colab_type": "code",
        "colab": {
          "base_uri": "https://localhost:8080/",
          "height": 102
        },
        "outputId": "67e711e4-76c9-4e3f-bb49-a14955dba03a"
      },
      "cell_type": "code",
      "source": [
        "#@title Double-click to see a solution.\n",
        "EPOCHS = 5\n",
        "optimizer = tf.train.MomentumOptimizer(learning_rate=0.01, momentum=0.5)\n",
        "\n",
        "def _loss_fn(logits, labels):\n",
        "  return tf.reduce_mean(\n",
        "      tf.nn.sparse_softmax_cross_entropy_with_logits(\n",
        "          logits=tf.squeeze(logits), labels=labels))\n",
        "\n",
        "def _train_one_epoch(model, training_data):\n",
        "  average_loss = tfe.metrics.Mean(\"loss\")\n",
        "  for images, labels in training_data.shuffle(buffer_size=10000).batch(64):\n",
        "    with tf.GradientTape() as tape:\n",
        "      logits = model(images, training=True)\n",
        "      loss = _loss_fn(logits, labels)\n",
        "    average_loss(loss)\n",
        "    gradients = tape.gradient(loss, model.variables)\n",
        "    optimizer.apply_gradients(zip(gradients, model.variables))\n",
        "  return average_loss.result()\n",
        "   \n",
        "for epoch in range(EPOCHS):\n",
        "  loss = _train_one_epoch(model, training_data)\n",
        "  print(\"Average loss after epoch %d: %.4f\" % (epoch, loss))"
      ],
      "execution_count": 15,
      "outputs": [
        {
          "output_type": "stream",
          "text": [
            "Average loss after epoch 0: 1.0563\n",
            "Average loss after epoch 1: 0.8013\n",
            "Average loss after epoch 2: 0.6306\n",
            "Average loss after epoch 3: 0.5543\n",
            "Average loss after epoch 4: 0.5037\n"
          ],
          "name": "stdout"
        }
      ]
    },
    {
      "metadata": {
        "id": "uDy1DrYA_2Jz",
        "colab_type": "text"
      },
      "cell_type": "markdown",
      "source": [
        "Run the below cell to qualitatively evaluate your model. Note how eager execution interoperates seamlessly with `matplotlib`."
      ]
    },
    {
      "metadata": {
        "id": "vR7rMtpu_3nB",
        "colab_type": "code",
        "colab": {
          "base_uri": "https://localhost:8080/",
          "height": 1752
        },
        "outputId": "b212aefa-f4b3-425c-f34d-2491429fa521"
      },
      "cell_type": "code",
      "source": [
        "import matplotlib.pyplot as plt\n",
        "\n",
        "sampled_data = test_data.batch(1).shuffle(buffer_size=10000).take(5)\n",
        "for image, label in sampled_data:\n",
        "  plt.figure()\n",
        "  plt.imshow(tf.reshape(image, (28, 28)))\n",
        "  plt.show()\n",
        "  logits = model(image, training=False)\n",
        "  prediction = tf.argmax(logits, axis=1, output_type=tf.int64)\n",
        "  print(\"Prediction: %d\" % prediction)"
      ],
      "execution_count": 16,
      "outputs": [
        {
          "output_type": "display_data",
          "data": {
            "image/png": "[encoded data removed]",
            "text/plain": [
              "<matplotlib.figure.Figure at 0x7fd61cfd1e80>"
            ]
          },
          "metadata": {
            "tags": []
          }
        },
        {
          "output_type": "stream",
          "text": [
            "Prediction: 5\n"
          ],
          "name": "stdout"
        },
        {
          "output_type": "display_data",
          "data": {
            "image/png": "[encoded data removed]",
            "text/plain": [
              "<matplotlib.figure.Figure at 0x7fd61bade5c0>"
            ]
          },
          "metadata": {
            "tags": []
          }
        },
        {
          "output_type": "stream",
          "text": [
            "Prediction: 1\n"
          ],
          "name": "stdout"
        },
        {
          "output_type": "display_data",
          "data": {
            "image/png": "[encoded data removed]",
            "text/plain": [
              "<matplotlib.figure.Figure at 0x7fd6199ef278>"
            ]
          },
          "metadata": {
            "tags": []
          }
        },
        {
          "output_type": "stream",
          "text": [
            "Prediction: 4\n"
          ],
          "name": "stdout"
        },
        {
          "output_type": "display_data",
          "data": {
            "image/png": "[encoded data removed]",
            "text/plain": [
              "<matplotlib.figure.Figure at 0x7fd62944c6d8>"
            ]
          },
          "metadata": {
            "tags": []
          }
        },
        {
          "output_type": "stream",
          "text": [
            "Prediction: 1\n"
          ],
          "name": "stdout"
        },
        {
          "output_type": "display_data",
          "data": {
            "image/png": "[encoded data removed]",
            "text/plain": [
              "<matplotlib.figure.Figure at 0x7fd619a40b00>"
            ]
          },
          "metadata": {
            "tags": []
          }
        },
        {
          "output_type": "stream",
          "text": [
            "Prediction: 6\n"
          ],
          "name": "stdout"
        }
      ]
    },
    {
      "metadata": {
        "id": "4SJizeJtNaAs",
        "colab_type": "text"
      },
      "cell_type": "markdown",
      "source": [
        "# Profiling\n",
        "\n",
        "If you want to drill down into the performance characteristics of your code, you can use native Python profilers like [`cProfile`](https://docs.python.org/3/library/profile.html). In the next exercise, you'll do just that."
      ]
    },
    {
      "metadata": {
        "id": "_2v0QnG8__PJ",
        "colab_type": "text"
      },
      "cell_type": "markdown",
      "source": [
        "## Exercise!\n",
        "\n",
        "This exercise does not require coding. If you have not completed the training exercise, replace `train_one_epoch` below with `_train_one_epoch`.\n",
        "\n",
        "Run the below cell and inspect the printed profiles. What parts of the code appear to be hotspots or\n",
        "bottlenecks? How does sorting the profile by total time compare to sorting it\n",
        "by cumulative time?\n",
        "\n"
      ]
    },
    {
      "metadata": {
        "id": "IFypaYbG_9fB",
        "colab_type": "code",
        "colab": {
          "base_uri": "https://localhost:8080/",
          "height": 714
        },
        "outputId": "d9c3596b-a165-4edd-fc6b-53ccd0d01d19"
      },
      "cell_type": "code",
      "source": [
        "import cProfile\n",
        "import pstats\n",
        "\n",
        "cProfile.run(\"train_one_epoch(model, training_data, optimizer)\", \"training_profile\")\n",
        "\n",
        "stats = pstats.Stats(\"training_profile\").strip_dirs().sort_stats(\"tottime\")\n",
        "stats.print_stats(10)\n",
        "\n",
        "stats.sort_stats(\"cumtime\").print_stats(10)"
      ],
      "execution_count": 17,
      "outputs": [
        {
          "output_type": "stream",
          "text": [
            "Thu Jun  7 12:25:04 2018    training_profile\n",
            "\n",
            "         92209 function calls (91817 primitive calls) in 3.446 seconds\n",
            "\n",
            "   Ordered by: internal time\n",
            "   List reduced from 672 to 10 due to restriction <10>\n",
            "\n",
            "   ncalls  tottime  percall  cumtime  percall filename:lineno(function)\n",
            "     1080    2.552    0.002    2.552    0.002 {built-in method _pywrap_tensorflow_internal.TFE_Py_FastPathExecute}\n",
            "       83    0.753    0.009    0.753    0.009 {built-in method _pywrap_tensorflow_internal.TFE_Py_Execute}\n",
            "       16    0.006    0.000    1.019    0.064 network.py:736(_run_internal_graph)\n",
            "       16    0.005    0.000    2.253    0.141 {built-in method _pywrap_tensorflow_internal.TFE_Py_TapeGradient}\n",
            "     2321    0.004    0.000    0.007    0.000 abc.py:178(__instancecheck__)\n",
            "      288    0.004    0.000    0.009    0.000 inspect.py:2092(_signature_from_function)\n",
            "      878    0.004    0.000    0.005    0.000 ops.py:5936(__enter__)\n",
            "      288    0.004    0.000    0.016    0.000 inspect.py:1079(getfullargspec)\n",
            "    11006    0.003    0.000    0.005    0.000 {built-in method builtins.isinstance}\n",
            "      768    0.003    0.000    0.008    0.000 {built-in method _pywrap_tensorflow_internal.Flatten}\n",
            "\n",
            "\n",
            "Thu Jun  7 12:25:04 2018    training_profile\n",
            "\n",
            "         92209 function calls (91817 primitive calls) in 3.446 seconds\n",
            "\n",
            "   Ordered by: cumulative time\n",
            "   List reduced from 672 to 10 due to restriction <10>\n",
            "\n",
            "   ncalls  tottime  percall  cumtime  percall filename:lineno(function)\n",
            "        1    0.000    0.000    3.446    3.446 {built-in method builtins.exec}\n",
            "        1    0.000    0.000    3.446    3.446 <string>:1(<module>)\n",
            "        1    0.001    0.001    3.446    3.446 <ipython-input-14-bcffed60b545>:9(train_one_epoch)\n",
            "     1080    2.552    0.002    2.552    0.002 {built-in method _pywrap_tensorflow_internal.TFE_Py_FastPathExecute}\n",
            "       16    0.000    0.000    2.255    0.141 backprop.py:739(gradient)\n",
            "       16    0.000    0.000    2.253    0.141 imperative_grad.py:31(imperative_grad)\n",
            "       16    0.005    0.000    2.253    0.141 {built-in method _pywrap_tensorflow_internal.TFE_Py_TapeGradient}\n",
            "      400    0.002    0.000    2.246    0.006 backprop.py:145(grad_fn)\n",
            "      400    0.002    0.000    2.239    0.006 backprop.py:95(_magic_gradient_function)\n",
            "       32    0.001    0.000    1.601    0.050 nn_grad.py:497(_Conv2DGrad)\n",
            "\n",
            "\n"
          ],
          "name": "stdout"
        },
        {
          "output_type": "execute_result",
          "data": {
            "text/plain": [
              "<pstats.Stats at 0x7fd61f841710>"
            ]
          },
          "metadata": {
            "tags": []
          },
          "execution_count": 17
        }
      ]
    },
    {
      "metadata": {
        "id": "8ixpnyCNNTI4",
        "colab_type": "code",
        "colab": {}
      },
      "cell_type": "code",
      "source": [
        ""
      ],
      "execution_count": 0,
      "outputs": []
    }
  ]
}