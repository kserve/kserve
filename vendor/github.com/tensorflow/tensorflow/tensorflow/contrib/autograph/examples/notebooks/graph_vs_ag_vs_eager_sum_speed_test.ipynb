{
  "cells": [
    {
      "cell_type": "markdown",
      "metadata": {
        "colab_type": "text",
        "id": "moMkWaT_TTHi"
      },
      "source": [
        "This Colab illustrates the differing overhead* between a custom, vectorized graph operation and a loop over a tensor\n",
        "that computes the same function. The loop is implemented in TensorFlow Eager mode using Python syntax and control-flow, and using AutoGraph which takes a python function and converts it into graph mode. In AutoGraph the Python loop is converted into a tf.while_loop.\n",
        "\n",
        "The actual computation, summing a small number of scalar values, takes very little time to compute, so the graphs below are showing the overhead of the differing approaches. As such, this is more of a \"micro-benchmark\" than a representation of real-world performance of the three approaches.\n",
        "\n",
        "*Note the differing scales of the included plots"
      ]
    },
    {
      "cell_type": "markdown",
      "metadata": {
        "colab_type": "text",
        "id": "a0X_rfvuav98"
      },
      "source": [
        "### Imports"
      ]
    },
    {
      "cell_type": "code",
      "execution_count": 0,
      "metadata": {
        "colab": {
          "autoexec": {
            "startup": false,
            "wait_interval": 0
          }
        },
        "colab_type": "code",
        "id": "EdxWv4Vn0ync"
      },
      "outputs": [],
      "source": [
        "!pip install -U -q tf-nightly"
      ]
    },
    {
      "cell_type": "code",
      "execution_count": 0,
      "metadata": {
        "colab": {
          "autoexec": {
            "startup": false,
            "wait_interval": 0
          }
        },
        "colab_type": "code",
        "id": "erq3_S7QsjkU"
      },
      "outputs": [],
      "source": [
        "from __future__ import absolute_import\n",
        "from __future__ import division\n",
        "from __future__ import print_function\n",
        "\n",
        "import numpy as np\n",
        "import tensorflow as tf\n",
        "import matplotlib.pyplot as plt\n",
        "import math\n",
        "import time\n",
        "import random\n",
        "from colabtools import adhoc_import\n",
        "from tensorflow.contrib import autograph as ag\n",
        "from tensorflow.python.framework import function"
      ]
    },
    {
      "cell_type": "markdown",
      "metadata": {
        "colab_type": "text",
        "id": "1JgnsXooa2RP"
      },
      "source": [
        "### Testing boilerplate"
      ]
    },
    {
      "cell_type": "code",
      "execution_count": 0,
      "metadata": {
        "colab": {
          "autoexec": {
            "startup": false,
            "wait_interval": 0
          }
        },
        "colab_type": "code",
        "id": "UyD5LLjVZzny"
      },
      "outputs": [],
      "source": [
        "# Test-only parameters. Test checks successful completion not correctness. \n",
        "burn_ins = 1\n",
        "trials = 1\n",
        "batches = 2\n",
        "max_elements = 2"
      ]
    },
    {
      "cell_type": "markdown",
      "metadata": {
        "colab_type": "text",
        "id": "4_NBL0RQa8gY"
      },
      "source": [
        "### Speed comparison parameters"
      ]
    },
    {
      "cell_type": "code",
      "execution_count": 0,
      "metadata": {
        "colab": {
          "autoexec": {
            "startup": false,
            "wait_interval": 0
          }
        },
        "colab_type": "code",
        "id": "Yq6daecyiJV5"
      },
      "outputs": [],
      "source": [
        "#@test {\"skip\": true} \n",
        "burn_ins = 3 # Batches not counted in the average\n",
        "trials = 10 # Batches run per vector-size (and averaged)\n",
        "batches = 1000 # Number of random vectors summed over per trial\n",
        "max_elements = 100 # Vectors of size 0 to this-1 will be executed and plotted"
      ]
    },
    {
      "cell_type": "markdown",
      "metadata": {
        "colab_type": "text",
        "id": "fiR8m13CbKH2"
      },
      "source": [
        "### Random input"
      ]
    },
    {
      "cell_type": "code",
      "execution_count": 0,
      "metadata": {
        "colab": {
          "autoexec": {
            "startup": false,
            "wait_interval": 0
          }
        },
        "colab_type": "code",
        "id": "d8vrTlyNXuxc"
      },
      "outputs": [],
      "source": [
        "# Construct a random num x 1 tensor\n",
        "def get_elements(num):\n",
        "  return tf.random_uniform(shape=(num, 1), maxval=1)"
      ]
    },
    {
      "cell_type": "markdown",
      "metadata": {
        "colab_type": "text",
        "id": "ILJ6SbF3bXFQ"
      },
      "source": [
        "## Graph mode"
      ]
    },
    {
      "cell_type": "code",
      "execution_count": 0,
      "metadata": {
        "colab": {
          "autoexec": {
            "startup": false,
            "wait_interval": 0
          }
        },
        "colab_type": "code",
        "id": "vovRf597X55n"
      },
      "outputs": [],
      "source": [
        "def tf_sum(elements):\n",
        "  # Using custom vectorized op\n",
        "  return tf.reduce_sum(elements)\n",
        "\n",
        "def run_trial(num):\n",
        "  elements = get_elements(num)\n",
        "  return tf_sum(elements)\n",
        "\n",
        "\n",
        "\n",
        "graph_means = []\n",
        "for num in range(max_elements):\n",
        "  with tf.Graph().as_default():\n",
        "    durations = []\n",
        "    foo = run_trial(num)\n",
        "  \n",
        "    with tf.Session() as sess:\n",
        "      \n",
        "      for _ in range(burn_ins):\n",
        "        for _ in range(batches):\n",
        "          sess.run(foo)\n",
        "      \n",
        "      for _ in range(trials):\n",
        "      \n",
        "        start = time.time()\n",
        "        for _ in range(batches):\n",
        "          sess.run(foo)\n",
        "      \n",
        "        duration = time.time() - start\n",
        "        durations.append(duration)    \n",
        "      \n",
        "    graph_means.append(np.mean(durations))  "
      ]
    },
    {
      "cell_type": "code",
      "execution_count": 0,
      "metadata": {
        "colab": {
          "autoexec": {
            "startup": false,
            "wait_interval": 0
          },
          "height": 301
        },
        "colab_type": "code",
        "executionInfo": {
          "elapsed": 278,
          "status": "ok",
          "timestamp": 1532447361278,
          "user": {
            "displayName": "",
            "photoUrl": "",
            "userId": ""
          },
          "user_tz": 240
        },
        "id": "Jm9Blkyx90Eq",
        "outputId": "d83cd51f-7e56-4d73-f7df-bb157dee46df"
      },
      "outputs": [
        {
          "data": {
            "image/png": "[encoded data removed]",
            "text/plain": [
              "\u003cmatplotlib.figure.Figure at 0x7f47b20dd690\u003e"
            ]
          },
          "metadata": {
            "tags": []
          },
          "output_type": "display_data"
        }
      ],
      "source": [
        "plt.plot(graph_means)\n",
        "plt.ylabel('Time (seconds)')\n",
        "plt.xlabel('Length of vector')\n",
        "_ = plt.title('Time to sum the elements of 1000 vectors (vectorized TF operation)')\n",
        "_ = plt.ylim(ymin=0)"
      ]
    },
    {
      "cell_type": "markdown",
      "metadata": {
        "colab_type": "text",
        "id": "4KZg2WXjbhg5"
      },
      "source": [
        "## AutoGraph"
      ]
    },
    {
      "cell_type": "code",
      "execution_count": 0,
      "metadata": {
        "colab": {
          "autoexec": {
            "startup": false,
            "wait_interval": 0
          }
        },
        "colab_type": "code",
        "id": "UQJBQWbCbinm"
      },
      "outputs": [],
      "source": [
        "# Sum written using for loop and converted with AutoGraph\n",
        "def sum_all(elements):\n",
        "  sum_ = 0.0\n",
        "  length = len(elements)\n",
        "  for i in tf.range(length): \n",
        "    sum_ += elements[i][0]\n",
        "  return sum_\n",
        "\n",
        "def run_trial(num):\n",
        "  elements = get_elements(num)\n",
        "  return sum_all(elements)\n",
        "    \n",
        "ag_means = []\n",
        "ag_run_trial = ag.to_graph(run_trial)\n",
        "\n",
        "for num in range(max_elements):\n",
        "  with tf.Graph().as_default():\n",
        "    durations = []\n",
        "    foo = ag_run_trial(num)\n",
        "    with tf.Session() as sess:\n",
        "      for _ in range(burn_ins):\n",
        "        for _ in range(batches):\n",
        "          sess.run(foo)\n",
        "        \n",
        "      for _ in range(trials):\n",
        "        start = time.time()\n",
        "        for _ in range(batches):\n",
        "          sess.run(foo)\n",
        "      \n",
        "        duration = time.time() - start\n",
        "        durations.append(duration)\n",
        "    ag_means.append(np.mean(durations))"
      ]
    },
    {
      "cell_type": "code",
      "execution_count": 0,
      "metadata": {
        "colab": {
          "autoexec": {
            "startup": false,
            "wait_interval": 0
          },
          "height": 301
        },
        "colab_type": "code",
        "executionInfo": {
          "elapsed": 310,
          "status": "ok",
          "timestamp": 1532448438694,
          "user": {
            "displayName": "",
            "photoUrl": "",
            "userId": ""
          },
          "user_tz": 240
        },
        "id": "DLDOmrRW99v5",
        "outputId": "ae0e0573-39db-4004-a064-efc618dbf867"
      },
      "outputs": [
        {
          "data": {
            "image/png": "[encoded data removed]",
            "text/plain": [
              "\u003cmatplotlib.figure.Figure at 0x7f47b218dbd0\u003e"
            ]
          },
          "metadata": {
            "tags": []
          },
          "output_type": "display_data"
        }
      ],
      "source": [
        "plt.plot(ag_means)\n",
        "plt.ylabel('Time(s)')\n",
        "plt.xlabel('Length of vector')\n",
        "_ = plt.title('Time to sum the elements of 1000 vectors (AutoGraph)')\n",
        "_ = plt.ylim(ymin=0)"
      ]
    },
    {
      "cell_type": "markdown",
      "metadata": {
        "colab_type": "text",
        "id": "d7IAJ6Bwbk9t"
      },
      "source": [
        "## Eager"
      ]
    },
    {
      "cell_type": "code",
      "execution_count": 0,
      "metadata": {
        "colab": {
          "autoexec": {
            "startup": false,
            "wait_interval": 0
          }
        },
        "colab_type": "code",
        "id": "XMu5-12yoOzY"
      },
      "outputs": [],
      "source": [
        "from tensorflow.python.eager import context"
      ]
    },
    {
      "cell_type": "code",
      "execution_count": 0,
      "metadata": {
        "colab": {
          "autoexec": {
            "startup": false,
            "wait_interval": 0
          }
        },
        "colab_type": "code",
        "id": "_vt9MzpyjQ4T"
      },
      "outputs": [],
      "source": [
        "# Sum written using for loop and run with tf.eager\n",
        "def sum_all(elements):\n",
        "  sum_ = 0.0\n",
        "  length = elements.shape[0]\n",
        "  for i in tf.range(length): \n",
        "    sum_ += elements[i][0]\n",
        "  return sum_\n",
        "\n",
        "eager_means = []\n",
        "for num in range(max_elements):\n",
        "  with context.eager_mode():\n",
        "    durations = []\n",
        "    for i in range(trials + burn_ins):\n",
        "      \n",
        "      start = time.time()\n",
        "      for _ in range(batches):\n",
        "        run_trial(num)\n",
        "      \n",
        "      if i \u003c burn_ins:\n",
        "        continue\n",
        "      \n",
        "      duration = time.time() - start\n",
        "      durations.append(duration)\n",
        "    eager_means.append(np.mean(durations))"
      ]
    },
    {
      "cell_type": "code",
      "execution_count": 0,
      "metadata": {
        "colab": {
          "autoexec": {
            "startup": false,
            "wait_interval": 0
          },
          "height": 301
        },
        "colab_type": "code",
        "executionInfo": {
          "elapsed": 422,
          "status": "ok",
          "timestamp": 1532460024499,
          "user": {
            "displayName": "",
            "photoUrl": "",
            "userId": ""
          },
          "user_tz": 240
        },
        "id": "5gHVdMlD-A-T",
        "outputId": "3b581cb7-7ef9-489c-92f1-3e52c0c2dc8a"
      },
      "outputs": [
        {
          "data": {
            "image/png": "[encoded data removed]",
            "text/plain": [
              "\u003cmatplotlib.figure.Figure at 0x7f47b8e3bd90\u003e"
            ]
          },
          "metadata": {
            "tags": []
          },
          "output_type": "display_data"
        }
      ],
      "source": [
        "plt.plot(eager_means)\n",
        "plt.ylabel('Time(s)')\n",
        "plt.xlabel('Length of vector')\n",
        "_ = plt.title('Time to sum the elements of 1000 vectors (Eager)')\n",
        "_ = plt.ylim(ymin=0)"
      ]
    }
  ],
  "metadata": {
    "colab": {
      "collapsed_sections": [],
      "default_view": {},
      "name": "Autograph vs. Eager vs Graph sum",
      "provenance": [
        {
          "file_id": "1olZkm32B7n7pQwlIAXR0_w8fZhRHCtkX",
          "timestamp": 1531755808890
        }
      ],
      "version": "0.3.2",
      "views": {}
    }
  },
  "nbformat": 4,
  "nbformat_minor": 0
}
