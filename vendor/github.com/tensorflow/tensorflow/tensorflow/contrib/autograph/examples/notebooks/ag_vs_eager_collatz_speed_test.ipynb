{
  "cells": [
    {
      "cell_type": "markdown",
      "metadata": {
        "colab_type": "text",
        "id": "aQkTGc-d8I1k"
      },
      "source": [
        "This notebook runs a basic speed test for a simple algorithm that implements the process described in Collatz Conjecture.\n",
        "\n",
        "https://en.wikipedia.org/wiki/Collatz_conjecture"
      ]
    },
    {
      "cell_type": "markdown",
      "metadata": {
        "colab_type": "text",
        "id": "x5ChBlH09jk_"
      },
      "source": [
        "### Imports"
      ]
    },
    {
      "cell_type": "code",
      "execution_count": 0,
      "metadata": {
        "colab": {
          "autoexec": {
            "startup": false,
            "wait_interval": 0
          }
        },
        "colab_type": "code",
        "id": "X-QAUpWdPxUh"
      },
      "outputs": [],
      "source": [
        "!pip install -U -q tf-nightly"
      ]
    },
    {
      "cell_type": "code",
      "execution_count": 0,
      "metadata": {
        "colab": {
          "autoexec": {
            "startup": false,
            "wait_interval": 0
          }
        },
        "colab_type": "code",
        "id": "wiKQu3w05eCa"
      },
      "outputs": [],
      "source": [
        "import numpy as np\n",
        "from matplotlib import pyplot as plt\n",
        "import tensorflow as tf\n",
        "from tensorflow.contrib import autograph as ag\n",
        "from tensorflow.python.eager import context"
      ]
    },
    {
      "cell_type": "markdown",
      "metadata": {
        "colab_type": "text",
        "id": "_cRFTcwT9mnn"
      },
      "source": [
        "### Plotting helpers"
      ]
    },
    {
      "cell_type": "code",
      "execution_count": 0,
      "metadata": {
        "colab": {
          "autoexec": {
            "startup": false,
            "wait_interval": 0
          }
        },
        "colab_type": "code",
        "id": "ww7rc0GQ9pMu"
      },
      "outputs": [],
      "source": [
        "def plot_results(counts, times, title):\n",
        "  plt.plot(counts, np.array(times) * 1000., 'o')\n",
        "  plt.ylabel('Time (milliseconds)')\n",
        "  plt.xlabel('Collatz counter')\n",
        "  plt.title(title)\n",
        "  plt.ylim(0, 30)\n"
      ]
    },
    {
      "cell_type": "markdown",
      "metadata": {
        "colab_type": "text",
        "id": "ESZGw9s9-Y5_"
      },
      "source": [
        "### Collatz function definition"
      ]
    },
    {
      "cell_type": "code",
      "execution_count": 0,
      "metadata": {
        "colab": {
          "autoexec": {
            "startup": false,
            "wait_interval": 0
          }
        },
        "colab_type": "code",
        "id": "qeunWm9m-dT7"
      },
      "outputs": [],
      "source": [
        "def collatz(a):\n",
        "  count = 0\n",
        "  while a \u003e 1.1:\n",
        "    if a % 2 \u003c 0.1:\n",
        "      a //= 2\n",
        "    else:\n",
        "      a = 3 * a + 1\n",
        "    count += 1\n",
        "  return count\n"
      ]
    },
    {
      "cell_type": "markdown",
      "metadata": {
        "colab_type": "text",
        "id": "nnFmPDvScsDo"
      },
      "source": [
        "# AutoGraph"
      ]
    },
    {
      "cell_type": "code",
      "execution_count": 5,
      "metadata": {
        "colab": {
          "autoexec": {
            "startup": false,
            "wait_interval": 0
          },
          "height": 301
        },
        "colab_type": "code",
        "executionInfo": {
          "elapsed": 9153,
          "status": "ok",
          "timestamp": 1531757473651,
          "user": {
            "displayName": "",
            "photoUrl": "",
            "userId": ""
          },
          "user_tz": 240
        },
        "id": "6fU4vlxYcsDe",
        "outputId": "11b50f28-aced-4506-a743-4b749e9645c3"
      },
      "outputs": [
        {
          "data": {
            "image/png": "[encoded data removed]",
            "text/plain": [
              "\u003cmatplotlib.figure.Figure at 0x7fc3b259add0\u003e"
            ]
          },
          "metadata": {
            "tags": []
          },
          "output_type": "display_data"
        }
      ],
      "source": [
        "counts = []\n",
        "times = []\n",
        "for n in np.logspace(0, 7, 50):\n",
        "\n",
        "  with tf.Graph().as_default():\n",
        "    tf_collatz = ag.to_graph(collatz)\n",
        "    count = tf_collatz(tf.constant(n, dtype=tf.float32))\n",
        "    with tf.Session() as sess:\n",
        "      count_value = sess.run(count)\n",
        "\n",
        "      res = %timeit -n10 -r1 -o -q sess.run(count)\n",
        "      counts.append(count_value)\n",
        "      times.append(res.best)\n",
        "      \n",
        "plot_results(counts, times, 'AutoGraph')"
      ]
    },
    {
      "cell_type": "markdown",
      "metadata": {
        "colab_type": "text",
        "id": "RRENYzLRF_f3"
      },
      "source": [
        "# Eager"
      ]
    },
    {
      "cell_type": "code",
      "execution_count": 6,
      "metadata": {
        "colab": {
          "autoexec": {
            "startup": false,
            "wait_interval": 0
          },
          "height": 301
        },
        "colab_type": "code",
        "executionInfo": {
          "elapsed": 5003,
          "status": "ok",
          "timestamp": 1531757478713,
          "user": {
            "displayName": "",
            "photoUrl": "",
            "userId": ""
          },
          "user_tz": 240
        },
        "id": "dhDf8LLdF_f-",
        "outputId": "3de0a5a5-7a11-4b41-8ab0-e4e21ce8d59b"
      },
      "outputs": [
        {
          "data": {
            "image/png": "[encoded data removed]",
            "text/plain": [
              "\u003cmatplotlib.figure.Figure at 0x7fc3af690a50\u003e"
            ]
          },
          "metadata": {
            "tags": []
          },
          "output_type": "display_data"
        }
      ],
      "source": [
        "with context.eager_mode():\n",
        "\n",
        "  counts = []\n",
        "  times = []  \n",
        "  for n in np.logspace(0, 7, 50):\n",
        "\n",
        "    n_tensor = tf.constant(n, dtype=tf.float32)\n",
        "    count = collatz(n_tensor)\n",
        "\n",
        "    res = %timeit -n10 -r1 -o -q collatz(n_tensor)\n",
        "    times.append(res.best)\n",
        "    counts.append(count)\n",
        "      \n",
        "plot_results(counts, times, 'Eager')\n"
      ]
    }
  ],
  "metadata": {
    "colab": {
      "collapsed_sections": [
        "x5ChBlH09jk_",
        "_cRFTcwT9mnn"
      ],
      "default_view": {},
      "last_runtime": {
        "build_target": "",
        "kind": "local"
      },
      "name": "Autograph vs. Eager Collatz speed test",
      "provenance": [
        {
          "file_id": "0B8bm7KvwJklpMUQtbnVpYkdJUjRtOTRyWVVfSEhpRl9HYm5n",
          "timestamp": 1531512047714
        }
      ],
      "version": "0.3.2",
      "views": {}
    },
    "kernelspec": {
      "display_name": "Python 3",
      "language": "python",
      "name": "python3"
    }
  },
  "nbformat": 4,
  "nbformat_minor": 0
}
