{
  "cells": [
    {
      "cell_type": "markdown",
      "metadata": {
        "colab_type": "text",
        "id": "g7nGs4mzVUHP"
      },
      "source": [
        "# Experimental: TF AutoGraph\n",
        "**TensorFlow Dev Summit, 2018.**\n",
        "\n",
        "This interactive notebook demonstrates **AutoGraph**, an experimental source-code transformation library to automatically convert Python, TensorFlow and NumPy code to TensorFlow graphs.\n",
        "\n",
        "**Note: this is pre-alpha software!** The notebook works best with Python 2, for now.\n",
        "\n",
        "\u003e ![alt text](https://lh3.googleusercontent.com/QOvy0clmg7siaVKzwmSPAjicWWNQ0OeyaB16plDjSJMf35WD3vLjF6mz4CGrhSHw60HnlZPJjkyDCBzw5XOI0oBGSewyYw=s688)\n",
        "\n",
        "### Table of Contents\n",
        "1. _Write Eager code that is fast and scalable._\n",
        "2. _Case study: complex control flow._\n",
        "3. _Case study: training MNIST with Keras._\n",
        "4. _Case study: building an RNN._"
      ]
    },
    {
      "cell_type": "code",
      "execution_count": 0,
      "metadata": {
        "colab": {
          "autoexec": {
            "startup": false,
            "wait_interval": 0
          }
        },
        "colab_type": "code",
        "id": "uFcgBENZqkB2"
      },
      "outputs": [],
      "source": [
        "# Install TensorFlow; note that Colab notebooks run remotely, on virtual\n",
        "# instances provided by Google.\n",
        "!pip install -U -q tf-nightly"
      ]
    },
    {
      "cell_type": "code",
      "execution_count": 0,
      "metadata": {
        "colab": {
          "autoexec": {
            "startup": false,
            "wait_interval": 0
          }
        },
        "colab_type": "code",
        "id": "Pa2qpEmoVOGe"
      },
      "outputs": [],
      "source": [
        "import os\n",
        "import time\n",
        "\n",
        "import tensorflow as tf\n",
        "from tensorflow.contrib import autograph\n",
        "\n",
        "import matplotlib.pyplot as plt\n",
        "import numpy as np\n",
        "import six\n",
        "\n",
        "from google.colab import widgets"
      ]
    },
    {
      "cell_type": "markdown",
      "metadata": {
        "colab_type": "text",
        "id": "ZVKfj5ttVkqz"
      },
      "source": [
        "# 1. Write Eager code that is fast and scalable\n",
        "\n",
        "TF.Eager gives you more flexibility while coding, but at the cost of losing the benefits of TensorFlow graphs. For example, Eager does not currently support distributed training, exporting models, and a variety of memory and computation optimizations.\n",
        "\n",
        "AutoGraph gives you the best of both worlds: you can write your code in an Eager style, and we will automatically transform it into the equivalent TF graph code. The graph code can be executed eagerly (as a single op), included as part of a larger graph, or exported."
      ]
    },
    {
      "cell_type": "markdown",
      "metadata": {
        "colab_type": "text",
        "id": "snaZRFdWd9ym"
      },
      "source": [
        "For example, AutoGraph can convert a function like this:"
      ]
    },
    {
      "cell_type": "code",
      "execution_count": 0,
      "metadata": {
        "colab": {
          "autoexec": {
            "startup": false,
            "wait_interval": 0
          }
        },
        "colab_type": "code",
        "id": "9__n8cSIeDnD"
      },
      "outputs": [],
      "source": [
        "def g(x):\n",
        "  if x \u003e 0:\n",
        "    x = x * x\n",
        "  else:\n",
        "    x = 0\n",
        "  return x"
      ]
    },
    {
      "cell_type": "markdown",
      "metadata": {
        "colab_type": "text",
        "id": "gq0eQcuReHET"
      },
      "source": [
        "... into a TF graph-building function:"
      ]
    },
    {
      "cell_type": "code",
      "execution_count": 0,
      "metadata": {
        "colab": {
          "autoexec": {
            "startup": false,
            "wait_interval": 0
          },
          "height": 431
        },
        "colab_type": "code",
        "executionInfo": {
          "elapsed": 69,
          "status": "ok",
          "timestamp": 1531750911837,
          "user": {
            "displayName": "",
            "photoUrl": "",
            "userId": ""
          },
          "user_tz": 240
        },
        "id": "sELSn599ePUF",
        "outputId": "2858bde5-ae05-4c32-be01-7770ac914f02"
      },
      "outputs": [
        {
          "name": "stdout",
          "output_type": "stream",
          "text": [
            "from __future__ import print_function\n",
            "import tensorflow as tf\n",
            "\n",
            "def tf__g(x):\n",
            "  try:\n",
            "    with tf.name_scope('g'):\n",
            "\n",
            "      def if_true():\n",
            "        with tf.name_scope('if_true'):\n",
            "          x_1, = x,\n",
            "          x_1 = x_1 * x_1\n",
            "          return x_1,\n",
            "\n",
            "      def if_false():\n",
            "        with tf.name_scope('if_false'):\n",
            "          x_2, = x,\n",
            "          x_2 = 0\n",
            "          return x_2,\n",
            "      x = ag__.utils.run_cond(tf.greater(x, 0), if_true, if_false)\n",
            "      return x\n",
            "  except:\n",
            "    ag__.rewrite_graph_construction_error(ag_source_map__)\n",
            "\n"
          ]
        }
      ],
      "source": [
        "print(autograph.to_code(g))"
      ]
    },
    {
      "cell_type": "markdown",
      "metadata": {
        "colab_type": "text",
        "id": "j74n-8hEe6dk"
      },
      "source": [
        "You can then use the converted function as you would any regular TF op -- you can pass `Tensor` arguments and it will return `Tensor`s:"
      ]
    },
    {
      "cell_type": "code",
      "execution_count": 0,
      "metadata": {
        "colab": {
          "autoexec": {
            "startup": false,
            "wait_interval": 0
          },
          "height": 53
        },
        "colab_type": "code",
        "executionInfo": {
          "elapsed": 83,
          "status": "ok",
          "timestamp": 1531750911965,
          "user": {
            "displayName": "",
            "photoUrl": "",
            "userId": ""
          },
          "user_tz": 240
        },
        "id": "AkVaY0-dfEbH",
        "outputId": "f04541ad-b1d3-4663-bf27-4d902648283d"
      },
      "outputs": [
        {
          "name": "stdout",
          "output_type": "stream",
          "text": [
            "g(9) = 81\n",
            "tf_g(9) = 81\n"
          ]
        }
      ],
      "source": [
        "tf_g = autograph.to_graph(g)\n",
        "\n",
        "with tf.Graph().as_default():  \n",
        "\n",
        "  g_ops = tf_g(tf.constant(9))\n",
        "\n",
        "  with tf.Session() as sess:\n",
        "    tf_g_result = sess.run(g_ops)\n",
        "\n",
        "  print('g(9) = %s' % g(9))\n",
        "  print('tf_g(9) = %s' % tf_g_result)"
      ]
    },
    {
      "cell_type": "markdown",
      "metadata": {
        "colab_type": "text",
        "id": "trrHQBM1VnD0"
      },
      "source": [
        "# 2. Case study: complex control flow\n",
        "\n",
        "Autograph can convert a large subset of the Python language into graph-equivalent code, and we're adding new supported language features all the time. In this section, we'll give you a taste of some of the functionality in AutoGraph.\n",
        "AutoGraph will automatically convert most Python control flow statements into their graph equivalent.\n",
        "  "
      ]
    },
    {
      "cell_type": "markdown",
      "metadata": {
        "colab_type": "text",
        "id": "u0YG3DPgZxoW"
      },
      "source": [
        "We support common statements like `while`, `for`, `if`, `break`, `return` and more. You can even nest them as much as you like. Imagine trying to write the graph version of this code by hand:"
      ]
    },
    {
      "cell_type": "code",
      "execution_count": 0,
      "metadata": {
        "colab": {
          "autoexec": {
            "startup": false,
            "wait_interval": 0
          },
          "height": 35
        },
        "colab_type": "code",
        "executionInfo": {
          "elapsed": 169,
          "status": "ok",
          "timestamp": 1531750912183,
          "user": {
            "displayName": "",
            "photoUrl": "",
            "userId": ""
          },
          "user_tz": 240
        },
        "id": "xJYDzOcrZ8pI",
        "outputId": "f392b475-bf87-4d90-919d-44f895ee9fc7"
      },
      "outputs": [
        {
          "name": "stdout",
          "output_type": "stream",
          "text": [
            "Sum of even numbers: 42\n"
          ]
        }
      ],
      "source": [
        "def sum_even(numbers):\n",
        "  s = 0\n",
        "  for n in numbers:\n",
        "    if n % 2 \u003e 0:\n",
        "      continue\n",
        "    s += n\n",
        "  return s\n",
        "\n",
        "\n",
        "tf_sum_even = autograph.to_graph(sum_even)\n",
        "\n",
        "with tf.Graph().as_default():  \n",
        "  with tf.Session() as sess:\n",
        "    result = sess.run(tf_sum_even(tf.constant([10, 12, 15, 20])))\n",
        "\n",
        "  print('Sum of even numbers: %s' % result)\n",
        "  \n",
        "# Uncomment the line below to print the generated graph code\n",
        "# print(autograph.to_code(sum_even))"
      ]
    },
    {
      "cell_type": "markdown",
      "metadata": {
        "colab_type": "text",
        "id": "_YXo4KOcbKrn"
      },
      "source": [
        "Try replacing the `continue` in the above code with `break` -- Autograph supports that as well!"
      ]
    },
    {
      "cell_type": "markdown",
      "metadata": {
        "colab_type": "text",
        "id": "xHmC0rBIavW_"
      },
      "source": [
        "The Python code above is much more readable than the matching graph code. Autograph takes care of tediously converting every piece of Python code into the matching TensorFlow graph version for you, so that you can quickly write maintainable code, but still benefit from the optimizations and deployment benefits of graphs."
      ]
    },
    {
      "cell_type": "markdown",
      "metadata": {
        "colab_type": "text",
        "id": "UEHWGpBXbS7g"
      },
      "source": [
        "Let's try some other useful Python constructs, like `print` and `assert`. We automatically convert Python `assert` statements into the equivalent `tf.Assert` code.  "
      ]
    },
    {
      "cell_type": "code",
      "execution_count": 0,
      "metadata": {
        "colab": {
          "autoexec": {
            "startup": false,
            "wait_interval": 0
          },
          "height": 53
        },
        "colab_type": "code",
        "executionInfo": {
          "elapsed": 56,
          "status": "ok",
          "timestamp": 1531750912292,
          "user": {
            "displayName": "",
            "photoUrl": "",
            "userId": ""
          },
          "user_tz": 240
        },
        "id": "qUU57xlEbauI",
        "outputId": "c9cd536a-4a95-4eb0-98c0-aafce5d79580"
      },
      "outputs": [
        {
          "name": "stdout",
          "output_type": "stream",
          "text": [
            "Got error message: assertion failed: [Do not pass zero!]\n",
            "\t [[{{node f/Assert/Assert}} = Assert[T=[DT_STRING], summarize=3, _device=\"/job:localhost/replica:0/task:0/device:CPU:0\"](f/NotEqual, f/Assert/Assert/data_0)]]\n"
          ]
        }
      ],
      "source": [
        "def f(x):\n",
        "  assert x != 0, 'Do not pass zero!'\n",
        "  return x * x\n",
        "\n",
        "tf_f = autograph.to_graph(f)\n",
        "with tf.Graph().as_default():  \n",
        "  with tf.Session() as sess:\n",
        "    try:\n",
        "      print(sess.run(tf_f(tf.constant(0))))\n",
        "    except tf.errors.InvalidArgumentError as e:\n",
        "      print('Got error message: %s' % e.message)\n",
        "      \n",
        "# Uncomment the line below to print the generated graph code\n",
        "# print(autograph.to_code(f))"
      ]
    },
    {
      "cell_type": "markdown",
      "metadata": {
        "colab_type": "text",
        "id": "w5hBZaVJbck4"
      },
      "source": [
        "You can also use `print` functions in-graph:"
      ]
    },
    {
      "cell_type": "code",
      "execution_count": 0,
      "metadata": {
        "colab": {
          "autoexec": {
            "startup": false,
            "wait_interval": 0
          }
        },
        "colab_type": "code",
        "id": "6NdzRKLEboRv"
      },
      "outputs": [],
      "source": [
        "def print_sign(n):\n",
        "  if n \u003e= 0:\n",
        "    print(n, 'is positive!')\n",
        "  else:\n",
        "    print(n, 'is negative!')\n",
        "  return n\n",
        "\n",
        "\n",
        "tf_print_sign = autograph.to_graph(print_sign)\n",
        "with tf.Graph().as_default():\n",
        "  with tf.Session() as sess:\n",
        "    sess.run(tf_print_sign(tf.constant(1)))\n",
        "    \n",
        "# Uncomment the line below to print the generated graph code\n",
        "# print(autograph.to_code(print_sign))"
      ]
    },
    {
      "cell_type": "markdown",
      "metadata": {
        "colab_type": "text",
        "id": "9u_Z3i3AivLA"
      },
      "source": [
        "Appending to lists also works, with a few modifications:"
      ]
    },
    {
      "cell_type": "code",
      "execution_count": 0,
      "metadata": {
        "colab": {
          "autoexec": {
            "startup": false,
            "wait_interval": 0
          },
          "height": 35
        },
        "colab_type": "code",
        "executionInfo": {
          "elapsed": 148,
          "status": "ok",
          "timestamp": 1531750912595,
          "user": {
            "displayName": "",
            "photoUrl": "",
            "userId": ""
          },
          "user_tz": 240
        },
        "id": "MjhCQJVuiTNR",
        "outputId": "96bf9131-c7c1-4359-ee82-9c38575e7ab4"
      },
      "outputs": [
        {
          "name": "stdout",
          "output_type": "stream",
          "text": [
            "[0 1 2 3 4]\n"
          ]
        }
      ],
      "source": [
        "def f(n):\n",
        "  numbers = []\n",
        "  # We ask you to tell us about the element dtype.\n",
        "  autograph.set_element_type(numbers, tf.int32)\n",
        "  for i in range(n):\n",
        "    numbers.append(i)\n",
        "  return autograph.stack(numbers) # Stack the list so that it can be used as a Tensor\n",
        "\n",
        "\n",
        "tf_f = autograph.to_graph(f)\n",
        "with tf.Graph().as_default():\n",
        "  with tf.Session() as sess:\n",
        "    print(sess.run(tf_f(tf.constant(5))))\n",
        "    \n",
        "# Uncomment the line below to print the generated graph code\n",
        "# print(autograph.to_code(f))"
      ]
    },
    {
      "cell_type": "markdown",
      "metadata": {
        "colab_type": "text",
        "id": "UdG8ZFrkTAF2"
      },
      "source": [
        "And all of these functionalities, and more, can be composed into more complicated code:\n"
      ]
    },
    {
      "cell_type": "code",
      "execution_count": 0,
      "metadata": {
        "cellView": "code",
        "colab": {
          "autoexec": {
            "startup": false,
            "wait_interval": 0
          },
          "height": 53
        },
        "colab_type": "code",
        "executionInfo": {
          "elapsed": 555,
          "status": "ok",
          "timestamp": 1531750913176,
          "user": {
            "displayName": "",
            "photoUrl": "",
            "userId": ""
          },
          "user_tz": 240
        },
        "id": "DVs6wt8NKaGQ",
        "outputId": "8729229c-4f08-4640-d3a1-0d3f9c697a87"
      },
      "outputs": [
        {
          "name": "stdout",
          "output_type": "stream",
          "text": [
            "The prime numbers less than 50 are:\n",
            "[ 2  3  5  7 11 13 17 19 23 29 31 37 41 43 47]\n"
          ]
        }
      ],
      "source": [
        "def print_primes(n):\n",
        "  \"\"\"Returns all the prime numbers less than n.\"\"\"\n",
        "  assert n \u003e 0\n",
        "  \n",
        "  primes = []\n",
        "  autograph.set_element_type(primes, tf.int32)\n",
        "  for i in range(2, n):\n",
        "    is_prime = True\n",
        "    for k in range(2, i):\n",
        "      if i % k == 0:\n",
        "        is_prime = False\n",
        "        break\n",
        "    if not is_prime:\n",
        "      continue\n",
        "    primes.append(i)\n",
        "  all_primes = autograph.stack(primes)\n",
        "\n",
        "  print('The prime numbers less than', n, 'are:')\n",
        "  print(all_primes)\n",
        "  return tf.no_op()\n",
        "\n",
        "    \n",
        "tf_print_primes = autograph.to_graph(print_primes)\n",
        "with tf.Graph().as_default():  \n",
        "  with tf.Session() as sess:\n",
        "    n = tf.constant(50)\n",
        "    sess.run(tf_print_primes(n))\n",
        "    \n",
        "# Uncomment the line below to print the generated graph code\n",
        "# print(autograph.to_code(print_primes))"
      ]
    },
    {
      "cell_type": "markdown",
      "metadata": {
        "colab_type": "text",
        "id": "JQ8kQT99VqDk"
      },
      "source": [
        "# 3. Case study: training MNIST with Keras\n",
        "\n",
        "As we've seen, writing control flow in AutoGraph is easy. So running a training loop in graph should be easy as well!\n",
        "\n",
        "Here, we show an example of such a training loop for a simple Keras model that trains on MNIST."
      ]
    },
    {
      "cell_type": "code",
      "execution_count": 0,
      "metadata": {
        "colab": {
          "autoexec": {
            "startup": false,
            "wait_interval": 0
          }
        },
        "colab_type": "code",
        "id": "0CrtGWgwuLJr"
      },
      "outputs": [],
      "source": [
        "import gzip\n",
        "import shutil\n",
        "\n",
        "from six.moves import urllib\n",
        "\n",
        "\n",
        "def download(directory, filename):\n",
        "  filepath = os.path.join(directory, filename)\n",
        "  if tf.gfile.Exists(filepath):\n",
        "    return filepath\n",
        "  if not tf.gfile.Exists(directory):\n",
        "    tf.gfile.MakeDirs(directory)\n",
        "  url = 'https://storage.googleapis.com/cvdf-datasets/mnist/' + filename + '.gz'\n",
        "  zipped_filepath = filepath + '.gz'\n",
        "  print('Downloading %s to %s' % (url, zipped_filepath))\n",
        "  urllib.request.urlretrieve(url, zipped_filepath)\n",
        "  with gzip.open(zipped_filepath, 'rb') as f_in, open(filepath, 'wb') as f_out:\n",
        "    shutil.copyfileobj(f_in, f_out)\n",
        "  os.remove(zipped_filepath)\n",
        "  return filepath\n",
        "\n",
        "\n",
        "def dataset(directory, images_file, labels_file):\n",
        "  images_file = download(directory, images_file)\n",
        "  labels_file = download(directory, labels_file)\n",
        "\n",
        "  def decode_image(image):\n",
        "    # Normalize from [0, 255] to [0.0, 1.0]\n",
        "    image = tf.decode_raw(image, tf.uint8)\n",
        "    image = tf.cast(image, tf.float32)\n",
        "    image = tf.reshape(image, [784])\n",
        "    return image / 255.0\n",
        "\n",
        "  def decode_label(label):\n",
        "    label = tf.decode_raw(label, tf.uint8)\n",
        "    label = tf.reshape(label, [])\n",
        "    return tf.to_int32(label)\n",
        "\n",
        "  images = tf.data.FixedLengthRecordDataset(\n",
        "      images_file, 28 * 28, header_bytes=16).map(decode_image)\n",
        "  labels = tf.data.FixedLengthRecordDataset(\n",
        "      labels_file, 1, header_bytes=8).map(decode_label)\n",
        "  return tf.data.Dataset.zip((images, labels))\n",
        "\n",
        "\n",
        "def mnist_train(directory):\n",
        "  return dataset(directory, 'train-images-idx3-ubyte',\n",
        "                 'train-labels-idx1-ubyte')\n",
        "\n",
        "def mnist_test(directory):\n",
        "  return dataset(directory, 't10k-images-idx3-ubyte', 't10k-labels-idx1-ubyte')"
      ]
    },
    {
      "cell_type": "markdown",
      "metadata": {
        "colab_type": "text",
        "id": "2zu1U9Nqir6L"
      },
      "source": [
        "First, we'll define a small three-layer neural network using the Keras API"
      ]
    },
    {
      "cell_type": "code",
      "execution_count": 0,
      "metadata": {
        "colab": {
          "autoexec": {
            "startup": false,
            "wait_interval": 0
          }
        },
        "colab_type": "code",
        "id": "x_MU13boiok2"
      },
      "outputs": [],
      "source": [
        "def mlp_model(input_shape):\n",
        "  model = tf.keras.Sequential((\n",
        "      tf.keras.layers.Dense(100, activation='relu', input_shape=input_shape),\n",
        "      tf.keras.layers.Dense(100, activation='relu'),\n",
        "      tf.keras.layers.Dense(10, activation='softmax'),\n",
        "  ))\n",
        "  model.build()\n",
        "  return model"
      ]
    },
    {
      "cell_type": "markdown",
      "metadata": {
        "colab_type": "text",
        "id": "Wuqg3H8mi0Xj"
      },
      "source": [
        "Let's connect the model definition (here abbreviated as `m`) to a loss function, so that we can train our model."
      ]
    },
    {
      "cell_type": "code",
      "execution_count": 0,
      "metadata": {
        "colab": {
          "autoexec": {
            "startup": false,
            "wait_interval": 0
          }
        },
        "colab_type": "code",
        "id": "W51sfbONiz_5"
      },
      "outputs": [],
      "source": [
        "def predict(m, x, y):\n",
        "  y_p = m(x)\n",
        "  losses = tf.keras.losses.categorical_crossentropy(y, y_p)\n",
        "  l = tf.reduce_mean(losses)\n",
        "  accuracies = tf.keras.metrics.categorical_accuracy(y, y_p)\n",
        "  accuracy = tf.reduce_mean(accuracies)\n",
        "  return l, accuracy"
      ]
    },
    {
      "cell_type": "markdown",
      "metadata": {
        "colab_type": "text",
        "id": "035tNWQki9tr"
      },
      "source": [
        "Now the final piece of the problem specification (before loading data, and clicking everything together) is backpropagating the loss through the model, and optimizing the weights using the gradient."
      ]
    },
    {
      "cell_type": "code",
      "execution_count": 0,
      "metadata": {
        "colab": {
          "autoexec": {
            "startup": false,
            "wait_interval": 0
          }
        },
        "colab_type": "code",
        "id": "CsAD0ajbi9iZ"
      },
      "outputs": [],
      "source": [
        "def fit(m, x, y, opt):\n",
        "  l, accuracy = predict(m, x, y)\n",
        "  opt.minimize(l)\n",
        "  return l, accuracy"
      ]
    },
    {
      "cell_type": "markdown",
      "metadata": {
        "colab_type": "text",
        "id": "PcVRIacKjSwb"
      },
      "source": [
        "These are some utility functions to download data and generate batches for training"
      ]
    },
    {
      "cell_type": "code",
      "execution_count": 0,
      "metadata": {
        "colab": {
          "autoexec": {
            "startup": false,
            "wait_interval": 0
          }
        },
        "colab_type": "code",
        "id": "RVw57HdTjPzi"
      },
      "outputs": [],
      "source": [
        "def setup_mnist_data(is_training, hp, batch_size):\n",
        "  if is_training:\n",
        "    ds = mnist_train('/tmp/autograph_mnist_data')\n",
        "    ds = ds.shuffle(batch_size * 10)\n",
        "  else:\n",
        "    ds = mnist_test('/tmp/autograph_mnist_data')\n",
        "  ds = ds.repeat()\n",
        "  ds = ds.batch(batch_size)\n",
        "  return ds\n",
        "\n",
        "def get_next_batch(ds):\n",
        "  itr = ds.make_one_shot_iterator()\n",
        "  image, label = itr.get_next()\n",
        "  x = tf.to_float(tf.reshape(image, (-1, 28 * 28)))\n",
        "  y = tf.one_hot(tf.squeeze(label), 10)\n",
        "  return x, y"
      ]
    },
    {
      "cell_type": "markdown",
      "metadata": {
        "colab_type": "text",
        "id": "2zEJH5XNjgFz"
      },
      "source": [
        "This function specifies the main training loop. We instantiate the model (using the code above), instantiate an optimizer (here we'll use SGD with momentum, nothing too fancy), and we'll instantiate some lists to keep track of training and test loss and accuracy over time.\n",
        "\n",
        "In the loop inside this function, we'll grab a batch of data, apply an update to the weights of our model to improve its performance, and then record its current training loss and accuracy. Every so often, we'll log some information about training as well."
      ]
    },
    {
      "cell_type": "code",
      "execution_count": 0,
      "metadata": {
        "colab": {
          "autoexec": {
            "startup": false,
            "wait_interval": 0
          }
        },
        "colab_type": "code",
        "id": "UUI0566FjZPx"
      },
      "outputs": [],
      "source": [
        "def train(train_ds, test_ds, hp):\n",
        "  m = mlp_model((28 * 28,))\n",
        "  opt = tf.train.MomentumOptimizer(hp.learning_rate, 0.9)\n",
        "\n",
        "  train_losses = []\n",
        "  autograph.set_element_type(train_losses, tf.float32)\n",
        "  test_losses = []\n",
        "  autograph.set_element_type(test_losses, tf.float32)\n",
        "  train_accuracies = []\n",
        "  autograph.set_element_type(train_accuracies, tf.float32)\n",
        "  test_accuracies = []\n",
        "  autograph.set_element_type(test_accuracies, tf.float32)\n",
        "\n",
        "  i = 0\n",
        "  while i \u003c hp.max_steps:\n",
        "    train_x, train_y = get_next_batch(train_ds)\n",
        "    test_x, test_y = get_next_batch(test_ds)\n",
        "    step_train_loss, step_train_accuracy = fit(m, train_x, train_y, opt)\n",
        "    step_test_loss, step_test_accuracy = predict(m, test_x, test_y)\n",
        "    if i % (hp.max_steps // 10) == 0:\n",
        "      print('Step', i, 'train loss:', step_train_loss, 'test loss:',\n",
        "            step_test_loss, 'train accuracy:', step_train_accuracy,\n",
        "            'test accuracy:', step_test_accuracy)\n",
        "    train_losses.append(step_train_loss)\n",
        "    test_losses.append(step_test_loss)\n",
        "    train_accuracies.append(step_train_accuracy)\n",
        "    test_accuracies.append(step_test_accuracy)\n",
        "    i += 1\n",
        "  return (autograph.stack(train_losses), autograph.stack(test_losses),\n",
        "          autograph.stack(train_accuracies),\n",
        "          autograph.stack(test_accuracies))"
      ]
    },
    {
      "cell_type": "markdown",
      "metadata": {
        "colab_type": "text",
        "id": "cYiUQ1ppkHzk"
      },
      "source": [
        "Everything is ready to go, let's train the model and plot its performance!"
      ]
    },
    {
      "cell_type": "code",
      "execution_count": 0,
      "metadata": {
        "colab": {
          "autoexec": {
            "startup": false,
            "wait_interval": 0
          },
          "height": 585
        },
        "colab_type": "code",
        "executionInfo": {
          "elapsed": 17094,
          "status": "ok",
          "timestamp": 1531750930585,
          "user": {
            "displayName": "",
            "photoUrl": "",
            "userId": ""
          },
          "user_tz": 240
        },
        "id": "K1m8TwOKjdNd",
        "outputId": "9f63da19-c3bf-498b-cf00-29090bf3b4f0"
      },
      "outputs": [
        {
          "data": {
            "image/png": "[encoded data removed]",
            "text/plain": [
              "\u003cmatplotlib.figure.Figure at 0x7f97f1e98d90\u003e"
            ]
          },
          "metadata": {
            "tags": []
          },
          "output_type": "display_data"
        },
        {
          "data": {
            "image/png": "[encoded data removed]",
            "text/plain": [
              "\u003cmatplotlib.figure.Figure at 0x7f97f1330850\u003e"
            ]
          },
          "metadata": {
            "tags": []
          },
          "output_type": "display_data"
        }
      ],
      "source": [
        "def plot(train, test, label):\n",
        "    plt.title('MNIST model %s' % label)\n",
        "    plt.plot(train, label='train %s' % label)\n",
        "    plt.plot(test, label='test %s' % label)\n",
        "    plt.legend()\n",
        "    plt.xlabel('Training step')\n",
        "    plt.ylabel(label.capitalize())\n",
        "    plt.show()\n",
        "  \n",
        "\n",
        "with tf.Graph().as_default():\n",
        "  hp = tf.contrib.training.HParams(\n",
        "      learning_rate=0.05,\n",
        "      max_steps=tf.constant(500),\n",
        "  )\n",
        "  train_ds = setup_mnist_data(True, hp, 50)\n",
        "  test_ds = setup_mnist_data(False, hp, 1000)\n",
        "  tf_train = autograph.to_graph(train)\n",
        "  all_losses = tf_train(train_ds, test_ds, hp)\n",
        "\n",
        "  with tf.Session() as sess:\n",
        "    sess.run(tf.global_variables_initializer())\n",
        "    (train_losses, test_losses, train_accuracies,\n",
        "     test_accuracies) = sess.run(all_losses)\n",
        "    \n",
        "    plot(train_losses, test_losses, 'loss')\n",
        "    plot(train_accuracies, test_accuracies, 'accuracy')"
      ]
    },
    {
      "cell_type": "markdown",
      "metadata": {
        "colab_type": "text",
        "id": "HNqUFL4deCsL"
      },
      "source": [
        "# 4. Case study: building an RNN\n"
      ]
    },
    {
      "cell_type": "markdown",
      "metadata": {
        "colab_type": "text",
        "id": "YkC1k4HEQ7rw"
      },
      "source": [
        "In this exercise we build and train a model similar to the RNNColorbot model that was used in the main Eager notebook. The model is adapted for converting and training in graph mode."
      ]
    },
    {
      "cell_type": "markdown",
      "metadata": {
        "colab_type": "text",
        "id": "7nkPDl5CTCNb"
      },
      "source": [
        "To get started, we load the colorbot dataset. The code is identical to that used in the other exercise and its details are unimportant."
      ]
    },
    {
      "cell_type": "code",
      "execution_count": 0,
      "metadata": {
        "colab": {
          "autoexec": {
            "startup": false,
            "wait_interval": 0
          }
        },
        "colab_type": "code",
        "id": "A0uREmVXCQEw"
      },
      "outputs": [],
      "source": [
        "def parse(line):\n",
        "  \"\"\"Parses a line from the colors dataset.\n",
        "  \n",
        "  Args:\n",
        "    line: A comma-separated string containing four items:\n",
        "        color_name, red, green, and blue, representing the name and\n",
        "        respectively the RGB value of the color, as an integer\n",
        "        between 0 and 255.\n",
        "\n",
        "  Returns:\n",
        "    A tuple of three tensors (rgb, chars, length), of shapes: (batch_size, 3),\n",
        "    (batch_size, max_sequence_length, 256) and respectively (batch_size).\n",
        "  \"\"\"\n",
        "  items = tf.string_split(tf.expand_dims(line, 0), \",\").values\n",
        "  rgb = tf.string_to_number(items[1:], out_type=tf.float32) / 255.0\n",
        "  color_name = items[0]\n",
        "  chars = tf.one_hot(tf.decode_raw(color_name, tf.uint8), depth=256)\n",
        "  length = tf.cast(tf.shape(chars)[0], dtype=tf.int64)\n",
        "  return rgb, chars, length\n",
        "\n",
        "\n",
        "def maybe_download(filename, work_directory, source_url):\n",
        "  \"\"\"Downloads the data from source url.\"\"\"\n",
        "  if not tf.gfile.Exists(work_directory):\n",
        "    tf.gfile.MakeDirs(work_directory)\n",
        "  filepath = os.path.join(work_directory, filename)\n",
        "  if not tf.gfile.Exists(filepath):\n",
        "    temp_file_name, _ = six.moves.urllib.request.urlretrieve(source_url)\n",
        "    tf.gfile.Copy(temp_file_name, filepath)\n",
        "    with tf.gfile.GFile(filepath) as f:\n",
        "      size = f.size()\n",
        "    print('Successfully downloaded', filename, size, 'bytes.')\n",
        "  return filepath\n",
        "\n",
        "\n",
        "def load_dataset(data_dir, url, batch_size, training=True):\n",
        "  \"\"\"Loads the colors data at path into a tf.PaddedDataset.\"\"\"\n",
        "  path = maybe_download(os.path.basename(url), data_dir, url)\n",
        "  dataset = tf.data.TextLineDataset(path)\n",
        "  dataset = dataset.skip(1)\n",
        "  dataset = dataset.map(parse)\n",
        "  dataset = dataset.cache()\n",
        "  dataset = dataset.repeat()\n",
        "  if training:\n",
        "    dataset = dataset.shuffle(buffer_size=3000)\n",
        "  dataset = dataset.padded_batch(batch_size, padded_shapes=((None,), (None, None), ()))\n",
        "  return dataset\n",
        "\n",
        "\n",
        "train_url = \"https://raw.githubusercontent.com/random-forests/tensorflow-workshop/master/archive/extras/colorbot/data/train.csv\"\n",
        "test_url = \"https://raw.githubusercontent.com/random-forests/tensorflow-workshop/master/archive/extras/colorbot/data/test.csv\"\n",
        "data_dir = \"tmp/rnn/data\""
      ]
    },
    {
      "cell_type": "markdown",
      "metadata": {
        "colab_type": "text",
        "id": "waZ89t3DTUla"
      },
      "source": [
        "Next, we set up the RNNColobot model, which is very similar to the one we used in the main exercise.\n",
        "\n",
        "Autograph doesn't fully support classes yet (but it will soon!), so we'll write the model using simple functions."
      ]
    },
    {
      "cell_type": "code",
      "execution_count": 0,
      "metadata": {
        "colab": {
          "autoexec": {
            "startup": false,
            "wait_interval": 0
          }
        },
        "colab_type": "code",
        "id": "9v8AJouiC44V"
      },
      "outputs": [],
      "source": [
        "def model_components():\n",
        "  lower_cell = tf.contrib.rnn.LSTMBlockCell(256)\n",
        "  lower_cell.build(tf.TensorShape((None, 256)))\n",
        "  upper_cell = tf.contrib.rnn.LSTMBlockCell(128)\n",
        "  upper_cell.build(tf.TensorShape((None, 256)))\n",
        "  relu_layer = tf.layers.Dense(3, activation=tf.nn.relu)\n",
        "  relu_layer.build(tf.TensorShape((None, 128)))\n",
        "  return lower_cell, upper_cell, relu_layer\n",
        "\n",
        "\n",
        "def rnn_layer(chars, cell, batch_size, training):\n",
        "  \"\"\"A simple RNN layer.\n",
        "  \n",
        "  Args:\n",
        "    chars: A Tensor of shape (max_sequence_length, batch_size, input_size)\n",
        "    cell: An object of type tf.contrib.rnn.LSTMBlockCell\n",
        "    batch_size: Int, the batch size to use\n",
        "    training: Boolean, whether the layer is used for training\n",
        "\n",
        "  Returns:\n",
        "    A Tensor of shape (max_sequence_length, batch_size, output_size).\n",
        "  \"\"\"\n",
        "  hidden_outputs = tf.TensorArray(tf.float32, size=0, dynamic_size=True)\n",
        "  state, output = cell.zero_state(batch_size, tf.float32)\n",
        "  initial_state_shape = state.shape\n",
        "  initial_output_shape = output.shape\n",
        "  n = tf.shape(chars)[0]\n",
        "  i = 0\n",
        "  while i \u003c n:\n",
        "    ch = chars[i]\n",
        "    cell_output, (state, output) = cell.call(ch, (state, output))\n",
        "    hidden_outputs.append(cell_output)\n",
        "    i += 1\n",
        "  hidden_outputs = autograph.stack(hidden_outputs)\n",
        "  if training:\n",
        "    hidden_outputs = tf.nn.dropout(hidden_outputs, 0.5)\n",
        "  return hidden_outputs\n",
        "\n",
        "\n",
        "def model(inputs, lower_cell, upper_cell, relu_layer, batch_size, training):\n",
        "  \"\"\"RNNColorbot model.\n",
        "  \n",
        "  The model consists of two RNN layers (made by lower_cell and upper_cell),\n",
        "  followed by a fully connected layer with ReLU activation.\n",
        "  \n",
        "  Args:\n",
        "    inputs: A tuple (chars, length)\n",
        "    lower_cell: An object of type tf.contrib.rnn.LSTMBlockCell\n",
        "    upper_cell: An object of type tf.contrib.rnn.LSTMBlockCell\n",
        "    relu_layer: An object of type tf.layers.Dense\n",
        "    batch_size: Int, the batch size to use\n",
        "    training: Boolean, whether the layer is used for training\n",
        "    \n",
        "  Returns:\n",
        "    A Tensor of shape (batch_size, 3) - the model predictions.\n",
        "  \"\"\"\n",
        "  (chars, length) = inputs\n",
        "  chars_time_major = tf.transpose(chars, (1, 0, 2))\n",
        "  chars_time_major.set_shape((None, batch_size, 256))\n",
        "\n",
        "  hidden_outputs = rnn_layer(chars_time_major, lower_cell, batch_size, training)\n",
        "  final_outputs = rnn_layer(hidden_outputs, upper_cell, batch_size, training)\n",
        "\n",
        "  # Grab just the end-of-sequence from each output.\n",
        "  indices = tf.stack((length - 1, range(batch_size)), axis=1)\n",
        "  sequence_ends = tf.gather_nd(final_outputs, indices)\n",
        "  sequence_ends.set_shape((batch_size, 128))\n",
        "  return relu_layer(sequence_ends)\n",
        "\n",
        "def loss_fn(labels, predictions):\n",
        "  return tf.reduce_mean((predictions - labels) ** 2)"
      ]
    },
    {
      "cell_type": "markdown",
      "metadata": {
        "colab_type": "text",
        "id": "JjK4gXFvFsf4"
      },
      "source": [
        "The train and test functions are also similar to the ones used in the Eager notebook. Since the network requires a fixed batch size, we'll train in a single shot, rather than by epoch."
      ]
    },
    {
      "cell_type": "code",
      "execution_count": 0,
      "metadata": {
        "colab": {
          "autoexec": {
            "startup": false,
            "wait_interval": 0
          }
        },
        "colab_type": "code",
        "id": "ZWQMExk0S6X6"
      },
      "outputs": [],
      "source": [
        "def train(optimizer, train_data, lower_cell, upper_cell, relu_layer, batch_size, num_steps):\n",
        "  iterator = train_data.make_one_shot_iterator()\n",
        "  step = 0\n",
        "  while step \u003c num_steps:\n",
        "    labels, chars, sequence_length = iterator.get_next()\n",
        "    predictions = model((chars, sequence_length), lower_cell, upper_cell, relu_layer, batch_size, training=True)\n",
        "    loss = loss_fn(labels, predictions)\n",
        "    optimizer.minimize(loss)\n",
        "    if step % (num_steps // 10) == 0:\n",
        "      print('Step', step, 'train loss', loss)\n",
        "    step += 1\n",
        "  return step\n",
        "\n",
        "\n",
        "def test(eval_data, lower_cell, upper_cell, relu_layer, batch_size, num_steps):\n",
        "  total_loss = 0.0\n",
        "  iterator = eval_data.make_one_shot_iterator()\n",
        "  step = 0\n",
        "  while step \u003c num_steps:\n",
        "    labels, chars, sequence_length = iterator.get_next()\n",
        "    predictions = model((chars, sequence_length), lower_cell, upper_cell, relu_layer, batch_size, training=False)\n",
        "    total_loss += loss_fn(labels, predictions)\n",
        "    step += 1\n",
        "  print('Test loss', total_loss)\n",
        "  return total_loss\n",
        "\n",
        "\n",
        "def train_model(train_data, eval_data, batch_size, lower_cell, upper_cell, relu_layer, train_steps):\n",
        "  optimizer = tf.train.AdamOptimizer(learning_rate=0.01)\n",
        "\n",
        "  train(optimizer, train_data, lower_cell, upper_cell, relu_layer, batch_size, num_steps=tf.constant(train_steps))\n",
        "  test(eval_data, lower_cell, upper_cell, relu_layer, 50, num_steps=tf.constant(2))\n",
        "\n",
        "  print('Colorbot is ready to generate colors!\\n\\n')\n",
        "  \n",
        "  # In graph mode, every op needs to be a dependent of another op.\n",
        "  # Here, we create a no_op that will drive the execution of all other code in\n",
        "  # this function. Autograph will add the necessary control dependencies.\n",
        "  return tf.no_op()"
      ]
    },
    {
      "cell_type": "markdown",
      "metadata": {
        "colab_type": "text",
        "id": "iopcs5hXG2od"
      },
      "source": [
        "Finally, we add code to run inference on a single input, which we'll read from the input.\n",
        "\n",
        "Note the `do_not_convert` annotation that lets us disable conversion for certain functions and run them as a `py_func` instead, so you can still call them from compiled code."
      ]
    },
    {
      "cell_type": "code",
      "execution_count": 0,
      "metadata": {
        "colab": {
          "autoexec": {
            "startup": false,
            "wait_interval": 0
          }
        },
        "colab_type": "code",
        "id": "DyU0wnnAFEYj"
      },
      "outputs": [],
      "source": [
        "@autograph.do_not_convert(run_as=autograph.RunMode.PY_FUNC)\n",
        "def draw_prediction(color_name, pred):\n",
        "  pred = pred * 255\n",
        "  pred = pred.astype(np.uint8)\n",
        "  plt.axis('off')\n",
        "  plt.imshow(pred)\n",
        "  plt.title(color_name)\n",
        "  plt.show()\n",
        "\n",
        "\n",
        "def inference(color_name, lower_cell, upper_cell, relu_layer):\n",
        "  _, chars, sequence_length = parse(color_name)\n",
        "  chars = tf.expand_dims(chars, 0)\n",
        "  sequence_length = tf.expand_dims(sequence_length, 0)\n",
        "  pred = model((chars, sequence_length), lower_cell, upper_cell, relu_layer, 1, training=False)\n",
        "  pred = tf.minimum(pred, 1.0)\n",
        "  pred = tf.expand_dims(pred, 0)\n",
        "  draw_prediction(color_name, pred)\n",
        "  # Create an op that will drive the entire function.\n",
        "  return tf.no_op()"
      ]
    },
    {
      "cell_type": "markdown",
      "metadata": {
        "colab_type": "text",
        "id": "Nt0Kv5OCHip0"
      },
      "source": [
        "Finally, we put everything together.\n",
        "\n",
        "Note that the entire training and testing code is all compiled into a single op (`tf_train_model`) that you only execute once! We also still use a `sess.run` loop for the inference part, because that requires keyboard input."
      ]
    },
    {
      "cell_type": "code",
      "execution_count": 0,
      "metadata": {
        "colab": {
          "autoexec": {
            "startup": false,
            "wait_interval": 0
          },
          "height": 415
        },
        "colab_type": "code",
        "executionInfo": {
          "elapsed": 15536,
          "status": "ok",
          "timestamp": 1531750946373,
          "user": {
            "displayName": "",
            "photoUrl": "",
            "userId": ""
          },
          "user_tz": 240
        },
        "id": "-GmWa0GtYWdh",
        "outputId": "2e7a9856-9809-43a3-8b43-3c8514ea43e9"
      },
      "outputs": [
        {
          "name": "stdout",
          "output_type": "stream",
          "text": [
            "Test loss 0.138294\n",
            "Colorbot is ready to generate colors!\n",
            "\n",
            "\n"
          ]
        },
        {
          "data": {
            "text/html": [
              "\u003clink rel=stylesheet type=text/css href='/nbextensions/google.colab/tabbar.css'\u003e\u003c/link\u003e"
            ],
            "text/plain": [
              "\u003cIPython.core.display.HTML at 0x7f97ee42bb90\u003e"
            ]
          },
          "metadata": {
            "tags": [
              "outputarea_id1"
            ]
          },
          "output_type": "display_data"
        },
        {
          "data": {
            "text/html": [
              "\u003cscript src='/nbextensions/google.colab/tabbar_main.min.js'\u003e\u003c/script\u003e"
            ],
            "text/plain": [
              "\u003cIPython.core.display.HTML at 0x7f97ee42be10\u003e"
            ]
          },
          "metadata": {
            "tags": [
              "outputarea_id1"
            ]
          },
          "output_type": "display_data"
        },
        {
          "data": {
            "text/html": [
              "\u003cdiv id=\"id1\"\u003e\u003c/div\u003e"
            ],
            "text/plain": [
              "\u003cIPython.core.display.HTML at 0x7f97ee42bd90\u003e"
            ]
          },
          "metadata": {
            "tags": [
              "outputarea_id1"
            ]
          },
          "output_type": "display_data"
        },
        {
          "data": {
            "application/javascript": [
              "window[\"a6045494-8903-11e8-99f9-c8d3ffb5fbe0\"] = colab_lib.createTabBar({\"location\": \"top\", \"borderColor\": [\"#a7a7a7\"], \"initialSelection\": 0, \"elementId\": \"id1\", \"contentHeight\": [\"initial\"], \"contentBorder\": [\"0px\"], \"tabNames\": [\"RNN Colorbot\"]});\n",
              "//# sourceURL=js_02f896cbda"
            ],
            "text/plain": [
              "\u003cIPython.core.display.Javascript at 0x7f97ee2ab810\u003e"
            ]
          },
          "metadata": {
            "tags": [
              "outputarea_id1"
            ]
          },
          "output_type": "display_data"
        },
        {
          "data": {
            "application/javascript": [
              "window[\"a6045495-8903-11e8-99f9-c8d3ffb5fbe0\"] = window[\"id1\"].setSelectedTabIndex(0);\n",
              "//# sourceURL=js_7e8f9f77a0"
            ],
            "text/plain": [
              "\u003cIPython.core.display.Javascript at 0x7f97ee2ab710\u003e"
            ]
          },
          "metadata": {
            "tags": [
              "outputarea_id1"
            ]
          },
          "output_type": "display_data"
        },
        {
          "data": {
            "application/javascript": [
              "window[\"a6045496-8903-11e8-99f9-c8d3ffb5fbe0\"] = google.colab.output.getActiveOutputArea();\n",
              "//# sourceURL=js_5531553c2f"
            ],
            "text/plain": [
              "\u003cIPython.core.display.Javascript at 0x7f97ee2ab6d0\u003e"
            ]
          },
          "metadata": {
            "tags": [
              "id1_content_0",
              "outputarea_id1"
            ]
          },
          "output_type": "display_data"
        },
        {
          "data": {
            "application/javascript": [
              "window[\"a6045497-8903-11e8-99f9-c8d3ffb5fbe0\"] = document.querySelector(\"#id1_content_0\");\n",
              "//# sourceURL=js_d1f809ec17"
            ],
            "text/plain": [
              "\u003cIPython.core.display.Javascript at 0x7f97ee2ab990\u003e"
            ]
          },
          "metadata": {
            "tags": [
              "id1_content_0",
              "outputarea_id1"
            ]
          },
          "output_type": "display_data"
        },
        {
          "data": {
            "application/javascript": [
              "window[\"a6045498-8903-11e8-99f9-c8d3ffb5fbe0\"] = google.colab.output.setActiveOutputArea(window[\"a6045497-8903-11e8-99f9-c8d3ffb5fbe0\"]);\n",
              "//# sourceURL=js_3a3123cadb"
            ],
            "text/plain": [
              "\u003cIPython.core.display.Javascript at 0x7f97ee2aba50\u003e"
            ]
          },
          "metadata": {
            "tags": [
              "id1_content_0",
              "outputarea_id1"
            ]
          },
          "output_type": "display_data"
        },
        {
          "data": {
            "application/javascript": [
              "window[\"a6045499-8903-11e8-99f9-c8d3ffb5fbe0\"] = window[\"id1\"].setSelectedTabIndex(0);\n",
              "//# sourceURL=js_1a0e1f7d6f"
            ],
            "text/plain": [
              "\u003cIPython.core.display.Javascript at 0x7f97ee2ab890\u003e"
            ]
          },
          "metadata": {
            "tags": [
              "id1_content_0",
              "outputarea_id1"
            ]
          },
          "output_type": "display_data"
        },
        {
          "data": {
            "application/javascript": [
              "window[\"a8e54762-8903-11e8-99f9-c8d3ffb5fbe0\"] = google.colab.output.setActiveOutputArea(window[\"a6045496-8903-11e8-99f9-c8d3ffb5fbe0\"]);\n",
              "//# sourceURL=js_6213539615"
            ],
            "text/plain": [
              "\u003cIPython.core.display.Javascript at 0x7f97ee2abad0\u003e"
            ]
          },
          "metadata": {
            "tags": [
              "id1_content_0",
              "outputarea_id1"
            ]
          },
          "output_type": "display_data"
        },
        {
          "data": {
            "application/javascript": [
              "window[\"a8e54763-8903-11e8-99f9-c8d3ffb5fbe0\"] = google.colab.output.getActiveOutputArea();\n",
              "//# sourceURL=js_0bd7f95c6e"
            ],
            "text/plain": [
              "\u003cIPython.core.display.Javascript at 0x7f97ee2ab950\u003e"
            ]
          },
          "metadata": {
            "tags": [
              "id1_content_0",
              "outputarea_id1"
            ]
          },
          "output_type": "display_data"
        },
        {
          "data": {
            "application/javascript": [
              "window[\"a8e54764-8903-11e8-99f9-c8d3ffb5fbe0\"] = document.querySelector(\"#id1_content_0\");\n",
              "//# sourceURL=js_215f004f6b"
            ],
            "text/plain": [
              "\u003cIPython.core.display.Javascript at 0x7f97ee2abb10\u003e"
            ]
          },
          "metadata": {
            "tags": [
              "id1_content_0",
              "outputarea_id1"
            ]
          },
          "output_type": "display_data"
        },
        {
          "data": {
            "application/javascript": [
              "window[\"a8e54765-8903-11e8-99f9-c8d3ffb5fbe0\"] = google.colab.output.setActiveOutputArea(window[\"a8e54764-8903-11e8-99f9-c8d3ffb5fbe0\"]);\n",
              "//# sourceURL=js_a06186c8ad"
            ],
            "text/plain": [
              "\u003cIPython.core.display.Javascript at 0x7f97ee2aba90\u003e"
            ]
          },
          "metadata": {
            "tags": [
              "id1_content_0",
              "outputarea_id1"
            ]
          },
          "output_type": "display_data"
        },
        {
          "data": {
            "application/javascript": [
              "window[\"a8e54766-8903-11e8-99f9-c8d3ffb5fbe0\"] = window[\"id1\"].setSelectedTabIndex(0);\n",
              "//# sourceURL=js_383fbaae67"
            ],
            "text/plain": [
              "\u003cIPython.core.display.Javascript at 0x7f97ee2abc50\u003e"
            ]
          },
          "metadata": {
            "tags": [
              "id1_content_0",
              "outputarea_id1"
            ]
          },
          "output_type": "display_data"
        },
        {
          "data": {
            "image/png": "[encoded data removed]",
            "text/plain": [
              "\u003cmatplotlib.figure.Figure at 0x7f97ee42bb90\u003e"
            ]
          },
          "metadata": {
            "tags": [
              "id1_content_0",
              "outputarea_id1",
              "user_output"
            ]
          },
          "output_type": "display_data"
        },
        {
          "data": {
            "application/javascript": [
              "window[\"a8e54767-8903-11e8-99f9-c8d3ffb5fbe0\"] = google.colab.output.setActiveOutputArea(window[\"a8e54763-8903-11e8-99f9-c8d3ffb5fbe0\"]);\n",
              "//# sourceURL=js_28bd08ac10"
            ],
            "text/plain": [
              "\u003cIPython.core.display.Javascript at 0x7f97ea9efc10\u003e"
            ]
          },
          "metadata": {
            "tags": [
              "id1_content_0",
              "outputarea_id1"
            ]
          },
          "output_type": "display_data"
        },
        {
          "data": {
            "application/javascript": [
              "window[\"a8e54768-8903-11e8-99f9-c8d3ffb5fbe0\"] = google.colab.output.getActiveOutputArea();\n",
              "//# sourceURL=js_ae2887f57d"
            ],
            "text/plain": [
              "\u003cIPython.core.display.Javascript at 0x7f97ea9efb50\u003e"
            ]
          },
          "metadata": {
            "tags": [
              "id1_content_0",
              "outputarea_id1"
            ]
          },
          "output_type": "display_data"
        },
        {
          "data": {
            "application/javascript": [
              "window[\"a8e54769-8903-11e8-99f9-c8d3ffb5fbe0\"] = document.querySelector(\"#id1_content_0\");\n",
              "//# sourceURL=js_608805a786"
            ],
            "text/plain": [
              "\u003cIPython.core.display.Javascript at 0x7f97ea9ef710\u003e"
            ]
          },
          "metadata": {
            "tags": [
              "id1_content_0",
              "outputarea_id1"
            ]
          },
          "output_type": "display_data"
        },
        {
          "data": {
            "application/javascript": [
              "window[\"a8e5476a-8903-11e8-99f9-c8d3ffb5fbe0\"] = google.colab.output.setActiveOutputArea(window[\"a8e54769-8903-11e8-99f9-c8d3ffb5fbe0\"]);\n",
              "//# sourceURL=js_3d87cf7d0f"
            ],
            "text/plain": [
              "\u003cIPython.core.display.Javascript at 0x7f97ea9efa90\u003e"
            ]
          },
          "metadata": {
            "tags": [
              "id1_content_0",
              "outputarea_id1"
            ]
          },
          "output_type": "display_data"
        },
        {
          "data": {
            "application/javascript": [
              "window[\"a8e5476b-8903-11e8-99f9-c8d3ffb5fbe0\"] = window[\"id1\"].setSelectedTabIndex(0);\n",
              "//# sourceURL=js_5e91101199"
            ],
            "text/plain": [
              "\u003cIPython.core.display.Javascript at 0x7f97ea9efa50\u003e"
            ]
          },
          "metadata": {
            "tags": [
              "id1_content_0",
              "outputarea_id1"
            ]
          },
          "output_type": "display_data"
        },
        {
          "data": {
            "text/html": [
              "\u003cdiv class=id_45185901 style=\"margin-right:10px; display:flex;align-items:center;\"\u003e\u003cspan style=\"margin-right: 3px;\"\u003e\u003c/span\u003e\u003c/div\u003e"
            ],
            "text/plain": [
              "\u003cIPython.core.display.HTML at 0x7f97ee42bd90\u003e"
            ]
          },
          "metadata": {
            "tags": [
              "id1_content_0",
              "outputarea_id1",
              "user_output"
            ]
          },
          "output_type": "display_data"
        },
        {
          "data": {
            "application/javascript": [
              "window[\"a8e5476c-8903-11e8-99f9-c8d3ffb5fbe0\"] = jQuery(\".id_45185901 span\");\n",
              "//# sourceURL=js_f43052a94e"
            ],
            "text/plain": [
              "\u003cIPython.core.display.Javascript at 0x7f97ea9ef750\u003e"
            ]
          },
          "metadata": {
            "tags": [
              "id1_content_0",
              "outputarea_id1",
              "user_output"
            ]
          },
          "output_type": "display_data"
        },
        {
          "data": {
            "application/javascript": [
              "window[\"a8e5476d-8903-11e8-99f9-c8d3ffb5fbe0\"] = window[\"a8e5476c-8903-11e8-99f9-c8d3ffb5fbe0\"].text(\"Give me a color name (or press 'enter' to exit): \");\n",
              "//# sourceURL=js_bfc0fb76ce"
            ],
            "text/plain": [
              "\u003cIPython.core.display.Javascript at 0x7f97ea9efb10\u003e"
            ]
          },
          "metadata": {
            "tags": [
              "id1_content_0",
              "outputarea_id1",
              "user_output"
            ]
          },
          "output_type": "display_data"
        },
        {
          "data": {
            "application/javascript": [
              "window[\"a9e9b8b0-8903-11e8-99f9-c8d3ffb5fbe0\"] = jQuery(\".id_45185901 input\");\n",
              "//# sourceURL=js_7f167283fa"
            ],
            "text/plain": [
              "\u003cIPython.core.display.Javascript at 0x7f97ea9ef610\u003e"
            ]
          },
          "metadata": {
            "tags": [
              "id1_content_0",
              "outputarea_id1",
              "user_output"
            ]
          },
          "output_type": "display_data"
        },
        {
          "data": {
            "application/javascript": [
              "window[\"a9e9b8b1-8903-11e8-99f9-c8d3ffb5fbe0\"] = window[\"a9e9b8b0-8903-11e8-99f9-c8d3ffb5fbe0\"].remove();\n",
              "//# sourceURL=js_016ae4bf21"
            ],
            "text/plain": [
              "\u003cIPython.core.display.Javascript at 0x7f97ea9ef250\u003e"
            ]
          },
          "metadata": {
            "tags": [
              "id1_content_0",
              "outputarea_id1",
              "user_output"
            ]
          },
          "output_type": "display_data"
        },
        {
          "data": {
            "application/javascript": [
              "window[\"a9e9b8b2-8903-11e8-99f9-c8d3ffb5fbe0\"] = jQuery(\".id_45185901 span\");\n",
              "//# sourceURL=js_e666f179bc"
            ],
            "text/plain": [
              "\u003cIPython.core.display.Javascript at 0x7f97ea9ef550\u003e"
            ]
          },
          "metadata": {
            "tags": [
              "id1_content_0",
              "outputarea_id1",
              "user_output"
            ]
          },
          "output_type": "display_data"
        },
        {
          "data": {
            "application/javascript": [
              "window[\"a9e9b8b3-8903-11e8-99f9-c8d3ffb5fbe0\"] = window[\"a9e9b8b2-8903-11e8-99f9-c8d3ffb5fbe0\"].text(\"Give me a color name (or press 'enter' to exit): \");\n",
              "//# sourceURL=js_cbb9d14aec"
            ],
            "text/plain": [
              "\u003cIPython.core.display.Javascript at 0x7f97ea9ef1d0\u003e"
            ]
          },
          "metadata": {
            "tags": [
              "id1_content_0",
              "outputarea_id1",
              "user_output"
            ]
          },
          "output_type": "display_data"
        },
        {
          "data": {
            "application/javascript": [
              "window[\"a9e9b8b4-8903-11e8-99f9-c8d3ffb5fbe0\"] = google.colab.output.setActiveOutputArea(window[\"a8e54768-8903-11e8-99f9-c8d3ffb5fbe0\"]);\n",
              "//# sourceURL=js_2967a79665"
            ],
            "text/plain": [
              "\u003cIPython.core.display.Javascript at 0x7f97ea9ef1d0\u003e"
            ]
          },
          "metadata": {
            "tags": [
              "id1_content_0",
              "outputarea_id1"
            ]
          },
          "output_type": "display_data"
        }
      ],
      "source": [
        "def run_input_loop(sess, inference_ops, color_name_placeholder):\n",
        "  \"\"\"Helper function that reads from input and calls the inference ops in a loop.\"\"\"\n",
        "\n",
        "  tb = widgets.TabBar([\"RNN Colorbot\"])\n",
        "  while True:\n",
        "    with tb.output_to(0):\n",
        "      try:\n",
        "        color_name = six.moves.input(\"Give me a color name (or press 'enter' to exit): \")\n",
        "      except (EOFError, KeyboardInterrupt):\n",
        "        break\n",
        "    if not color_name:\n",
        "      break\n",
        "    with tb.output_to(0):\n",
        "      tb.clear_tab()\n",
        "      sess.run(inference_ops, {color_name_placeholder: color_name})\n",
        "      plt.show()\n",
        "\n",
        "with tf.Graph().as_default():\n",
        "  # Read the data.\n",
        "  batch_size = 64\n",
        "  train_data = load_dataset(data_dir, train_url, batch_size)\n",
        "  eval_data = load_dataset(data_dir, test_url, 50, training=False)\n",
        "  \n",
        "  # Create the model components.\n",
        "  lower_cell, upper_cell, relu_layer = model_components()\n",
        "  # Create the helper placeholder for inference.\n",
        "  color_name_placeholder = tf.placeholder(tf.string, shape=())\n",
        "  \n",
        "  # Compile the train / test code.\n",
        "  tf_train_model = autograph.to_graph(train_model)\n",
        "  train_model_ops = tf_train_model(\n",
        "      train_data, eval_data, batch_size, lower_cell, upper_cell, relu_layer, train_steps=100)\n",
        "  \n",
        "  # Compile the inference code.\n",
        "  tf_inference = autograph.to_graph(inference)\n",
        "  inference_ops = tf_inference(color_name_placeholder, lower_cell, upper_cell, relu_layer)\n",
        "  \n",
        "  with tf.Session() as sess:\n",
        "    sess.run(tf.global_variables_initializer())\n",
        "    \n",
        "    # Run training and testing.\n",
        "    sess.run(train_model_ops)\n",
        "     \n",
        "    # Run the inference loop.\n",
        "    run_input_loop(sess, inference_ops, color_name_placeholder)"
      ]
    },
    {
      "cell_type": "markdown",
      "metadata": {
        "colab_type": "text",
        "id": "AHJ2c47U-A5W"
      },
      "source": [
        "# Where do we go next?\n",
        "\n",
        "AutoGraph is still in its early stages, but is available in [tensorflow.contrib](https://github.com/tensorflow/tensorflow/tree/master/tensorflow/contrib/autograph). We're excited about the possibilities it brings. New versions will be available soon — stay tuned!"
      ]
    }
  ],
  "metadata": {
    "colab": {
      "collapsed_sections": [],
      "default_view": {},
      "name": "Dev Summit 2018 - Autograph",
      "provenance": [
        {
          "file_id": "1wCZUh73zTNs1jzzYjqoxMIdaBWCdKJ2K",
          "timestamp": 1522238054357
        },
        {
          "file_id": "1_HpC-RrmIv4lNaqeoslUeWaX8zH5IXaJ",
          "timestamp": 1521743157199
        },
        {
          "file_id": "1mjO2fQ2F9hxpAzw2mnrrUkcgfb7xSGW-",
          "timestamp": 1520522344607
        }
      ],
      "version": "0.3.2",
      "views": {}
    },
    "kernelspec": {
      "display_name": "Python 2",
      "name": "python2"
    }
  },
  "nbformat": 4,
  "nbformat_minor": 0
}
