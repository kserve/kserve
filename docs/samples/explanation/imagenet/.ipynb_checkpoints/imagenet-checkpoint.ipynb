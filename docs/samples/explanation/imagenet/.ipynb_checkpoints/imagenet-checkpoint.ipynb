{
 "cells": [
  {
   "cell_type": "code",
   "execution_count": 21,
   "metadata": {},
   "outputs": [
    {
     "name": "stderr",
     "output_type": "stream",
     "text": [
      "Using TensorFlow backend.\n"
     ]
    }
   ],
   "source": [
    "\n",
    "from keras.applications.inception_v3 import InceptionV3\n",
    "from keras.layers import Input\n",
    "model = InceptionV3(weights='imagenet')\n"
   ]
  },
  {
   "cell_type": "code",
   "execution_count": null,
   "metadata": {},
   "outputs": [],
   "source": [
    "model.save('inception.h5')"
   ]
  },
  {
   "cell_type": "code",
   "execution_count": 1,
   "metadata": {},
   "outputs": [
    {
     "name": "stdout",
     "output_type": "stream",
     "text": [
      "WARNING:tensorflow:From /home/clive/anaconda3/envs/kfserving/lib/python3.7/site-packages/tensorflow/python/ops/resource_variable_ops.py:435: colocate_with (from tensorflow.python.framework.ops) is deprecated and will be removed in a future version.\n",
      "Instructions for updating:\n",
      "Colocations handled automatically by placer.\n",
      "WARNING:tensorflow:No training configuration found in save file: the model was *not* compiled. Compile it manually.\n",
      "WARNING:tensorflow:From <ipython-input-1-644c82c28d8e>:16: simple_save (from tensorflow.python.saved_model.simple_save) is deprecated and will be removed in a future version.\n",
      "Instructions for updating:\n",
      "This function will only be available through the v1 compatibility library as tf.compat.v1.saved_model.simple_save.\n",
      "WARNING:tensorflow:From /home/clive/anaconda3/envs/kfserving/lib/python3.7/site-packages/tensorflow/python/saved_model/signature_def_utils_impl.py:205: build_tensor_info (from tensorflow.python.saved_model.utils_impl) is deprecated and will be removed in a future version.\n",
      "Instructions for updating:\n",
      "This function will only be available through the v1 compatibility library as tf.compat.v1.saved_model.utils.build_tensor_info or tf.compat.v1.saved_model.build_tensor_info.\n",
      "INFO:tensorflow:Assets added to graph.\n",
      "INFO:tensorflow:No assets to write.\n",
      "INFO:tensorflow:SavedModel written to: imagenet/1/saved_model.pb\n"
     ]
    }
   ],
   "source": [
    "import tensorflow as tf\n",
    "\n",
    "# The export path contains the name and the version of the model\n",
    "tf.keras.backend.set_learning_phase(0)  # Ignore dropout at inference\n",
    "model = tf.keras.models.load_model('./inception.h5')\n",
    "export_path = 'imagenet/1'\n",
    "\n",
    "# Fetch the Keras session and save the model\n",
    "# The signature definition is defined by the input and output tensors\n",
    "# And stored with the default serving key\n",
    "with tf.keras.backend.get_session() as sess:\n",
    "    tf.saved_model.simple_save(\n",
    "        sess,\n",
    "        export_path,\n",
    "        inputs={'input_image': model.input},\n",
    "        outputs={t.name: t for t in model.outputs})"
   ]
  },
  {
   "cell_type": "code",
   "execution_count": null,
   "metadata": {},
   "outputs": [],
   "source": []
  },
  {
   "cell_type": "code",
   "execution_count": 2,
   "metadata": {},
   "outputs": [],
   "source": [
    "import matplotlib\n",
    "%matplotlib inline\n",
    "import matplotlib.pyplot as plt\n",
    "import numpy as np\n",
    "from tensorflow.keras.applications.inception_v3 import InceptionV3, preprocess_input, decode_predictions\n",
    "from alibi.datasets import fetch_imagenet\n",
    "from alibi.explainers import AnchorImage"
   ]
  },
  {
   "cell_type": "code",
   "execution_count": 2,
   "metadata": {},
   "outputs": [
    {
     "name": "stdout",
     "output_type": "stream",
     "text": [
      "WARNING:tensorflow:From /home/clive/anaconda3/envs/kfserving/lib/python3.7/site-packages/tensorflow/python/ops/resource_variable_ops.py:435: colocate_with (from tensorflow.python.framework.ops) is deprecated and will be removed in a future version.\n",
      "Instructions for updating:\n",
      "Colocations handled automatically by placer.\n"
     ]
    }
   ],
   "source": [
    "model = InceptionV3(weights='imagenet')"
   ]
  },
  {
   "cell_type": "code",
   "execution_count": 20,
   "metadata": {},
   "outputs": [
    {
     "name": "stdout",
     "output_type": "stream",
     "text": [
      "Images shape: (10, 299, 299, 3)\n"
     ]
    }
   ],
   "source": [
    "category = 'Persian cat'\n",
    "image_shape = (299, 299, 3)\n",
    "data, labels = fetch_imagenet(category, nb_images=10, target_size=image_shape[:2], seed=2, return_X_y=True)\n",
    "print('Images shape: {}'.format(data.shape))"
   ]
  },
  {
   "cell_type": "code",
   "execution_count": 21,
   "metadata": {},
   "outputs": [],
   "source": [
    "images = preprocess_input(data)"
   ]
  },
  {
   "cell_type": "code",
   "execution_count": 23,
   "metadata": {},
   "outputs": [
    {
     "data": {
      "text/plain": [
       "23038.236"
      ]
     },
     "execution_count": 23,
     "metadata": {},
     "output_type": "execute_result"
    }
   ],
   "source": [
    "images[0].sum()"
   ]
  },
  {
   "cell_type": "code",
   "execution_count": 25,
   "metadata": {},
   "outputs": [
    {
     "data": {
      "text/plain": [
       "array([-0.5764706, -0.7411765, -0.7490196], dtype=float32)"
      ]
     },
     "execution_count": 25,
     "metadata": {},
     "output_type": "execute_result"
    }
   ],
   "source": [
    "images[0][0][0]"
   ]
  },
  {
   "cell_type": "code",
   "execution_count": 24,
   "metadata": {},
   "outputs": [
    {
     "data": {
      "text/plain": [
       "<matplotlib.image.AxesImage at 0x7fb865d07e80>"
      ]
     },
     "execution_count": 24,
     "metadata": {},
     "output_type": "execute_result"
    },
    {
     "data": {
      "image/png": "[encoded data removed]",
      "text/plain": [
       "<Figure size 432x288 with 1 Axes>"
      ]
     },
     "metadata": {
      "needs_background": "light"
     },
     "output_type": "display_data"
    }
   ],
   "source": [
    "from skimage.segmentation import felzenszwalb, slic, quickshift\n",
    "#s1 = self.anchors_image.segmentation_fn(arr[0])\n",
    "kwargs = {'n_segments': 15, 'compactness': 20, 'sigma': .5}\n",
    "s1 = slic(images[0],**kwargs)\n",
    "\n",
    "plt.imshow(s1)\n"
   ]
  },
  {
   "cell_type": "code",
   "execution_count": 5,
   "metadata": {},
   "outputs": [
    {
     "data": {
      "text/plain": [
       "(10, 299, 299, 3)"
      ]
     },
     "execution_count": 5,
     "metadata": {},
     "output_type": "execute_result"
    }
   ],
   "source": [
    "images.shape"
   ]
  },
  {
   "cell_type": "code",
   "execution_count": 25,
   "metadata": {},
   "outputs": [],
   "source": [
    "preds = model.predict(images)"
   ]
  },
  {
   "cell_type": "code",
   "execution_count": 27,
   "metadata": {},
   "outputs": [
    {
     "data": {
      "text/plain": [
       "(10, 1000)"
      ]
     },
     "execution_count": 27,
     "metadata": {},
     "output_type": "execute_result"
    }
   ],
   "source": [
    "preds.shape"
   ]
  },
  {
   "cell_type": "code",
   "execution_count": 43,
   "metadata": {},
   "outputs": [
    {
     "name": "stdout",
     "output_type": "stream",
     "text": [
      "(10, 299, 299, 3)\n",
      "{'predictions': [[0.000102447455, 4.32829875e-05, 6.68679058e-05, 8.52054873e-05, 4.33608257e-05, 8.8340159e-05, 3.8111124e-05, 2.30502919e-05, 5.66407762e-05, 0.000108238797, 9.80296827e-05, 0.000105110426, 0.000115287519, 6.65152911e-05, 6.78704091e-05, 6.41203151e-05, 0.000124759841, 7.19811142e-05, 3.98708471e-05, 6.17957121e-05, 6.75296469e-05, 0.000338324491, 0.000234581734, 5.17136614e-05, 0.000353784679, 0.000104380015, 8.62676752e-05, 5.995635e-05, 6.15120734e-05, 0.000109415814, 0.000127241627, 0.000144607358, 5.58826396e-05, 6.09077833e-05, 5.29709214e-05, 0.000150074469, 3.20211839e-05, 9.09220398e-05, 5.83527653e-05, 4.31567387e-05, 8.49407515e-05, 5.83981346e-05, 8.95256599e-05, 0.00012335692, 2.80305012e-05, 3.27379603e-05, 8.3837389e-05, 7.12958e-05, 0.000120441109, 6.32346782e-05, 6.05087698e-05, 7.39210664e-05, 6.77569769e-05, 8.10144775e-05, 0.000149272833, 7.20207317e-05, 4.16570874e-05, 5.11528706e-05, 0.000133191497, 0.000124766142, 9.45057473e-05, 0.000110619985, 0.000143358513, 7.09647647e-05, 0.000129585271, 0.000125971914, 0.000110559027, 9.62548875e-05, 9.81954799e-05, 3.65483465e-05, 0.000118830365, 2.53253074e-05, 6.00755193e-05, 4.61906457e-05, 0.000178449467, 8.033e-05, 6.73775721e-05, 9.08695074e-05, 3.95757415e-05, 4.01895377e-05, 0.000110941473, 4.14944079e-05, 0.000184630844, 2.98843916e-05, 4.25962608e-05, 3.61292332e-05, 8.24072049e-05, 5.96664722e-05, 4.69927836e-05, 0.000120016419, 0.000193132888, 0.000111937276, 0.000108319335, 0.00012683672, 6.54096657e-05, 0.000125614039, 0.000123557664, 6.89938e-05, 0.000117319105, 3.83210827e-05, 9.11644602e-05, 4.80402923e-05, 7.33833149e-05, 0.000124532438, 5.12928955e-06, 0.000420585886, 0.000219838286, 2.99795047e-05, 5.56636587e-05, 8.25143143e-05, 7.31401742e-05, 0.00011927406, 0.000248599157, 9.89092077e-05, 7.13216432e-05, 7.9855512e-05, 0.000123642763, 6.31713265e-05, 2.57723e-05, 5.02822186e-05, 0.000141487, 1.77340025e-05, 2.66225506e-05, 2.93558842e-05, 3.90935966e-05, 5.0980223e-05, 5.13467094e-05, 5.40997098e-05, 6.38048223e-05, 9.37400691e-05, 3.84825507e-05, 6.42777813e-05, 7.68330719e-05, 7.97851608e-05, 2.81310076e-05, 0.00015983847, 0.000126152241, 5.9739923e-05, 2.50163212e-05, 4.98436457e-05, 5.6789846e-05, 4.92161344e-05, 7.08263615e-05, 0.000146404491, 3.29798131e-05, 6.27423433e-05, 0.000195587898, 0.00014021869, 7.67334786e-05, 0.000145418468, 5.06619435e-05, 1.77316688e-05, 0.000107807347, 9.88752581e-05, 0.000139470256, 0.000118924123, 1.51909317e-05, 1.86497928e-05, 2.68320964e-05, 5.76148814e-05, 3.31021074e-05, 4.06753388e-05, 1.32179621e-05, 4.91998e-05, 5.6075256e-05, 7.01942117e-05, 7.48273887e-05, 6.60163e-05, 7.61515839e-05, 2.66160769e-05, 4.99526686e-05, 8.1952021e-05, 4.69282932e-05, 3.78590266e-05, 1.62571614e-05, 3.10714713e-05, 3.43893771e-05, 6.77839926e-05, 4.27789309e-05, 2.91436918e-05, 0.000127266612, 7.92154e-05, 2.76328519e-05, 3.60767917e-05, 3.34193028e-05, 9.34126438e-05, 0.000115070041, 0.000153916131, 7.90715494e-05, 2.12393388e-05, 0.00010558655, 9.11641109e-05, 8.3535866e-05, 6.02232212e-05, 6.99978773e-05, 5.06603501e-05, 4.98648078e-05, 4.97119108e-05, 4.81987518e-05, 4.83948279e-05, 9.20717357e-05, 1.29051332e-05, 7.59675531e-05, 7.50012114e-05, 5.02286821e-05, 8.66801856e-05, 6.9762631e-05, 3.214553e-05, 4.34799149e-05, 8.54501777e-05, 7.35012582e-05, 4.76463065e-05, 2.79439955e-05, 5.85036578e-05, 4.1711075e-05, 1.87315181e-05, 0.000130208515, 3.50368937e-05, 9.01585736e-05, 2.28158642e-05, 5.4094191e-05, 8.325409e-05, 6.35757169e-05, 5.75165e-05, 8.70152871e-05, 5.26523618e-05, 2.99232925e-05, 3.76176795e-05, 5.09460078e-05, 7.45678e-05, 6.67665227e-05, 3.46924317e-05, 4.84249285e-05, 9.38923549e-05, 0.000100418045, 7.84931e-05, 6.1378e-05, 2.99874537e-05, 2.66992083e-05, 3.29681498e-05, 2.8168537e-05, 7.51964471e-05, 5.10549107e-05, 5.60228218e-05, 1.91433464e-05, 2.82885503e-05, 8.82128661e-05, 4.63472934e-05, 3.53604846e-05, 4.03963459e-05, 6.05320274e-05, 2.85439655e-05, 0.000159712465, 1.78594091e-05, 3.30971816e-05, 3.7183996e-05, 7.64095385e-05, 5.13315317e-05, 9.36363358e-05, 0.000195838191, 0.000121202167, 0.000384730694, 0.000215995766, 1.96499604e-05, 2.98118885e-05, 5.00642673e-05, 3.24901921e-05, 4.03281374e-05, 9.21445608e-05, 0.000108416483, 0.000138779113, 3.38056307e-05, 6.03249682e-05, 6.46120607e-05, 3.74618758e-05, 4.86698482e-05, 6.58003337e-05, 2.14037173e-05, 5.1820396e-05, 0.000186551551, 5.18582638e-05, 0.000652999093, 7.83132782e-05, 0.909348, 0.000171876236, 2.41705111e-05, 2.51708461e-05, 0.000645945955, 0.000157948423, 0.000189638828, 3.80495621e-05, 0.000155817193, 7.91472921e-05, 6.83381732e-05, 6.37252815e-05, 9.63232087e-05, 2.67416381e-05, 0.000113427988, 4.08985361e-05, 4.73781147e-05, 0.000128243249, 6.93448674e-05, 7.2476796e-05, 0.000100848672, 4.33865534e-05, 5.38024251e-05, 0.000283369242, 6.57318378e-05, 4.25073122e-05, 7.76683446e-05, 7.7052835e-05, 7.58265596e-05, 6.89792068e-05, 0.000132189773, 2.83387453e-05, 7.02512043e-05, 0.000106048334, 0.000110134722, 7.89973783e-05, 0.000140044154, 0.000110116336, 0.000127063118, 5.58198954e-05, 0.000105919971, 6.11659416e-05, 0.000104645638, 9.23951739e-05, 6.21109211e-05, 4.22790072e-05, 7.61089614e-05, 4.70142077e-05, 2.54265869e-05, 0.000233554238, 0.000113365793, 4.18450618e-05, 9.25204658e-05, 2.48489778e-05, 6.13740776e-05, 4.86265162e-05, 9.12558753e-05, 3.48322646e-05, 2.80123822e-05, 9.39790698e-05, 6.16703692e-05, 4.92466497e-05, 6.25260509e-05, 2.84251728e-05, 0.00010862523, 2.58102536e-05, 6.32458323e-05, 4.96191278e-05, 0.000143843587, 3.68913206e-05, 1.9322104e-05, 0.000105740517, 2.15320651e-05, 1.94188287e-05, 0.000136401024, 4.8229791e-05, 8.58981657e-05, 7.02550169e-05, 3.80871788e-05, 2.7242635e-05, 3.48902468e-05, 6.2589228e-05, 0.0001024667, 2.86979921e-05, 0.000111105692, 5.27953634e-05, 7.55094734e-05, 5.55128354e-05, 6.39804275e-05, 2.40877616e-05, 0.000126044, 5.87663599e-05, 4.17574e-05, 4.46591912e-05, 0.000290727825, 0.000305645604, 0.0001687904, 0.000208234211, 4.35079564e-05, 0.000102435442, 2.75692564e-05, 8.59327411e-05, 0.000115769653, 3.01023247e-05, 9.12830365e-05, 6.88726432e-05, 4.71965977e-05, 5.7244808e-05, 4.3940785e-05, 0.000144683785, 5.41827903e-05, 2.28910776e-05, 5.67788484e-05, 4.28544299e-05, 5.81812237e-05, 7.64770448e-05, 5.41034278e-05, 2.35431035e-05, 2.94966212e-05, 2.28438839e-05, 0.000101637212, 9.69054308e-05, 6.2342122e-05, 3.27285925e-05, 3.85726089e-05, 9.11045718e-05, 2.05796314e-05, 4.0736446e-05, 1.77445927e-05, 6.95187555e-05, 0.000115726281, 2.75114744e-05, 3.43560714e-05, 9.02832544e-05, 4.61669515e-05, 6.913377e-05, 3.52402021e-05, 2.23546012e-05, 5.00583956e-05, 0.000105640836, 0.000111489404, 0.000114228467, 0.000212259867, 5.82503417e-05, 5.05953649e-05, 2.02952087e-05, 2.47483476e-05, 3.28942515e-05, 4.12095978e-05, 0.000174181434, 6.453065e-05, 4.78534603e-05, 0.000122718484, 7.22992336e-05, 2.67139312e-05, 0.000403431623, 3.69967347e-05, 5.94523335e-05, 4.56087764e-05, 2.36314372e-05, 8.37122e-05, 7.36316142e-05, 2.10703365e-05, 2.08559832e-05, 7.07237705e-05, 0.000130900517, 4.33501154e-05, 6.24355962e-05, 3.36941666e-05, 3.71951683e-05, 0.000124094964, 6.44263637e-05, 3.46246052e-05, 8.85893824e-05, 0.000103379243, 0.000133402893, 0.000110910907, 1.80126553e-05, 5.09777e-05, 4.96360663e-05, 3.1934298e-05, 2.48945889e-05, 0.000123440943, 7.09717351e-05, 3.51485032e-05, 7.35658468e-05, 4.4538232e-05, 2.1502965e-05, 0.000378428405, 0.000172575761, 0.000514144776, 8.17174223e-05, 6.02919e-05, 6.24385793e-05, 2.34238905e-05, 3.02432927e-05, 9.2311675e-05, 3.56517266e-05, 0.000105775922, 0.000101774363, 5.07313744e-05, 2.927266e-05, 2.11367733e-05, 5.80303895e-05, 2.91687738e-05, 4.39140604e-05, 8.98609651e-05, 4.63852775e-05, 3.81324608e-05, 7.8536e-05, 7.24687707e-05, 5.58676657e-05, 0.000121483718, 3.4046865e-05, 6.09693307e-05, 2.35972529e-05, 8.27746408e-05, 4.51636042e-05, 4.07199732e-05, 5.87050818e-05, 4.35241818e-05, 0.00010558292, 2.54556289e-05, 2.46379241e-05, 3.93827067e-05, 0.000630250084, 2.84858506e-05, 1.86013167e-05, 0.000147529689, 2.2044238e-05, 0.00010221119, 2.73694022e-05, 5.59378277e-05, 2.24083051e-05, 8.48194904e-05, 2.62107078e-05, 0.00011000676, 6.87496649e-05, 4.4042441e-05, 1.3024558e-05, 3.24849898e-05, 4.85993951e-05, 3.09961797e-05, 0.000376851123, 0.000480125367, 9.1717593e-05, 3.79362646e-05, 2.98749292e-05, 3.31609408e-05, 0.000274276856, 0.000125852195, 0.00276918919, 5.25612559e-05, 3.34756e-05, 6.23484302e-05, 4.86171484e-05, 2.57340871e-05, 7.14046109e-05, 3.32331219e-05, 5.70214652e-05, 0.000398819742, 4.45971818e-05, 0.000117972872, 2.3982484e-05, 1.98008293e-05, 0.000206401208, 7.36532529e-05, 3.531115e-05, 8.9536843e-05, 7.44340796e-05, 0.000367308181, 2.35570042e-05, 9.28097143e-05, 2.76364881e-05, 0.000116988405, 3.48561225e-05, 3.76868e-05, 4.79612791e-05, 2.03657073e-05, 2.05582892e-05, 7.06152e-05, 0.000111001587, 9.70919209e-05, 6.04769812e-05, 2.44154362e-05, 3.10571049e-05, 2.4615636e-05, 2.41149755e-05, 3.49933471e-05, 4.06205654e-05, 5.79016923e-05, 5.5797751e-05, 4.22405574e-05, 2.80787153e-05, 6.78592842e-05, 9.29410598e-05, 0.000173081105, 6.30534778e-05, 7.19337e-05, 1.40670672e-05, 6.58190329e-05, 3.1132724e-05, 8.8331064e-05, 7.66897938e-05, 5.13637533e-05, 0.000116518197, 0.000148823106, 4.06033687e-05, 9.81393096e-05, 0.000316638674, 0.000107991444, 4.38080606e-05, 0.000115092866, 0.000245486473, 0.000203854986, 7.5993863e-05, 8.71551456e-05, 5.17166663e-05, 3.75183663e-05, 0.000100707781, 7.86185847e-05, 3.37007586e-05, 0.0006478164, 0.000102412778, 3.60082195e-05, 0.000142272867, 5.25707292e-05, 5.20280773e-05, 0.000100702877, 4.6260473e-05, 4.51581363e-05, 2.58412365e-05, 5.6716126e-05, 3.64073203e-05, 7.54568537e-05, 4.7782316e-05, 5.30344078e-05, 0.00123480684, 2.53506332e-05, 9.97282259e-05, 8.07110264e-05, 0.00015883724, 5.88105395e-05, 0.000100582321, 6.62176899e-05, 0.000115133596, 2.99137319e-05, 3.68825931e-05, 8.73475219e-05, 0.000134406117, 3.90278474e-05, 8.99944134e-05, 0.000130127213, 3.76518874e-05, 9.57534357e-05, 6.97430078e-05, 3.7837086e-05, 6.80167868e-05, 0.000130113433, 4.10444336e-05, 2.80351542e-05, 0.000124839586, 5.6843e-05, 4.97438305e-05, 3.07608643e-05, 6.8428235e-05, 6.78419383e-05, 3.69082118e-05, 0.00017474714, 0.000169685023, 6.47580164e-05, 1.59942538e-05, 3.85346284e-05, 0.000133221722, 8.58980056e-05, 3.26164518e-05, 8.50526922e-05, 0.00010862005, 9.13489639e-05, 0.000152922526, 4.41142802e-05, 7.96016247e-05, 7.70417391e-05, 4.33171372e-05, 3.90996393e-05, 3.71519163e-05, 2.92563909e-05, 5.45105031e-05, 8.83160683e-05, 5.13780105e-05, 0.000432111236, 7.26386425e-05, 3.88268636e-05, 8.65527254e-05, 8.64430112e-05, 2.86222239e-05, 1.86705583e-05, 6.13612e-05, 0.00200552656, 7.77779787e-05, 8.05902746e-05, 2.03086856e-05, 0.000138806659, 0.000122301964, 1.51524446e-05, 5.09581077e-05, 3.81871941e-05, 5.47325144e-05, 0.000126571613, 8.36064864e-05, 3.75391974e-05, 3.16612277e-05, 8.00001e-05, 1.89100738e-05, 3.9578008e-05, 3.14752324e-05, 2.63155507e-05, 6.1587205e-05, 3.81019636e-05, 5.49527031e-05, 9.43854e-05, 7.85041e-05, 8.29299897e-05, 5.03437805e-05, 3.11029544e-05, 5.18518355e-05, 7.79478723e-05, 2.80622244e-05, 2.47513672e-05, 5.36368971e-05, 0.000191563027, 0.000106479238, 7.89329861e-05, 0.000121535631, 0.000142859, 4.24633472e-05, 4.7241585e-05, 0.000104674982, 0.000123647245, 0.000315610057, 0.000118753669, 0.00111862796, 7.53823406e-05, 2.49961231e-05, 2.49430213e-05, 4.57879396e-05, 8.07609176e-05, 5.79355547e-05, 6.82381433e-05, 9.7928576e-05, 0.000187560523, 8.33387676e-05, 3.32295422e-05, 0.000155887945, 0.000258653396, 2.93888e-05, 1.09147395e-05, 3.00098545e-05, 2.41154357e-05, 0.000752233784, 5.57224557e-05, 0.000127033069, 0.000225095384, 3.17456397e-05, 3.13715755e-05, 6.70344816e-05, 2.97113857e-05, 6.40038634e-05, 7.2428149e-05, 2.32340917e-05, 0.00014807799, 9.35437e-05, 4.91706705e-05, 3.77546858e-05, 7.29515959e-05, 1.45404529e-05, 4.29607e-05, 0.00136552972, 0.000137857205, 0.00011754466, 9.86451632e-05, 0.0001045096, 3.57157369e-05, 9.4873365e-05, 5.29433455e-05, 6.23457454e-05, 0.000186234247, 4.13513226e-05, 4.67860518e-05, 2.82482197e-05, 3.10494615e-05, 1.67420403e-05, 0.000180624964, 3.49183756e-05, 0.000230527, 8.36766e-05, 8.44212336e-05, 0.00077286904, 2.69158772e-05, 0.000548260577, 0.000103253718, 0.000284391484, 3.11557415e-05, 0.000427061896, 3.38071441e-05, 6.68811044e-05, 3.8238617e-05, 3.23078639e-05, 0.000120710189, 3.19705e-05, 2.33134633e-05, 0.000123883307, 5.79340594e-05, 2.20637976e-05, 2.02129831e-05, 4.78568363e-05, 0.000603885448, 4.09286185e-05, 6.10230818e-05, 8.92703174e-05, 7.09117303e-05, 3.54527692e-05, 2.32872208e-05, 0.000190013016, 4.87113612e-05, 3.78293626e-05, 5.03340343e-05, 0.000298151164, 5.03285628e-05, 4.57985952e-05, 3.9058752e-05, 3.60076e-05, 0.000207132776, 5.03122938e-05, 0.000122832877, 0.000366737135, 2.24978303e-05, 7.93858635e-05, 6.21778308e-05, 3.98803531e-05, 0.000113996335, 2.42672868e-05, 4.34632493e-05, 0.000126415267, 6.16934849e-05, 5.40075926e-05, 7.73962456e-05, 7.35716e-05, 0.000201744, 0.000107915257, 8.07893448e-05, 7.0749e-05, 7.01517856e-05, 1.32909599e-05, 0.000211833365, 4.00851895e-05, 2.88416231e-05, 1.61653115e-05, 5.89401352e-05, 2.21034352e-05, 2.0587584e-05, 4.61856253e-05, 9.09234222e-05, 5.73128673e-05, 0.000104119135, 4.91522951e-05, 2.39564e-05, 0.000123744336, 7.66156e-05, 6.34861644e-05, 3.10642426e-05, 8.90297888e-05, 5.01741051e-05, 6.0832841e-05, 8.72736709e-05, 4.47024431e-05, 1.01490132e-05, 3.95531024e-05, 7.26493818e-05, 6.57879064e-05, 3.6649988e-05, 3.28310671e-05, 5.19619789e-05, 4.78755064e-05, 5.65756709e-05, 1.71253741e-05, 5.39492139e-05, 5.90309246e-05, 3.36113335e-05, 2.78755142e-05, 4.19597091e-05, 0.000102346094, 3.83988954e-05, 0.000304342684, 5.04782474e-05, 5.68030046e-05, 3.2773165e-05, 3.82489e-05, 0.000212380342, 5.25676696e-05, 9.50674585e-05, 4.7029007e-05, 4.15614159e-05, 5.15713255e-05, 1.7731094e-05, 6.24015447e-05, 5.06608812e-05, 3.98420707e-05, 0.000107668027, 6.17925252e-05, 4.4282544e-05, 0.000155668517, 6.64102627e-05, 0.000319522253, 0.000434706715, 8.61140434e-05, 4.76076566e-05, 0.000112219255, 8.39347485e-05, 6.91365422e-05, 3.08291419e-05, 0.000273169513, 0.000169744249, 9.29955859e-05, 2.54036095e-05, 0.000114951028, 0.000103499202, 5.43084461e-05, 2.13070398e-05, 3.59884471e-05, 2.2311322e-05, 8.85437621e-05, 7.32108e-05, 0.000405908853, 3.2565822e-05, 6.04316119e-05, 0.000119237549, 0.000133496695, 5.51573175e-05, 0.000130791086, 4.38976022e-05, 7.59287359e-05, 2.79635115e-05, 3.82408034e-05, 9.21712781e-05, 2.72195211e-05, 7.05820057e-05, 9.14041157e-05, 8.50636425e-05, 3.60866688e-05, 0.000108168933, 1.68068782e-05, 6.71237285e-05, 2.40593854e-05, 9.45758875e-05, 0.000104916639, 3.20122635e-05, 5.08961384e-05, 3.33285934e-05, 1.7475455e-05, 1.23908294e-05, 6.68929642e-05, 9.43624618e-05, 0.000150983018, 0.000143477781, 6.0065202e-05, 5.5331122e-05, 0.000154429697, 7.41367476e-05, 0.000203610558, 4.57689894e-05, 0.000248597265, 0.000168269, 0.000106587846, 8.54340396e-05, 3.45520384e-05, 8.19718771e-05, 2.65706549e-05, 4.80316812e-05, 8.23668233e-05, 0.000157617091, 6.59220532e-05, 4.88399746e-05, 5.54260259e-05, 7.97470566e-05, 0.000234706604, 5.11441394e-05, 0.00012191233, 3.48315e-05, 1.87905989e-05, 3.37890306e-05, 6.07014663e-05, 2.22164763e-05, 4.60322044e-05, 5.16320542e-05, 3.78323202e-05, 3.3499553e-05, 7.15547067e-05, 2.87226867e-05, 3.06349175e-05, 2.79081778e-05, 4.43673453e-05, 7.02809557e-05, 5.05615972e-05, 6.47090565e-05, 0.00012425473, 3.26262198e-05, 6.72045571e-05, 7.67484089e-05, 8.21701324e-05, 8.51967925e-05, 5.30237376e-05, 4.66760248e-05, 0.000186651392, 7.73477732e-05, 7.00517048e-05, 3.87004693e-05]]}\n"
     ]
    }
   ],
   "source": [
    "import numpy as np\n",
    "import requests\n",
    "import json\n",
    "\n",
    "payload = {\n",
    "    \"instances\": [images[0].tolist()]\n",
    "}\n",
    "\n",
    "arr = []\n",
    "print(images.shape)\n",
    "for data in images:\n",
    "    arr.append(data.tolist())\n",
    "    break\n",
    "payload = {\"instances\": arr}\n",
    "\n",
    "#arr = []\n",
    "#for image in images:\n",
    "#    arr.append(image.tolist())\n",
    "#payload = {\"instances\": arr}\n",
    "\n",
    "# sending post request to TensorFlow Serving server\n",
    "r = requests.post('http://localhost:9000/v1/models/ImageClassifier:predict', json=payload)\n",
    "pred = json.loads(r.content.decode('utf-8'))\n",
    "print(pred)"
   ]
  },
  {
   "cell_type": "code",
   "execution_count": 21,
   "metadata": {},
   "outputs": [
    {
     "data": {
      "text/plain": [
       "(10, 1000)"
      ]
     },
     "execution_count": 21,
     "metadata": {},
     "output_type": "execute_result"
    }
   ],
   "source": [
    "arr = np.array(pred['predictions'])\n",
    "arr.shape"
   ]
  },
  {
   "cell_type": "code",
   "execution_count": 6,
   "metadata": {},
   "outputs": [],
   "source": [
    "import numpy as np\n",
    "import requests\n",
    "import json\n",
    "\n",
    "payload = {\n",
    "    \"instances\": [{'input_image': images[0].tolist()}]\n",
    "}\n",
    "\n",
    "# sending post request to TensorFlow Serving server\n",
    "r = requests.post('http://localhost:9000/v1/models/ImageClassifier:predict', json=payload)\n",
    "pred = json.loads(r.content.decode('utf-8'))"
   ]
  },
  {
   "cell_type": "code",
   "execution_count": 12,
   "metadata": {},
   "outputs": [],
   "source": [
    "import numpy as np\n",
    "import requests\n",
    "import json\n",
    "\n",
    "payload = {\n",
    "    \"instances\": [images[0].tolist()]\n",
    "}\n",
    "\n",
    "# sending post request to TensorFlow Serving server\n",
    "r = requests.post('http://localhost:9000/v1/models/ImageClassifier:predict', json=payload)\n",
    "pred = json.loads(r.content.decode('utf-8'))"
   ]
  },
  {
   "cell_type": "code",
   "execution_count": 13,
   "metadata": {},
   "outputs": [
    {
     "ename": "KeyError",
     "evalue": "'predictions'",
     "output_type": "error",
     "traceback": [
      "\u001b[0;31m---------------------------------------------------------------------------\u001b[0m",
      "\u001b[0;31mKeyError\u001b[0m                                  Traceback (most recent call last)",
      "\u001b[0;32m<ipython-input-13-720a228aecf8>\u001b[0m in \u001b[0;36m<module>\u001b[0;34m\u001b[0m\n\u001b[0;32m----> 1\u001b[0;31m \u001b[0mlabel\u001b[0m \u001b[0;34m=\u001b[0m \u001b[0mdecode_predictions\u001b[0m\u001b[0;34m(\u001b[0m\u001b[0mnp\u001b[0m\u001b[0;34m.\u001b[0m\u001b[0marray\u001b[0m\u001b[0;34m(\u001b[0m\u001b[0mpred\u001b[0m\u001b[0;34m[\u001b[0m\u001b[0;34m'predictions'\u001b[0m\u001b[0;34m]\u001b[0m\u001b[0;34m)\u001b[0m\u001b[0;34m,\u001b[0m \u001b[0mtop\u001b[0m\u001b[0;34m=\u001b[0m\u001b[0;36m3\u001b[0m\u001b[0;34m)\u001b[0m\u001b[0;34m\u001b[0m\u001b[0;34m\u001b[0m\u001b[0m\n\u001b[0m",
      "\u001b[0;31mKeyError\u001b[0m: 'predictions'"
     ]
    }
   ],
   "source": [
    "label = decode_predictions(np.array(pred['predictions']), top=3)"
   ]
  },
  {
   "cell_type": "code",
   "execution_count": 14,
   "metadata": {},
   "outputs": [
    {
     "data": {
      "text/plain": [
       "{'error': 'input must be 4-dimensional[1,10,299,299,3]\\n\\t [[{{node activation_95/Relu}}]]'}"
      ]
     },
     "execution_count": 14,
     "metadata": {},
     "output_type": "execute_result"
    }
   ],
   "source": [
    "pred"
   ]
  },
  {
   "cell_type": "code",
   "execution_count": 11,
   "metadata": {},
   "outputs": [
    {
     "data": {
      "text/plain": [
       "[[('n02123394', 'Persian_cat', 0.909348),\n",
       "  ('n03207941', 'dishwasher', 0.00276918919),\n",
       "  ('n03832673', 'notebook', 0.00200552656)]]"
      ]
     },
     "execution_count": 11,
     "metadata": {},
     "output_type": "execute_result"
    }
   ],
   "source": [
    "label"
   ]
  },
  {
   "cell_type": "code",
   "execution_count": 1,
   "metadata": {},
   "outputs": [],
   "source": [
    "import matplotlib\n",
    "%matplotlib inline\n",
    "import matplotlib.pyplot as plt\n",
    "import numpy as np\n",
    "from tensorflow.keras.applications.inception_v3 import InceptionV3, preprocess_input, decode_predictions\n",
    "from alibi.datasets import fetch_imagenet\n",
    "from alibi.explainers import AnchorImage"
   ]
  },
  {
   "cell_type": "code",
   "execution_count": null,
   "metadata": {},
   "outputs": [],
   "source": []
  },
  {
   "cell_type": "code",
   "execution_count": 37,
   "metadata": {},
   "outputs": [],
   "source": [
    "def predict_fn(images):\n",
    "    arr = []\n",
    "    for image in images:\n",
    "        arr.append(image.tolist())\n",
    "    payload = {\"instances\": arr}\n",
    "    r = requests.post('http://localhost:9000/v1/models/ImageClassifier:predict', json=payload)\n",
    "    pred = json.loads(r.content.decode('utf-8'))\n",
    "    return np.array(pred['predictions'])"
   ]
  },
  {
   "cell_type": "code",
   "execution_count": 72,
   "metadata": {},
   "outputs": [],
   "source": [
    "import logging\n",
    "logger = logging.getLogger()\n",
    "logger.setLevel(logging.DEBUG)\n",
    "def predict_fn(arr):\n",
    "    logging.info(\"shape is %s\" % (arr.shape,))\n",
    "    data = []\n",
    "    for req_data in arr:\n",
    "        logging.info(\"Adding data shape %s\" % (req_data.shape,))\n",
    "        data.append(req_data.tolist())\n",
    "    logging.info(\"Data length %s\" % len(data))\n",
    "    payload = {\"instances\": data}\n",
    "    response_raw = requests.post('http://localhost:9000/v1/models/ImageClassifier:predict', json=payload)\n",
    "    if response_raw.status_code == 200:\n",
    "        j_resp = response_raw.json()\n",
    "        return np.array(j_resp['predictions'])\n",
    "    else:\n",
    "        raise Exception(\"Failed to get response from model return_code:%d\" % response_raw.status_code)"
   ]
  },
  {
   "cell_type": "code",
   "execution_count": 18,
   "metadata": {},
   "outputs": [],
   "source": [
    "predict_fn = lambda x: model.predict(x)\n"
   ]
  },
  {
   "cell_type": "code",
   "execution_count": 19,
   "metadata": {},
   "outputs": [
    {
     "ename": "NameError",
     "evalue": "name 'model' is not defined",
     "output_type": "error",
     "traceback": [
      "\u001b[0;31m---------------------------------------------------------------------------\u001b[0m",
      "\u001b[0;31mNameError\u001b[0m                                 Traceback (most recent call last)",
      "\u001b[0;32m<ipython-input-19-1fb577c2a0b5>\u001b[0m in \u001b[0;36m<module>\u001b[0;34m\u001b[0m\n\u001b[1;32m      3\u001b[0m \u001b[0mimage_shape\u001b[0m \u001b[0;34m=\u001b[0m \u001b[0;34m(\u001b[0m\u001b[0;36m299\u001b[0m\u001b[0;34m,\u001b[0m \u001b[0;36m299\u001b[0m\u001b[0;34m,\u001b[0m \u001b[0;36m3\u001b[0m\u001b[0;34m)\u001b[0m\u001b[0;34m\u001b[0m\u001b[0;34m\u001b[0m\u001b[0m\n\u001b[1;32m      4\u001b[0m explainer = AnchorImage(predict_fn, image_shape, segmentation_fn=segmentation_fn,\n\u001b[0;32m----> 5\u001b[0;31m                         segmentation_kwargs=kwargs, images_background=None)\n\u001b[0m",
      "\u001b[0;32m~/anaconda3/envs/kfserving/lib/python3.7/site-packages/alibi/explainers/anchor_image.py\u001b[0m in \u001b[0;36m__init__\u001b[0;34m(self, predict_fn, image_shape, segmentation_fn, segmentation_kwargs, images_background)\u001b[0m\n\u001b[1;32m     40\u001b[0m         \u001b[0;31m# check if predict_fn returns predicted class or prediction probabilities for each class\u001b[0m\u001b[0;34m\u001b[0m\u001b[0;34m\u001b[0m\u001b[0;34m\u001b[0m\u001b[0m\n\u001b[1;32m     41\u001b[0m         \u001b[0;31m# if needed adjust predict_fn so it returns the predicted class\u001b[0m\u001b[0;34m\u001b[0m\u001b[0;34m\u001b[0m\u001b[0;34m\u001b[0m\u001b[0m\n\u001b[0;32m---> 42\u001b[0;31m         \u001b[0;32mif\u001b[0m \u001b[0mnp\u001b[0m\u001b[0;34m.\u001b[0m\u001b[0margmax\u001b[0m\u001b[0;34m(\u001b[0m\u001b[0mpredict_fn\u001b[0m\u001b[0;34m(\u001b[0m\u001b[0mnp\u001b[0m\u001b[0;34m.\u001b[0m\u001b[0mzeros\u001b[0m\u001b[0;34m(\u001b[0m\u001b[0;34m(\u001b[0m\u001b[0;36m1\u001b[0m\u001b[0;34m,\u001b[0m\u001b[0;34m)\u001b[0m \u001b[0;34m+\u001b[0m \u001b[0mimage_shape\u001b[0m\u001b[0;34m)\u001b[0m\u001b[0;34m)\u001b[0m\u001b[0;34m.\u001b[0m\u001b[0mshape\u001b[0m\u001b[0;34m)\u001b[0m \u001b[0;34m==\u001b[0m \u001b[0;36m0\u001b[0m\u001b[0;34m:\u001b[0m\u001b[0;34m\u001b[0m\u001b[0;34m\u001b[0m\u001b[0m\n\u001b[0m\u001b[1;32m     43\u001b[0m             \u001b[0mself\u001b[0m\u001b[0;34m.\u001b[0m\u001b[0mpredict_fn\u001b[0m \u001b[0;34m=\u001b[0m \u001b[0mpredict_fn\u001b[0m\u001b[0;34m\u001b[0m\u001b[0;34m\u001b[0m\u001b[0m\n\u001b[1;32m     44\u001b[0m         \u001b[0;32melse\u001b[0m\u001b[0;34m:\u001b[0m\u001b[0;34m\u001b[0m\u001b[0;34m\u001b[0m\u001b[0m\n",
      "\u001b[0;32m<ipython-input-18-fec2c2eac8e9>\u001b[0m in \u001b[0;36m<lambda>\u001b[0;34m(x)\u001b[0m\n\u001b[0;32m----> 1\u001b[0;31m \u001b[0mpredict_fn\u001b[0m \u001b[0;34m=\u001b[0m \u001b[0;32mlambda\u001b[0m \u001b[0mx\u001b[0m\u001b[0;34m:\u001b[0m \u001b[0mmodel\u001b[0m\u001b[0;34m.\u001b[0m\u001b[0mpredict\u001b[0m\u001b[0;34m(\u001b[0m\u001b[0mx\u001b[0m\u001b[0;34m)\u001b[0m\u001b[0;34m\u001b[0m\u001b[0;34m\u001b[0m\u001b[0m\n\u001b[0m",
      "\u001b[0;31mNameError\u001b[0m: name 'model' is not defined"
     ]
    }
   ],
   "source": [
    "segmentation_fn = 'slic'\n",
    "kwargs = {'n_segments': 15, 'compactness': 20, 'sigma': .5}\n",
    "image_shape = (299, 299, 3)\n",
    "explainer = AnchorImage(predict_fn, image_shape, segmentation_fn=segmentation_fn,\n",
    "                        segmentation_kwargs=kwargs, images_background=None)\n"
   ]
  },
  {
   "cell_type": "code",
   "execution_count": 77,
   "metadata": {},
   "outputs": [],
   "source": [
    "import dill\n",
    "explainer.predict_fn = None # Clear explainer predict_fn as its a lambda and will be reset when loaded\n",
    "with open(\"explainer.dill\", 'wb') as f:\n",
    "    dill.dump(explainer,f)\n"
   ]
  },
  {
   "cell_type": "code",
   "execution_count": 73,
   "metadata": {},
   "outputs": [],
   "source": [
    "import dill\n",
    "\n",
    "with open(\"explainer.dill\", 'rb') as f:\n",
    "    explainer2 = dill.load(f)\n",
    "    explainer2.predict_fn = predict_fn\n",
    "    "
   ]
  },
  {
   "cell_type": "code",
   "execution_count": 50,
   "metadata": {},
   "outputs": [
    {
     "data": {
      "text/plain": [
       "<matplotlib.image.AxesImage at 0x7fc1c6a71208>"
      ]
     },
     "execution_count": 50,
     "metadata": {},
     "output_type": "execute_result"
    },
    {
     "data": {
      "image/png": "[encoded data removed]",
      "text/plain": [
       "<Figure size 432x288 with 1 Axes>"
      ]
     },
     "metadata": {
      "needs_background": "light"
     },
     "output_type": "display_data"
    }
   ],
   "source": [
    "s1 = explainer.segmentation_fn(images[0])\n",
    "plt.imshow(s1)"
   ]
  },
  {
   "cell_type": "code",
   "execution_count": 51,
   "metadata": {},
   "outputs": [
    {
     "data": {
      "text/plain": [
       "<matplotlib.image.AxesImage at 0x7fc1bdf8eb38>"
      ]
     },
     "execution_count": 51,
     "metadata": {},
     "output_type": "execute_result"
    },
    {
     "data": {
      "image/png": "[encoded data removed]",
      "text/plain": [
       "<Figure size 432x288 with 1 Axes>"
      ]
     },
     "metadata": {
      "needs_background": "light"
     },
     "output_type": "display_data"
    }
   ],
   "source": [
    "s2 = explainer2.segmentation_fn(images[0])\n",
    "plt.imshow(s2)"
   ]
  },
  {
   "cell_type": "code",
   "execution_count": 49,
   "metadata": {},
   "outputs": [
    {
     "name": "stdout",
     "output_type": "stream",
     "text": [
      "89401\n",
      "89401\n"
     ]
    }
   ],
   "source": [
    "s = s1 == s2\n",
    "print(np.sum(s))\n",
    "print(np.count_nonzero(s))"
   ]
  },
  {
   "cell_type": "code",
   "execution_count": 18,
   "metadata": {},
   "outputs": [
    {
     "data": {
      "image/png": "[encoded data removed]",
      "text/plain": [
       "<Figure size 432x288 with 1 Axes>"
      ]
     },
     "metadata": {
      "needs_background": "light"
     },
     "output_type": "display_data"
    }
   ],
   "source": [
    "i = 0\n",
    "plt.imshow(data[i]);\n"
   ]
  },
  {
   "cell_type": "code",
   "execution_count": 33,
   "metadata": {},
   "outputs": [
    {
     "data": {
      "text/plain": [
       "array([[1.02447353e-04, 4.32829474e-05, 6.68678404e-05, ...,\n",
       "        7.73477000e-05, 7.00516321e-05, 3.87004293e-05],\n",
       "       [4.24422251e-05, 3.73188959e-05, 6.64674299e-05, ...,\n",
       "        3.99492237e-05, 3.12944867e-05, 4.29522261e-05],\n",
       "       [2.92476179e-05, 1.91091000e-05, 1.35434057e-05, ...,\n",
       "        1.79161925e-05, 3.24677858e-05, 1.82511000e-05],\n",
       "       ...,\n",
       "       [4.76219939e-05, 4.82261021e-05, 5.96956000e-05, ...,\n",
       "        5.52667698e-05, 1.49047904e-04, 6.01610445e-05],\n",
       "       [2.44328221e-05, 3.82689796e-05, 2.02518895e-05, ...,\n",
       "        3.25665169e-05, 5.99123000e-05, 3.44748951e-05],\n",
       "       [2.52279533e-05, 3.20420259e-05, 2.52420814e-05, ...,\n",
       "        1.98141915e-05, 5.18518536e-05, 4.23757000e-05]])"
      ]
     },
     "execution_count": 33,
     "metadata": {},
     "output_type": "execute_result"
    }
   ],
   "source": [
    "predict_fn(images)"
   ]
  },
  {
   "cell_type": "code",
   "execution_count": 36,
   "metadata": {},
   "outputs": [
    {
     "data": {
      "text/plain": [
       "array([1.02447455e-04, 4.32829875e-05, 6.68679058e-05, 8.52054873e-05,\n",
       "       4.33608257e-05, 8.83401590e-05, 3.81111240e-05, 2.30502919e-05,\n",
       "       5.66407762e-05, 1.08238797e-04, 9.80296827e-05, 1.05110426e-04,\n",
       "       1.15287519e-04, 6.65152911e-05, 6.78704091e-05, 6.41203151e-05,\n",
       "       1.24759841e-04, 7.19811142e-05, 3.98708471e-05, 6.17957121e-05,\n",
       "       6.75296469e-05, 3.38324491e-04, 2.34581734e-04, 5.17136614e-05,\n",
       "       3.53784679e-04, 1.04380015e-04, 8.62676752e-05, 5.99563500e-05,\n",
       "       6.15120734e-05, 1.09415814e-04, 1.27241627e-04, 1.44607358e-04,\n",
       "       5.58826396e-05, 6.09077833e-05, 5.29709214e-05, 1.50074469e-04,\n",
       "       3.20211839e-05, 9.09220398e-05, 5.83527653e-05, 4.31567387e-05,\n",
       "       8.49407515e-05, 5.83981346e-05, 8.95256599e-05, 1.23356920e-04,\n",
       "       2.80305012e-05, 3.27379603e-05, 8.38373890e-05, 7.12958000e-05,\n",
       "       1.20441109e-04, 6.32346782e-05, 6.05087698e-05, 7.39210664e-05,\n",
       "       6.77569769e-05, 8.10144775e-05, 1.49272833e-04, 7.20207317e-05,\n",
       "       4.16570874e-05, 5.11528706e-05, 1.33191497e-04, 1.24766142e-04,\n",
       "       9.45057473e-05, 1.10619985e-04, 1.43358513e-04, 7.09647647e-05,\n",
       "       1.29585271e-04, 1.25971914e-04, 1.10559027e-04, 9.62548875e-05,\n",
       "       9.81954799e-05, 3.65483465e-05, 1.18830365e-04, 2.53253074e-05,\n",
       "       6.00755193e-05, 4.61906457e-05, 1.78449467e-04, 8.03300000e-05,\n",
       "       6.73775721e-05, 9.08695074e-05, 3.95757415e-05, 4.01895377e-05,\n",
       "       1.10941473e-04, 4.14944079e-05, 1.84630844e-04, 2.98843916e-05,\n",
       "       4.25962608e-05, 3.61292332e-05, 8.24072049e-05, 5.96664722e-05,\n",
       "       4.69927836e-05, 1.20016419e-04, 1.93132888e-04, 1.11937276e-04,\n",
       "       1.08319335e-04, 1.26836720e-04, 6.54096657e-05, 1.25614039e-04,\n",
       "       1.23557664e-04, 6.89938000e-05, 1.17319105e-04, 3.83210827e-05,\n",
       "       9.11644602e-05, 4.80402923e-05, 7.33833149e-05, 1.24532438e-04,\n",
       "       5.12928955e-06, 4.20585886e-04, 2.19838286e-04, 2.99795047e-05,\n",
       "       5.56636587e-05, 8.25143143e-05, 7.31401742e-05, 1.19274060e-04,\n",
       "       2.48599157e-04, 9.89092077e-05, 7.13216432e-05, 7.98555120e-05,\n",
       "       1.23642763e-04, 6.31713265e-05, 2.57723000e-05, 5.02822186e-05,\n",
       "       1.41487000e-04, 1.77340025e-05, 2.66225506e-05, 2.93558842e-05,\n",
       "       3.90935966e-05, 5.09802230e-05, 5.13467094e-05, 5.40997098e-05,\n",
       "       6.38048223e-05, 9.37400691e-05, 3.84825507e-05, 6.42777813e-05,\n",
       "       7.68330719e-05, 7.97851608e-05, 2.81310076e-05, 1.59838470e-04,\n",
       "       1.26152241e-04, 5.97399230e-05, 2.50163212e-05, 4.98436457e-05,\n",
       "       5.67898460e-05, 4.92161344e-05, 7.08263615e-05, 1.46404491e-04,\n",
       "       3.29798131e-05, 6.27423433e-05, 1.95587898e-04, 1.40218690e-04,\n",
       "       7.67334786e-05, 1.45418468e-04, 5.06619435e-05, 1.77316688e-05,\n",
       "       1.07807347e-04, 9.88752581e-05, 1.39470256e-04, 1.18924123e-04,\n",
       "       1.51909317e-05, 1.86497928e-05, 2.68320964e-05, 5.76148814e-05,\n",
       "       3.31021074e-05, 4.06753388e-05, 1.32179621e-05, 4.91998000e-05,\n",
       "       5.60752560e-05, 7.01942117e-05, 7.48273887e-05, 6.60163000e-05,\n",
       "       7.61515839e-05, 2.66160769e-05, 4.99526686e-05, 8.19520210e-05,\n",
       "       4.69282932e-05, 3.78590266e-05, 1.62571614e-05, 3.10714713e-05,\n",
       "       3.43893771e-05, 6.77839926e-05, 4.27789309e-05, 2.91436918e-05,\n",
       "       1.27266612e-04, 7.92154000e-05, 2.76328519e-05, 3.60767917e-05,\n",
       "       3.34193028e-05, 9.34126438e-05, 1.15070041e-04, 1.53916131e-04,\n",
       "       7.90715494e-05, 2.12393388e-05, 1.05586550e-04, 9.11641109e-05,\n",
       "       8.35358660e-05, 6.02232212e-05, 6.99978773e-05, 5.06603501e-05,\n",
       "       4.98648078e-05, 4.97119108e-05, 4.81987518e-05, 4.83948279e-05,\n",
       "       9.20717357e-05, 1.29051332e-05, 7.59675531e-05, 7.50012114e-05,\n",
       "       5.02286821e-05, 8.66801856e-05, 6.97626310e-05, 3.21455300e-05,\n",
       "       4.34799149e-05, 8.54501777e-05, 7.35012582e-05, 4.76463065e-05,\n",
       "       2.79439955e-05, 5.85036578e-05, 4.17110750e-05, 1.87315181e-05,\n",
       "       1.30208515e-04, 3.50368937e-05, 9.01585736e-05, 2.28158642e-05,\n",
       "       5.40941910e-05, 8.32540900e-05, 6.35757169e-05, 5.75165000e-05,\n",
       "       8.70152871e-05, 5.26523618e-05, 2.99232925e-05, 3.76176795e-05,\n",
       "       5.09460078e-05, 7.45678000e-05, 6.67665227e-05, 3.46924317e-05,\n",
       "       4.84249285e-05, 9.38923549e-05, 1.00418045e-04, 7.84931000e-05,\n",
       "       6.13780000e-05, 2.99874537e-05, 2.66992083e-05, 3.29681498e-05,\n",
       "       2.81685370e-05, 7.51964471e-05, 5.10549107e-05, 5.60228218e-05,\n",
       "       1.91433464e-05, 2.82885503e-05, 8.82128661e-05, 4.63472934e-05,\n",
       "       3.53604846e-05, 4.03963459e-05, 6.05320274e-05, 2.85439655e-05,\n",
       "       1.59712465e-04, 1.78594091e-05, 3.30971816e-05, 3.71839960e-05,\n",
       "       7.64095385e-05, 5.13315317e-05, 9.36363358e-05, 1.95838191e-04,\n",
       "       1.21202167e-04, 3.84730694e-04, 2.15995766e-04, 1.96499604e-05,\n",
       "       2.98118885e-05, 5.00642673e-05, 3.24901921e-05, 4.03281374e-05,\n",
       "       9.21445608e-05, 1.08416483e-04, 1.38779113e-04, 3.38056307e-05,\n",
       "       6.03249682e-05, 6.46120607e-05, 3.74618758e-05, 4.86698482e-05,\n",
       "       6.58003337e-05, 2.14037173e-05, 5.18203960e-05, 1.86551551e-04,\n",
       "       5.18582638e-05, 6.52999093e-04, 7.83132782e-05, 9.09348000e-01,\n",
       "       1.71876236e-04, 2.41705111e-05, 2.51708461e-05, 6.45945955e-04,\n",
       "       1.57948423e-04, 1.89638828e-04, 3.80495621e-05, 1.55817193e-04,\n",
       "       7.91472921e-05, 6.83381732e-05, 6.37252815e-05, 9.63232087e-05,\n",
       "       2.67416381e-05, 1.13427988e-04, 4.08985361e-05, 4.73781147e-05,\n",
       "       1.28243249e-04, 6.93448674e-05, 7.24767960e-05, 1.00848672e-04,\n",
       "       4.33865534e-05, 5.38024251e-05, 2.83369242e-04, 6.57318378e-05,\n",
       "       4.25073122e-05, 7.76683446e-05, 7.70528350e-05, 7.58265596e-05,\n",
       "       6.89792068e-05, 1.32189773e-04, 2.83387453e-05, 7.02512043e-05,\n",
       "       1.06048334e-04, 1.10134722e-04, 7.89973783e-05, 1.40044154e-04,\n",
       "       1.10116336e-04, 1.27063118e-04, 5.58198954e-05, 1.05919971e-04,\n",
       "       6.11659416e-05, 1.04645638e-04, 9.23951739e-05, 6.21109211e-05,\n",
       "       4.22790072e-05, 7.61089614e-05, 4.70142077e-05, 2.54265869e-05,\n",
       "       2.33554238e-04, 1.13365793e-04, 4.18450618e-05, 9.25204658e-05,\n",
       "       2.48489778e-05, 6.13740776e-05, 4.86265162e-05, 9.12558753e-05,\n",
       "       3.48322646e-05, 2.80123822e-05, 9.39790698e-05, 6.16703692e-05,\n",
       "       4.92466497e-05, 6.25260509e-05, 2.84251728e-05, 1.08625230e-04,\n",
       "       2.58102536e-05, 6.32458323e-05, 4.96191278e-05, 1.43843587e-04,\n",
       "       3.68913206e-05, 1.93221040e-05, 1.05740517e-04, 2.15320651e-05,\n",
       "       1.94188287e-05, 1.36401024e-04, 4.82297910e-05, 8.58981657e-05,\n",
       "       7.02550169e-05, 3.80871788e-05, 2.72426350e-05, 3.48902468e-05,\n",
       "       6.25892280e-05, 1.02466700e-04, 2.86979921e-05, 1.11105692e-04,\n",
       "       5.27953634e-05, 7.55094734e-05, 5.55128354e-05, 6.39804275e-05,\n",
       "       2.40877616e-05, 1.26044000e-04, 5.87663599e-05, 4.17574000e-05,\n",
       "       4.46591912e-05, 2.90727825e-04, 3.05645604e-04, 1.68790400e-04,\n",
       "       2.08234211e-04, 4.35079564e-05, 1.02435442e-04, 2.75692564e-05,\n",
       "       8.59327411e-05, 1.15769653e-04, 3.01023247e-05, 9.12830365e-05,\n",
       "       6.88726432e-05, 4.71965977e-05, 5.72448080e-05, 4.39407850e-05,\n",
       "       1.44683785e-04, 5.41827903e-05, 2.28910776e-05, 5.67788484e-05,\n",
       "       4.28544299e-05, 5.81812237e-05, 7.64770448e-05, 5.41034278e-05,\n",
       "       2.35431035e-05, 2.94966212e-05, 2.28438839e-05, 1.01637212e-04,\n",
       "       9.69054308e-05, 6.23421220e-05, 3.27285925e-05, 3.85726089e-05,\n",
       "       9.11045718e-05, 2.05796314e-05, 4.07364460e-05, 1.77445927e-05,\n",
       "       6.95187555e-05, 1.15726281e-04, 2.75114744e-05, 3.43560714e-05,\n",
       "       9.02832544e-05, 4.61669515e-05, 6.91337700e-05, 3.52402021e-05,\n",
       "       2.23546012e-05, 5.00583956e-05, 1.05640836e-04, 1.11489404e-04,\n",
       "       1.14228467e-04, 2.12259867e-04, 5.82503417e-05, 5.05953649e-05,\n",
       "       2.02952087e-05, 2.47483476e-05, 3.28942515e-05, 4.12095978e-05,\n",
       "       1.74181434e-04, 6.45306500e-05, 4.78534603e-05, 1.22718484e-04,\n",
       "       7.22992336e-05, 2.67139312e-05, 4.03431623e-04, 3.69967347e-05,\n",
       "       5.94523335e-05, 4.56087764e-05, 2.36314372e-05, 8.37122000e-05,\n",
       "       7.36316142e-05, 2.10703365e-05, 2.08559832e-05, 7.07237705e-05,\n",
       "       1.30900517e-04, 4.33501154e-05, 6.24355962e-05, 3.36941666e-05,\n",
       "       3.71951683e-05, 1.24094964e-04, 6.44263637e-05, 3.46246052e-05,\n",
       "       8.85893824e-05, 1.03379243e-04, 1.33402893e-04, 1.10910907e-04,\n",
       "       1.80126553e-05, 5.09777000e-05, 4.96360663e-05, 3.19342980e-05,\n",
       "       2.48945889e-05, 1.23440943e-04, 7.09717351e-05, 3.51485032e-05,\n",
       "       7.35658468e-05, 4.45382320e-05, 2.15029650e-05, 3.78428405e-04,\n",
       "       1.72575761e-04, 5.14144776e-04, 8.17174223e-05, 6.02919000e-05,\n",
       "       6.24385793e-05, 2.34238905e-05, 3.02432927e-05, 9.23116750e-05,\n",
       "       3.56517266e-05, 1.05775922e-04, 1.01774363e-04, 5.07313744e-05,\n",
       "       2.92726600e-05, 2.11367733e-05, 5.80303895e-05, 2.91687738e-05,\n",
       "       4.39140604e-05, 8.98609651e-05, 4.63852775e-05, 3.81324608e-05,\n",
       "       7.85360000e-05, 7.24687707e-05, 5.58676657e-05, 1.21483718e-04,\n",
       "       3.40468650e-05, 6.09693307e-05, 2.35972529e-05, 8.27746408e-05,\n",
       "       4.51636042e-05, 4.07199732e-05, 5.87050818e-05, 4.35241818e-05,\n",
       "       1.05582920e-04, 2.54556289e-05, 2.46379241e-05, 3.93827067e-05,\n",
       "       6.30250084e-04, 2.84858506e-05, 1.86013167e-05, 1.47529689e-04,\n",
       "       2.20442380e-05, 1.02211190e-04, 2.73694022e-05, 5.59378277e-05,\n",
       "       2.24083051e-05, 8.48194904e-05, 2.62107078e-05, 1.10006760e-04,\n",
       "       6.87496649e-05, 4.40424410e-05, 1.30245580e-05, 3.24849898e-05,\n",
       "       4.85993951e-05, 3.09961797e-05, 3.76851123e-04, 4.80125367e-04,\n",
       "       9.17175930e-05, 3.79362646e-05, 2.98749292e-05, 3.31609408e-05,\n",
       "       2.74276856e-04, 1.25852195e-04, 2.76918919e-03, 5.25612559e-05,\n",
       "       3.34756000e-05, 6.23484302e-05, 4.86171484e-05, 2.57340871e-05,\n",
       "       7.14046109e-05, 3.32331219e-05, 5.70214652e-05, 3.98819742e-04,\n",
       "       4.45971818e-05, 1.17972872e-04, 2.39824840e-05, 1.98008293e-05,\n",
       "       2.06401208e-04, 7.36532529e-05, 3.53111500e-05, 8.95368430e-05,\n",
       "       7.44340796e-05, 3.67308181e-04, 2.35570042e-05, 9.28097143e-05,\n",
       "       2.76364881e-05, 1.16988405e-04, 3.48561225e-05, 3.76868000e-05,\n",
       "       4.79612791e-05, 2.03657073e-05, 2.05582892e-05, 7.06152000e-05,\n",
       "       1.11001587e-04, 9.70919209e-05, 6.04769812e-05, 2.44154362e-05,\n",
       "       3.10571049e-05, 2.46156360e-05, 2.41149755e-05, 3.49933471e-05,\n",
       "       4.06205654e-05, 5.79016923e-05, 5.57977510e-05, 4.22405574e-05,\n",
       "       2.80787153e-05, 6.78592842e-05, 9.29410598e-05, 1.73081105e-04,\n",
       "       6.30534778e-05, 7.19337000e-05, 1.40670672e-05, 6.58190329e-05,\n",
       "       3.11327240e-05, 8.83310640e-05, 7.66897938e-05, 5.13637533e-05,\n",
       "       1.16518197e-04, 1.48823106e-04, 4.06033687e-05, 9.81393096e-05,\n",
       "       3.16638674e-04, 1.07991444e-04, 4.38080606e-05, 1.15092866e-04,\n",
       "       2.45486473e-04, 2.03854986e-04, 7.59938630e-05, 8.71551456e-05,\n",
       "       5.17166663e-05, 3.75183663e-05, 1.00707781e-04, 7.86185847e-05,\n",
       "       3.37007586e-05, 6.47816400e-04, 1.02412778e-04, 3.60082195e-05,\n",
       "       1.42272867e-04, 5.25707292e-05, 5.20280773e-05, 1.00702877e-04,\n",
       "       4.62604730e-05, 4.51581363e-05, 2.58412365e-05, 5.67161260e-05,\n",
       "       3.64073203e-05, 7.54568537e-05, 4.77823160e-05, 5.30344078e-05,\n",
       "       1.23480684e-03, 2.53506332e-05, 9.97282259e-05, 8.07110264e-05,\n",
       "       1.58837240e-04, 5.88105395e-05, 1.00582321e-04, 6.62176899e-05,\n",
       "       1.15133596e-04, 2.99137319e-05, 3.68825931e-05, 8.73475219e-05,\n",
       "       1.34406117e-04, 3.90278474e-05, 8.99944134e-05, 1.30127213e-04,\n",
       "       3.76518874e-05, 9.57534357e-05, 6.97430078e-05, 3.78370860e-05,\n",
       "       6.80167868e-05, 1.30113433e-04, 4.10444336e-05, 2.80351542e-05,\n",
       "       1.24839586e-04, 5.68430000e-05, 4.97438305e-05, 3.07608643e-05,\n",
       "       6.84282350e-05, 6.78419383e-05, 3.69082118e-05, 1.74747140e-04,\n",
       "       1.69685023e-04, 6.47580164e-05, 1.59942538e-05, 3.85346284e-05,\n",
       "       1.33221722e-04, 8.58980056e-05, 3.26164518e-05, 8.50526922e-05,\n",
       "       1.08620050e-04, 9.13489639e-05, 1.52922526e-04, 4.41142802e-05,\n",
       "       7.96016247e-05, 7.70417391e-05, 4.33171372e-05, 3.90996393e-05,\n",
       "       3.71519163e-05, 2.92563909e-05, 5.45105031e-05, 8.83160683e-05,\n",
       "       5.13780105e-05, 4.32111236e-04, 7.26386425e-05, 3.88268636e-05,\n",
       "       8.65527254e-05, 8.64430112e-05, 2.86222239e-05, 1.86705583e-05,\n",
       "       6.13612000e-05, 2.00552656e-03, 7.77779787e-05, 8.05902746e-05,\n",
       "       2.03086856e-05, 1.38806659e-04, 1.22301964e-04, 1.51524446e-05,\n",
       "       5.09581077e-05, 3.81871941e-05, 5.47325144e-05, 1.26571613e-04,\n",
       "       8.36064864e-05, 3.75391974e-05, 3.16612277e-05, 8.00001000e-05,\n",
       "       1.89100738e-05, 3.95780080e-05, 3.14752324e-05, 2.63155507e-05,\n",
       "       6.15872050e-05, 3.81019636e-05, 5.49527031e-05, 9.43854000e-05,\n",
       "       7.85041000e-05, 8.29299897e-05, 5.03437805e-05, 3.11029544e-05,\n",
       "       5.18518355e-05, 7.79478723e-05, 2.80622244e-05, 2.47513672e-05,\n",
       "       5.36368971e-05, 1.91563027e-04, 1.06479238e-04, 7.89329861e-05,\n",
       "       1.21535631e-04, 1.42859000e-04, 4.24633472e-05, 4.72415850e-05,\n",
       "       1.04674982e-04, 1.23647245e-04, 3.15610057e-04, 1.18753669e-04,\n",
       "       1.11862796e-03, 7.53823406e-05, 2.49961231e-05, 2.49430213e-05,\n",
       "       4.57879396e-05, 8.07609176e-05, 5.79355547e-05, 6.82381433e-05,\n",
       "       9.79285760e-05, 1.87560523e-04, 8.33387676e-05, 3.32295422e-05,\n",
       "       1.55887945e-04, 2.58653396e-04, 2.93888000e-05, 1.09147395e-05,\n",
       "       3.00098545e-05, 2.41154357e-05, 7.52233784e-04, 5.57224557e-05,\n",
       "       1.27033069e-04, 2.25095384e-04, 3.17456397e-05, 3.13715755e-05,\n",
       "       6.70344816e-05, 2.97113857e-05, 6.40038634e-05, 7.24281490e-05,\n",
       "       2.32340917e-05, 1.48077990e-04, 9.35437000e-05, 4.91706705e-05,\n",
       "       3.77546858e-05, 7.29515959e-05, 1.45404529e-05, 4.29607000e-05,\n",
       "       1.36552972e-03, 1.37857205e-04, 1.17544660e-04, 9.86451632e-05,\n",
       "       1.04509600e-04, 3.57157369e-05, 9.48733650e-05, 5.29433455e-05,\n",
       "       6.23457454e-05, 1.86234247e-04, 4.13513226e-05, 4.67860518e-05,\n",
       "       2.82482197e-05, 3.10494615e-05, 1.67420403e-05, 1.80624964e-04,\n",
       "       3.49183756e-05, 2.30527000e-04, 8.36766000e-05, 8.44212336e-05,\n",
       "       7.72869040e-04, 2.69158772e-05, 5.48260577e-04, 1.03253718e-04,\n",
       "       2.84391484e-04, 3.11557415e-05, 4.27061896e-04, 3.38071441e-05,\n",
       "       6.68811044e-05, 3.82386170e-05, 3.23078639e-05, 1.20710189e-04,\n",
       "       3.19705000e-05, 2.33134633e-05, 1.23883307e-04, 5.79340594e-05,\n",
       "       2.20637976e-05, 2.02129831e-05, 4.78568363e-05, 6.03885448e-04,\n",
       "       4.09286185e-05, 6.10230818e-05, 8.92703174e-05, 7.09117303e-05,\n",
       "       3.54527692e-05, 2.32872208e-05, 1.90013016e-04, 4.87113612e-05,\n",
       "       3.78293626e-05, 5.03340343e-05, 2.98151164e-04, 5.03285628e-05,\n",
       "       4.57985952e-05, 3.90587520e-05, 3.60076000e-05, 2.07132776e-04,\n",
       "       5.03122938e-05, 1.22832877e-04, 3.66737135e-04, 2.24978303e-05,\n",
       "       7.93858635e-05, 6.21778308e-05, 3.98803531e-05, 1.13996335e-04,\n",
       "       2.42672868e-05, 4.34632493e-05, 1.26415267e-04, 6.16934849e-05,\n",
       "       5.40075926e-05, 7.73962456e-05, 7.35716000e-05, 2.01744000e-04,\n",
       "       1.07915257e-04, 8.07893448e-05, 7.07490000e-05, 7.01517856e-05,\n",
       "       1.32909599e-05, 2.11833365e-04, 4.00851895e-05, 2.88416231e-05,\n",
       "       1.61653115e-05, 5.89401352e-05, 2.21034352e-05, 2.05875840e-05,\n",
       "       4.61856253e-05, 9.09234222e-05, 5.73128673e-05, 1.04119135e-04,\n",
       "       4.91522951e-05, 2.39564000e-05, 1.23744336e-04, 7.66156000e-05,\n",
       "       6.34861644e-05, 3.10642426e-05, 8.90297888e-05, 5.01741051e-05,\n",
       "       6.08328410e-05, 8.72736709e-05, 4.47024431e-05, 1.01490132e-05,\n",
       "       3.95531024e-05, 7.26493818e-05, 6.57879064e-05, 3.66499880e-05,\n",
       "       3.28310671e-05, 5.19619789e-05, 4.78755064e-05, 5.65756709e-05,\n",
       "       1.71253741e-05, 5.39492139e-05, 5.90309246e-05, 3.36113335e-05,\n",
       "       2.78755142e-05, 4.19597091e-05, 1.02346094e-04, 3.83988954e-05,\n",
       "       3.04342684e-04, 5.04782474e-05, 5.68030046e-05, 3.27731650e-05,\n",
       "       3.82489000e-05, 2.12380342e-04, 5.25676696e-05, 9.50674585e-05,\n",
       "       4.70290070e-05, 4.15614159e-05, 5.15713255e-05, 1.77310940e-05,\n",
       "       6.24015447e-05, 5.06608812e-05, 3.98420707e-05, 1.07668027e-04,\n",
       "       6.17925252e-05, 4.42825440e-05, 1.55668517e-04, 6.64102627e-05,\n",
       "       3.19522253e-04, 4.34706715e-04, 8.61140434e-05, 4.76076566e-05,\n",
       "       1.12219255e-04, 8.39347485e-05, 6.91365422e-05, 3.08291419e-05,\n",
       "       2.73169513e-04, 1.69744249e-04, 9.29955859e-05, 2.54036095e-05,\n",
       "       1.14951028e-04, 1.03499202e-04, 5.43084461e-05, 2.13070398e-05,\n",
       "       3.59884471e-05, 2.23113220e-05, 8.85437621e-05, 7.32108000e-05,\n",
       "       4.05908853e-04, 3.25658220e-05, 6.04316119e-05, 1.19237549e-04,\n",
       "       1.33496695e-04, 5.51573175e-05, 1.30791086e-04, 4.38976022e-05,\n",
       "       7.59287359e-05, 2.79635115e-05, 3.82408034e-05, 9.21712781e-05,\n",
       "       2.72195211e-05, 7.05820057e-05, 9.14041157e-05, 8.50636425e-05,\n",
       "       3.60866688e-05, 1.08168933e-04, 1.68068782e-05, 6.71237285e-05,\n",
       "       2.40593854e-05, 9.45758875e-05, 1.04916639e-04, 3.20122635e-05,\n",
       "       5.08961384e-05, 3.33285934e-05, 1.74754550e-05, 1.23908294e-05,\n",
       "       6.68929642e-05, 9.43624618e-05, 1.50983018e-04, 1.43477781e-04,\n",
       "       6.00652020e-05, 5.53311220e-05, 1.54429697e-04, 7.41367476e-05,\n",
       "       2.03610558e-04, 4.57689894e-05, 2.48597265e-04, 1.68269000e-04,\n",
       "       1.06587846e-04, 8.54340396e-05, 3.45520384e-05, 8.19718771e-05,\n",
       "       2.65706549e-05, 4.80316812e-05, 8.23668233e-05, 1.57617091e-04,\n",
       "       6.59220532e-05, 4.88399746e-05, 5.54260259e-05, 7.97470566e-05,\n",
       "       2.34706604e-04, 5.11441394e-05, 1.21912330e-04, 3.48315000e-05,\n",
       "       1.87905989e-05, 3.37890306e-05, 6.07014663e-05, 2.22164763e-05,\n",
       "       4.60322044e-05, 5.16320542e-05, 3.78323202e-05, 3.34995530e-05,\n",
       "       7.15547067e-05, 2.87226867e-05, 3.06349175e-05, 2.79081778e-05,\n",
       "       4.43673453e-05, 7.02809557e-05, 5.05615972e-05, 6.47090565e-05,\n",
       "       1.24254730e-04, 3.26262198e-05, 6.72045571e-05, 7.67484089e-05,\n",
       "       8.21701324e-05, 8.51967925e-05, 5.30237376e-05, 4.66760248e-05,\n",
       "       1.86651392e-04, 7.73477732e-05, 7.00517048e-05, 3.87004693e-05])"
      ]
     },
     "execution_count": 36,
     "metadata": {},
     "output_type": "execute_result"
    }
   ],
   "source": [
    "predict_fn(np.expand_dims(image, axis=0))[0]"
   ]
  },
  {
   "cell_type": "code",
   "execution_count": 75,
   "metadata": {},
   "outputs": [
    {
     "name": "stderr",
     "output_type": "stream",
     "text": [
      "INFO:root:shape is (10, 299, 299, 3)\n",
      "INFO:root:Adding data shape (299, 299, 3)\n",
      "INFO:root:Adding data shape (299, 299, 3)\n",
      "INFO:root:Adding data shape (299, 299, 3)\n",
      "INFO:root:Adding data shape (299, 299, 3)\n",
      "INFO:root:Adding data shape (299, 299, 3)\n",
      "INFO:root:Adding data shape (299, 299, 3)\n",
      "INFO:root:Adding data shape (299, 299, 3)\n",
      "INFO:root:Adding data shape (299, 299, 3)\n",
      "INFO:root:Adding data shape (299, 299, 3)\n",
      "INFO:root:Adding data shape (299, 299, 3)\n",
      "INFO:root:Data length 10\n",
      "DEBUG:urllib3.connectionpool:Starting new HTTP connection (1): localhost:9000\n",
      "DEBUG:urllib3.connectionpool:http://localhost:9000 \"POST /v1/models/ImageClassifier:predict HTTP/1.1\" 200 157682\n",
      "INFO:root:shape is (1, 299, 299, 3)\n",
      "INFO:root:Adding data shape (299, 299, 3)\n",
      "INFO:root:Data length 1\n",
      "DEBUG:urllib3.connectionpool:Starting new HTTP connection (1): localhost:9000\n",
      "DEBUG:urllib3.connectionpool:http://localhost:9000 \"POST /v1/models/ImageClassifier:predict HTTP/1.1\" 200 15773\n",
      "INFO:root:shape is (1, 299, 299, 3)\n",
      "INFO:root:Adding data shape (299, 299, 3)\n",
      "INFO:root:Data length 1\n",
      "DEBUG:urllib3.connectionpool:Starting new HTTP connection (1): localhost:9000\n",
      "DEBUG:urllib3.connectionpool:http://localhost:9000 \"POST /v1/models/ImageClassifier:predict HTTP/1.1\" 200 15740\n",
      "INFO:root:shape is (100, 299, 299, 3)\n",
      "INFO:root:Adding data shape (299, 299, 3)\n",
      "INFO:root:Adding data shape (299, 299, 3)\n",
      "INFO:root:Adding data shape (299, 299, 3)\n",
      "INFO:root:Adding data shape (299, 299, 3)\n",
      "INFO:root:Adding data shape (299, 299, 3)\n",
      "INFO:root:Adding data shape (299, 299, 3)\n",
      "INFO:root:Adding data shape (299, 299, 3)\n",
      "INFO:root:Adding data shape (299, 299, 3)\n",
      "INFO:root:Adding data shape (299, 299, 3)\n",
      "INFO:root:Adding data shape (299, 299, 3)\n",
      "INFO:root:Adding data shape (299, 299, 3)\n",
      "INFO:root:Adding data shape (299, 299, 3)\n",
      "INFO:root:Adding data shape (299, 299, 3)\n",
      "INFO:root:Adding data shape (299, 299, 3)\n",
      "INFO:root:Adding data shape (299, 299, 3)\n",
      "INFO:root:Adding data shape (299, 299, 3)\n",
      "INFO:root:Adding data shape (299, 299, 3)\n",
      "INFO:root:Adding data shape (299, 299, 3)\n",
      "INFO:root:Adding data shape (299, 299, 3)\n",
      "INFO:root:Adding data shape (299, 299, 3)\n",
      "INFO:root:Adding data shape (299, 299, 3)\n",
      "INFO:root:Adding data shape (299, 299, 3)\n",
      "INFO:root:Adding data shape (299, 299, 3)\n",
      "INFO:root:Adding data shape (299, 299, 3)\n",
      "INFO:root:Adding data shape (299, 299, 3)\n",
      "INFO:root:Adding data shape (299, 299, 3)\n",
      "INFO:root:Adding data shape (299, 299, 3)\n",
      "INFO:root:Adding data shape (299, 299, 3)\n",
      "INFO:root:Adding data shape (299, 299, 3)\n",
      "INFO:root:Adding data shape (299, 299, 3)\n",
      "INFO:root:Adding data shape (299, 299, 3)\n",
      "INFO:root:Adding data shape (299, 299, 3)\n",
      "INFO:root:Adding data shape (299, 299, 3)\n",
      "INFO:root:Adding data shape (299, 299, 3)\n",
      "INFO:root:Adding data shape (299, 299, 3)\n",
      "INFO:root:Adding data shape (299, 299, 3)\n",
      "INFO:root:Adding data shape (299, 299, 3)\n",
      "INFO:root:Adding data shape (299, 299, 3)\n",
      "INFO:root:Adding data shape (299, 299, 3)\n",
      "INFO:root:Adding data shape (299, 299, 3)\n",
      "INFO:root:Adding data shape (299, 299, 3)\n",
      "INFO:root:Adding data shape (299, 299, 3)\n",
      "INFO:root:Adding data shape (299, 299, 3)\n",
      "INFO:root:Adding data shape (299, 299, 3)\n",
      "INFO:root:Adding data shape (299, 299, 3)\n",
      "INFO:root:Adding data shape (299, 299, 3)\n",
      "INFO:root:Adding data shape (299, 299, 3)\n",
      "INFO:root:Adding data shape (299, 299, 3)\n",
      "INFO:root:Adding data shape (299, 299, 3)\n",
      "INFO:root:Adding data shape (299, 299, 3)\n",
      "INFO:root:Adding data shape (299, 299, 3)\n",
      "INFO:root:Adding data shape (299, 299, 3)\n",
      "INFO:root:Adding data shape (299, 299, 3)\n",
      "INFO:root:Adding data shape (299, 299, 3)\n",
      "INFO:root:Adding data shape (299, 299, 3)\n",
      "INFO:root:Adding data shape (299, 299, 3)\n",
      "INFO:root:Adding data shape (299, 299, 3)\n",
      "INFO:root:Adding data shape (299, 299, 3)\n",
      "INFO:root:Adding data shape (299, 299, 3)\n",
      "INFO:root:Adding data shape (299, 299, 3)\n",
      "INFO:root:Adding data shape (299, 299, 3)\n",
      "INFO:root:Adding data shape (299, 299, 3)\n",
      "INFO:root:Adding data shape (299, 299, 3)\n",
      "INFO:root:Adding data shape (299, 299, 3)\n",
      "INFO:root:Adding data shape (299, 299, 3)\n",
      "INFO:root:Adding data shape (299, 299, 3)\n",
      "INFO:root:Adding data shape (299, 299, 3)\n",
      "INFO:root:Adding data shape (299, 299, 3)\n",
      "INFO:root:Adding data shape (299, 299, 3)\n",
      "INFO:root:Adding data shape (299, 299, 3)\n",
      "INFO:root:Adding data shape (299, 299, 3)\n",
      "INFO:root:Adding data shape (299, 299, 3)\n",
      "INFO:root:Adding data shape (299, 299, 3)\n",
      "INFO:root:Adding data shape (299, 299, 3)\n",
      "INFO:root:Adding data shape (299, 299, 3)\n",
      "INFO:root:Adding data shape (299, 299, 3)\n",
      "INFO:root:Adding data shape (299, 299, 3)\n",
      "INFO:root:Adding data shape (299, 299, 3)\n",
      "INFO:root:Adding data shape (299, 299, 3)\n",
      "INFO:root:Adding data shape (299, 299, 3)\n",
      "INFO:root:Adding data shape (299, 299, 3)\n",
      "INFO:root:Adding data shape (299, 299, 3)\n",
      "INFO:root:Adding data shape (299, 299, 3)\n",
      "INFO:root:Adding data shape (299, 299, 3)\n",
      "INFO:root:Adding data shape (299, 299, 3)\n",
      "INFO:root:Adding data shape (299, 299, 3)\n",
      "INFO:root:Adding data shape (299, 299, 3)\n",
      "INFO:root:Adding data shape (299, 299, 3)\n",
      "INFO:root:Adding data shape (299, 299, 3)\n",
      "INFO:root:Adding data shape (299, 299, 3)\n",
      "INFO:root:Adding data shape (299, 299, 3)\n",
      "INFO:root:Adding data shape (299, 299, 3)\n",
      "INFO:root:Adding data shape (299, 299, 3)\n",
      "INFO:root:Adding data shape (299, 299, 3)\n",
      "INFO:root:Adding data shape (299, 299, 3)\n",
      "INFO:root:Adding data shape (299, 299, 3)\n",
      "INFO:root:Adding data shape (299, 299, 3)\n",
      "INFO:root:Adding data shape (299, 299, 3)\n",
      "INFO:root:Adding data shape (299, 299, 3)\n",
      "INFO:root:Adding data shape (299, 299, 3)\n",
      "INFO:root:Data length 100\n",
      "DEBUG:urllib3.connectionpool:Starting new HTTP connection (1): localhost:9000\n",
      "DEBUG:urllib3.connectionpool:http://localhost:9000 \"POST /v1/models/ImageClassifier:predict HTTP/1.1\" 200 1576245\n",
      "INFO:root:shape is (100, 299, 299, 3)\n",
      "INFO:root:Adding data shape (299, 299, 3)\n",
      "INFO:root:Adding data shape (299, 299, 3)\n",
      "INFO:root:Adding data shape (299, 299, 3)\n",
      "INFO:root:Adding data shape (299, 299, 3)\n",
      "INFO:root:Adding data shape (299, 299, 3)\n",
      "INFO:root:Adding data shape (299, 299, 3)\n",
      "INFO:root:Adding data shape (299, 299, 3)\n",
      "INFO:root:Adding data shape (299, 299, 3)\n",
      "INFO:root:Adding data shape (299, 299, 3)\n",
      "INFO:root:Adding data shape (299, 299, 3)\n",
      "INFO:root:Adding data shape (299, 299, 3)\n",
      "INFO:root:Adding data shape (299, 299, 3)\n",
      "INFO:root:Adding data shape (299, 299, 3)\n",
      "INFO:root:Adding data shape (299, 299, 3)\n",
      "INFO:root:Adding data shape (299, 299, 3)\n",
      "INFO:root:Adding data shape (299, 299, 3)\n",
      "INFO:root:Adding data shape (299, 299, 3)\n",
      "INFO:root:Adding data shape (299, 299, 3)\n",
      "INFO:root:Adding data shape (299, 299, 3)\n",
      "INFO:root:Adding data shape (299, 299, 3)\n",
      "INFO:root:Adding data shape (299, 299, 3)\n",
      "INFO:root:Adding data shape (299, 299, 3)\n",
      "INFO:root:Adding data shape (299, 299, 3)\n",
      "INFO:root:Adding data shape (299, 299, 3)\n",
      "INFO:root:Adding data shape (299, 299, 3)\n",
      "INFO:root:Adding data shape (299, 299, 3)\n",
      "INFO:root:Adding data shape (299, 299, 3)\n",
      "INFO:root:Adding data shape (299, 299, 3)\n",
      "INFO:root:Adding data shape (299, 299, 3)\n",
      "INFO:root:Adding data shape (299, 299, 3)\n",
      "INFO:root:Adding data shape (299, 299, 3)\n",
      "INFO:root:Adding data shape (299, 299, 3)\n",
      "INFO:root:Adding data shape (299, 299, 3)\n",
      "INFO:root:Adding data shape (299, 299, 3)\n",
      "INFO:root:Adding data shape (299, 299, 3)\n",
      "INFO:root:Adding data shape (299, 299, 3)\n",
      "INFO:root:Adding data shape (299, 299, 3)\n",
      "INFO:root:Adding data shape (299, 299, 3)\n",
      "INFO:root:Adding data shape (299, 299, 3)\n",
      "INFO:root:Adding data shape (299, 299, 3)\n",
      "INFO:root:Adding data shape (299, 299, 3)\n",
      "INFO:root:Adding data shape (299, 299, 3)\n",
      "INFO:root:Adding data shape (299, 299, 3)\n",
      "INFO:root:Adding data shape (299, 299, 3)\n",
      "INFO:root:Adding data shape (299, 299, 3)\n",
      "INFO:root:Adding data shape (299, 299, 3)\n",
      "INFO:root:Adding data shape (299, 299, 3)\n",
      "INFO:root:Adding data shape (299, 299, 3)\n",
      "INFO:root:Adding data shape (299, 299, 3)\n",
      "INFO:root:Adding data shape (299, 299, 3)\n",
      "INFO:root:Adding data shape (299, 299, 3)\n",
      "INFO:root:Adding data shape (299, 299, 3)\n",
      "INFO:root:Adding data shape (299, 299, 3)\n",
      "INFO:root:Adding data shape (299, 299, 3)\n",
      "INFO:root:Adding data shape (299, 299, 3)\n",
      "INFO:root:Adding data shape (299, 299, 3)\n",
      "INFO:root:Adding data shape (299, 299, 3)\n",
      "INFO:root:Adding data shape (299, 299, 3)\n",
      "INFO:root:Adding data shape (299, 299, 3)\n"
     ]
    },
    {
     "name": "stderr",
     "output_type": "stream",
     "text": [
      "INFO:root:Adding data shape (299, 299, 3)\n",
      "INFO:root:Adding data shape (299, 299, 3)\n",
      "INFO:root:Adding data shape (299, 299, 3)\n",
      "INFO:root:Adding data shape (299, 299, 3)\n",
      "INFO:root:Adding data shape (299, 299, 3)\n",
      "INFO:root:Adding data shape (299, 299, 3)\n",
      "INFO:root:Adding data shape (299, 299, 3)\n",
      "INFO:root:Adding data shape (299, 299, 3)\n",
      "INFO:root:Adding data shape (299, 299, 3)\n",
      "INFO:root:Adding data shape (299, 299, 3)\n",
      "INFO:root:Adding data shape (299, 299, 3)\n",
      "INFO:root:Adding data shape (299, 299, 3)\n",
      "INFO:root:Adding data shape (299, 299, 3)\n",
      "INFO:root:Adding data shape (299, 299, 3)\n",
      "INFO:root:Adding data shape (299, 299, 3)\n",
      "INFO:root:Adding data shape (299, 299, 3)\n",
      "INFO:root:Adding data shape (299, 299, 3)\n",
      "INFO:root:Adding data shape (299, 299, 3)\n",
      "INFO:root:Adding data shape (299, 299, 3)\n",
      "INFO:root:Adding data shape (299, 299, 3)\n",
      "INFO:root:Adding data shape (299, 299, 3)\n",
      "INFO:root:Adding data shape (299, 299, 3)\n",
      "INFO:root:Adding data shape (299, 299, 3)\n",
      "INFO:root:Adding data shape (299, 299, 3)\n",
      "INFO:root:Adding data shape (299, 299, 3)\n",
      "INFO:root:Adding data shape (299, 299, 3)\n",
      "INFO:root:Adding data shape (299, 299, 3)\n",
      "INFO:root:Adding data shape (299, 299, 3)\n",
      "INFO:root:Adding data shape (299, 299, 3)\n",
      "INFO:root:Adding data shape (299, 299, 3)\n",
      "INFO:root:Adding data shape (299, 299, 3)\n",
      "INFO:root:Adding data shape (299, 299, 3)\n",
      "INFO:root:Adding data shape (299, 299, 3)\n",
      "INFO:root:Adding data shape (299, 299, 3)\n",
      "INFO:root:Adding data shape (299, 299, 3)\n",
      "INFO:root:Adding data shape (299, 299, 3)\n",
      "INFO:root:Adding data shape (299, 299, 3)\n",
      "INFO:root:Adding data shape (299, 299, 3)\n",
      "INFO:root:Adding data shape (299, 299, 3)\n",
      "INFO:root:Adding data shape (299, 299, 3)\n",
      "INFO:root:Adding data shape (299, 299, 3)\n",
      "INFO:root:Data length 100\n",
      "DEBUG:urllib3.connectionpool:Starting new HTTP connection (1): localhost:9000\n",
      "DEBUG:urllib3.connectionpool:http://localhost:9000 \"POST /v1/models/ImageClassifier:predict HTTP/1.1\" 200 1577632\n",
      "INFO:root:shape is (100, 299, 299, 3)\n",
      "INFO:root:Adding data shape (299, 299, 3)\n",
      "INFO:root:Adding data shape (299, 299, 3)\n",
      "INFO:root:Adding data shape (299, 299, 3)\n",
      "INFO:root:Adding data shape (299, 299, 3)\n",
      "INFO:root:Adding data shape (299, 299, 3)\n",
      "INFO:root:Adding data shape (299, 299, 3)\n",
      "INFO:root:Adding data shape (299, 299, 3)\n",
      "INFO:root:Adding data shape (299, 299, 3)\n",
      "INFO:root:Adding data shape (299, 299, 3)\n",
      "INFO:root:Adding data shape (299, 299, 3)\n",
      "INFO:root:Adding data shape (299, 299, 3)\n",
      "INFO:root:Adding data shape (299, 299, 3)\n",
      "INFO:root:Adding data shape (299, 299, 3)\n",
      "INFO:root:Adding data shape (299, 299, 3)\n",
      "INFO:root:Adding data shape (299, 299, 3)\n",
      "INFO:root:Adding data shape (299, 299, 3)\n",
      "INFO:root:Adding data shape (299, 299, 3)\n",
      "INFO:root:Adding data shape (299, 299, 3)\n",
      "INFO:root:Adding data shape (299, 299, 3)\n",
      "INFO:root:Adding data shape (299, 299, 3)\n",
      "INFO:root:Adding data shape (299, 299, 3)\n",
      "INFO:root:Adding data shape (299, 299, 3)\n",
      "INFO:root:Adding data shape (299, 299, 3)\n",
      "INFO:root:Adding data shape (299, 299, 3)\n",
      "INFO:root:Adding data shape (299, 299, 3)\n",
      "INFO:root:Adding data shape (299, 299, 3)\n",
      "INFO:root:Adding data shape (299, 299, 3)\n",
      "INFO:root:Adding data shape (299, 299, 3)\n",
      "INFO:root:Adding data shape (299, 299, 3)\n",
      "INFO:root:Adding data shape (299, 299, 3)\n",
      "INFO:root:Adding data shape (299, 299, 3)\n",
      "INFO:root:Adding data shape (299, 299, 3)\n",
      "INFO:root:Adding data shape (299, 299, 3)\n",
      "INFO:root:Adding data shape (299, 299, 3)\n",
      "INFO:root:Adding data shape (299, 299, 3)\n",
      "INFO:root:Adding data shape (299, 299, 3)\n",
      "INFO:root:Adding data shape (299, 299, 3)\n",
      "INFO:root:Adding data shape (299, 299, 3)\n",
      "INFO:root:Adding data shape (299, 299, 3)\n",
      "INFO:root:Adding data shape (299, 299, 3)\n",
      "INFO:root:Adding data shape (299, 299, 3)\n",
      "INFO:root:Adding data shape (299, 299, 3)\n",
      "INFO:root:Adding data shape (299, 299, 3)\n",
      "INFO:root:Adding data shape (299, 299, 3)\n",
      "INFO:root:Adding data shape (299, 299, 3)\n",
      "INFO:root:Adding data shape (299, 299, 3)\n",
      "INFO:root:Adding data shape (299, 299, 3)\n",
      "INFO:root:Adding data shape (299, 299, 3)\n",
      "INFO:root:Adding data shape (299, 299, 3)\n",
      "INFO:root:Adding data shape (299, 299, 3)\n",
      "INFO:root:Adding data shape (299, 299, 3)\n",
      "INFO:root:Adding data shape (299, 299, 3)\n",
      "INFO:root:Adding data shape (299, 299, 3)\n",
      "INFO:root:Adding data shape (299, 299, 3)\n",
      "INFO:root:Adding data shape (299, 299, 3)\n",
      "INFO:root:Adding data shape (299, 299, 3)\n",
      "INFO:root:Adding data shape (299, 299, 3)\n",
      "INFO:root:Adding data shape (299, 299, 3)\n",
      "INFO:root:Adding data shape (299, 299, 3)\n",
      "INFO:root:Adding data shape (299, 299, 3)\n",
      "INFO:root:Adding data shape (299, 299, 3)\n",
      "INFO:root:Adding data shape (299, 299, 3)\n",
      "INFO:root:Adding data shape (299, 299, 3)\n",
      "INFO:root:Adding data shape (299, 299, 3)\n",
      "INFO:root:Adding data shape (299, 299, 3)\n",
      "INFO:root:Adding data shape (299, 299, 3)\n",
      "INFO:root:Adding data shape (299, 299, 3)\n",
      "INFO:root:Adding data shape (299, 299, 3)\n",
      "INFO:root:Adding data shape (299, 299, 3)\n",
      "INFO:root:Adding data shape (299, 299, 3)\n",
      "INFO:root:Adding data shape (299, 299, 3)\n",
      "INFO:root:Adding data shape (299, 299, 3)\n",
      "INFO:root:Adding data shape (299, 299, 3)\n",
      "INFO:root:Adding data shape (299, 299, 3)\n",
      "INFO:root:Adding data shape (299, 299, 3)\n",
      "INFO:root:Adding data shape (299, 299, 3)\n",
      "INFO:root:Adding data shape (299, 299, 3)\n",
      "INFO:root:Adding data shape (299, 299, 3)\n",
      "INFO:root:Adding data shape (299, 299, 3)\n",
      "INFO:root:Adding data shape (299, 299, 3)\n",
      "INFO:root:Adding data shape (299, 299, 3)\n",
      "INFO:root:Adding data shape (299, 299, 3)\n",
      "INFO:root:Adding data shape (299, 299, 3)\n",
      "INFO:root:Adding data shape (299, 299, 3)\n",
      "INFO:root:Adding data shape (299, 299, 3)\n",
      "INFO:root:Adding data shape (299, 299, 3)\n",
      "INFO:root:Adding data shape (299, 299, 3)\n",
      "INFO:root:Adding data shape (299, 299, 3)\n",
      "INFO:root:Adding data shape (299, 299, 3)\n",
      "INFO:root:Adding data shape (299, 299, 3)\n",
      "INFO:root:Adding data shape (299, 299, 3)\n",
      "INFO:root:Adding data shape (299, 299, 3)\n",
      "INFO:root:Adding data shape (299, 299, 3)\n",
      "INFO:root:Adding data shape (299, 299, 3)\n",
      "INFO:root:Adding data shape (299, 299, 3)\n",
      "INFO:root:Adding data shape (299, 299, 3)\n",
      "INFO:root:Adding data shape (299, 299, 3)\n",
      "INFO:root:Adding data shape (299, 299, 3)\n",
      "INFO:root:Adding data shape (299, 299, 3)\n",
      "INFO:root:Adding data shape (299, 299, 3)\n",
      "INFO:root:Data length 100\n",
      "DEBUG:urllib3.connectionpool:Starting new HTTP connection (1): localhost:9000\n",
      "DEBUG:urllib3.connectionpool:http://localhost:9000 \"POST /v1/models/ImageClassifier:predict HTTP/1.1\" 200 1577721\n",
      "INFO:root:shape is (100, 299, 299, 3)\n",
      "INFO:root:Adding data shape (299, 299, 3)\n",
      "INFO:root:Adding data shape (299, 299, 3)\n",
      "INFO:root:Adding data shape (299, 299, 3)\n",
      "INFO:root:Adding data shape (299, 299, 3)\n",
      "INFO:root:Adding data shape (299, 299, 3)\n",
      "INFO:root:Adding data shape (299, 299, 3)\n",
      "INFO:root:Adding data shape (299, 299, 3)\n",
      "INFO:root:Adding data shape (299, 299, 3)\n",
      "INFO:root:Adding data shape (299, 299, 3)\n",
      "INFO:root:Adding data shape (299, 299, 3)\n",
      "INFO:root:Adding data shape (299, 299, 3)\n",
      "INFO:root:Adding data shape (299, 299, 3)\n",
      "INFO:root:Adding data shape (299, 299, 3)\n",
      "INFO:root:Adding data shape (299, 299, 3)\n",
      "INFO:root:Adding data shape (299, 299, 3)\n",
      "INFO:root:Adding data shape (299, 299, 3)\n",
      "INFO:root:Adding data shape (299, 299, 3)\n",
      "INFO:root:Adding data shape (299, 299, 3)\n",
      "INFO:root:Adding data shape (299, 299, 3)\n",
      "INFO:root:Adding data shape (299, 299, 3)\n",
      "INFO:root:Adding data shape (299, 299, 3)\n",
      "INFO:root:Adding data shape (299, 299, 3)\n",
      "INFO:root:Adding data shape (299, 299, 3)\n",
      "INFO:root:Adding data shape (299, 299, 3)\n",
      "INFO:root:Adding data shape (299, 299, 3)\n",
      "INFO:root:Adding data shape (299, 299, 3)\n",
      "INFO:root:Adding data shape (299, 299, 3)\n",
      "INFO:root:Adding data shape (299, 299, 3)\n",
      "INFO:root:Adding data shape (299, 299, 3)\n",
      "INFO:root:Adding data shape (299, 299, 3)\n",
      "INFO:root:Adding data shape (299, 299, 3)\n",
      "INFO:root:Adding data shape (299, 299, 3)\n",
      "INFO:root:Adding data shape (299, 299, 3)\n",
      "INFO:root:Adding data shape (299, 299, 3)\n",
      "INFO:root:Adding data shape (299, 299, 3)\n",
      "INFO:root:Adding data shape (299, 299, 3)\n",
      "INFO:root:Adding data shape (299, 299, 3)\n",
      "INFO:root:Adding data shape (299, 299, 3)\n",
      "INFO:root:Adding data shape (299, 299, 3)\n",
      "INFO:root:Adding data shape (299, 299, 3)\n",
      "INFO:root:Adding data shape (299, 299, 3)\n",
      "INFO:root:Adding data shape (299, 299, 3)\n"
     ]
    },
    {
     "name": "stderr",
     "output_type": "stream",
     "text": [
      "INFO:root:Adding data shape (299, 299, 3)\n",
      "INFO:root:Adding data shape (299, 299, 3)\n",
      "INFO:root:Adding data shape (299, 299, 3)\n",
      "INFO:root:Adding data shape (299, 299, 3)\n",
      "INFO:root:Adding data shape (299, 299, 3)\n",
      "INFO:root:Adding data shape (299, 299, 3)\n",
      "INFO:root:Adding data shape (299, 299, 3)\n",
      "INFO:root:Adding data shape (299, 299, 3)\n",
      "INFO:root:Adding data shape (299, 299, 3)\n",
      "INFO:root:Adding data shape (299, 299, 3)\n",
      "INFO:root:Adding data shape (299, 299, 3)\n",
      "INFO:root:Adding data shape (299, 299, 3)\n",
      "INFO:root:Adding data shape (299, 299, 3)\n",
      "INFO:root:Adding data shape (299, 299, 3)\n",
      "INFO:root:Adding data shape (299, 299, 3)\n",
      "INFO:root:Adding data shape (299, 299, 3)\n",
      "INFO:root:Adding data shape (299, 299, 3)\n",
      "INFO:root:Adding data shape (299, 299, 3)\n",
      "INFO:root:Adding data shape (299, 299, 3)\n",
      "INFO:root:Adding data shape (299, 299, 3)\n",
      "INFO:root:Adding data shape (299, 299, 3)\n",
      "INFO:root:Adding data shape (299, 299, 3)\n",
      "INFO:root:Adding data shape (299, 299, 3)\n",
      "INFO:root:Adding data shape (299, 299, 3)\n",
      "INFO:root:Adding data shape (299, 299, 3)\n",
      "INFO:root:Adding data shape (299, 299, 3)\n",
      "INFO:root:Adding data shape (299, 299, 3)\n",
      "INFO:root:Adding data shape (299, 299, 3)\n",
      "INFO:root:Adding data shape (299, 299, 3)\n",
      "INFO:root:Adding data shape (299, 299, 3)\n",
      "INFO:root:Adding data shape (299, 299, 3)\n",
      "INFO:root:Adding data shape (299, 299, 3)\n",
      "INFO:root:Adding data shape (299, 299, 3)\n",
      "INFO:root:Adding data shape (299, 299, 3)\n",
      "INFO:root:Adding data shape (299, 299, 3)\n",
      "INFO:root:Adding data shape (299, 299, 3)\n",
      "INFO:root:Adding data shape (299, 299, 3)\n",
      "INFO:root:Adding data shape (299, 299, 3)\n",
      "INFO:root:Adding data shape (299, 299, 3)\n",
      "INFO:root:Adding data shape (299, 299, 3)\n",
      "INFO:root:Adding data shape (299, 299, 3)\n",
      "INFO:root:Adding data shape (299, 299, 3)\n",
      "INFO:root:Adding data shape (299, 299, 3)\n",
      "INFO:root:Adding data shape (299, 299, 3)\n",
      "INFO:root:Adding data shape (299, 299, 3)\n",
      "INFO:root:Adding data shape (299, 299, 3)\n",
      "INFO:root:Adding data shape (299, 299, 3)\n",
      "INFO:root:Adding data shape (299, 299, 3)\n",
      "INFO:root:Adding data shape (299, 299, 3)\n",
      "INFO:root:Adding data shape (299, 299, 3)\n",
      "INFO:root:Adding data shape (299, 299, 3)\n",
      "INFO:root:Adding data shape (299, 299, 3)\n",
      "INFO:root:Adding data shape (299, 299, 3)\n",
      "INFO:root:Adding data shape (299, 299, 3)\n",
      "INFO:root:Adding data shape (299, 299, 3)\n",
      "INFO:root:Adding data shape (299, 299, 3)\n",
      "INFO:root:Adding data shape (299, 299, 3)\n",
      "INFO:root:Adding data shape (299, 299, 3)\n",
      "INFO:root:Data length 100\n",
      "DEBUG:urllib3.connectionpool:Starting new HTTP connection (1): localhost:9000\n",
      "DEBUG:urllib3.connectionpool:http://localhost:9000 \"POST /v1/models/ImageClassifier:predict HTTP/1.1\" 200 1577219\n",
      "INFO:root:shape is (100, 299, 299, 3)\n",
      "INFO:root:Adding data shape (299, 299, 3)\n",
      "INFO:root:Adding data shape (299, 299, 3)\n",
      "INFO:root:Adding data shape (299, 299, 3)\n",
      "INFO:root:Adding data shape (299, 299, 3)\n",
      "INFO:root:Adding data shape (299, 299, 3)\n",
      "INFO:root:Adding data shape (299, 299, 3)\n",
      "INFO:root:Adding data shape (299, 299, 3)\n",
      "INFO:root:Adding data shape (299, 299, 3)\n",
      "INFO:root:Adding data shape (299, 299, 3)\n",
      "INFO:root:Adding data shape (299, 299, 3)\n",
      "INFO:root:Adding data shape (299, 299, 3)\n",
      "INFO:root:Adding data shape (299, 299, 3)\n",
      "INFO:root:Adding data shape (299, 299, 3)\n",
      "INFO:root:Adding data shape (299, 299, 3)\n",
      "INFO:root:Adding data shape (299, 299, 3)\n",
      "INFO:root:Adding data shape (299, 299, 3)\n",
      "INFO:root:Adding data shape (299, 299, 3)\n",
      "INFO:root:Adding data shape (299, 299, 3)\n",
      "INFO:root:Adding data shape (299, 299, 3)\n",
      "INFO:root:Adding data shape (299, 299, 3)\n",
      "INFO:root:Adding data shape (299, 299, 3)\n",
      "INFO:root:Adding data shape (299, 299, 3)\n",
      "INFO:root:Adding data shape (299, 299, 3)\n",
      "INFO:root:Adding data shape (299, 299, 3)\n",
      "INFO:root:Adding data shape (299, 299, 3)\n",
      "INFO:root:Adding data shape (299, 299, 3)\n",
      "INFO:root:Adding data shape (299, 299, 3)\n",
      "INFO:root:Adding data shape (299, 299, 3)\n",
      "INFO:root:Adding data shape (299, 299, 3)\n",
      "INFO:root:Adding data shape (299, 299, 3)\n",
      "INFO:root:Adding data shape (299, 299, 3)\n",
      "INFO:root:Adding data shape (299, 299, 3)\n",
      "INFO:root:Adding data shape (299, 299, 3)\n",
      "INFO:root:Adding data shape (299, 299, 3)\n",
      "INFO:root:Adding data shape (299, 299, 3)\n",
      "INFO:root:Adding data shape (299, 299, 3)\n",
      "INFO:root:Adding data shape (299, 299, 3)\n",
      "INFO:root:Adding data shape (299, 299, 3)\n",
      "INFO:root:Adding data shape (299, 299, 3)\n",
      "INFO:root:Adding data shape (299, 299, 3)\n",
      "INFO:root:Adding data shape (299, 299, 3)\n",
      "INFO:root:Adding data shape (299, 299, 3)\n",
      "INFO:root:Adding data shape (299, 299, 3)\n",
      "INFO:root:Adding data shape (299, 299, 3)\n",
      "INFO:root:Adding data shape (299, 299, 3)\n",
      "INFO:root:Adding data shape (299, 299, 3)\n",
      "INFO:root:Adding data shape (299, 299, 3)\n",
      "INFO:root:Adding data shape (299, 299, 3)\n",
      "INFO:root:Adding data shape (299, 299, 3)\n",
      "INFO:root:Adding data shape (299, 299, 3)\n",
      "INFO:root:Adding data shape (299, 299, 3)\n",
      "INFO:root:Adding data shape (299, 299, 3)\n",
      "INFO:root:Adding data shape (299, 299, 3)\n",
      "INFO:root:Adding data shape (299, 299, 3)\n",
      "INFO:root:Adding data shape (299, 299, 3)\n",
      "INFO:root:Adding data shape (299, 299, 3)\n",
      "INFO:root:Adding data shape (299, 299, 3)\n",
      "INFO:root:Adding data shape (299, 299, 3)\n",
      "INFO:root:Adding data shape (299, 299, 3)\n",
      "INFO:root:Adding data shape (299, 299, 3)\n",
      "INFO:root:Adding data shape (299, 299, 3)\n",
      "INFO:root:Adding data shape (299, 299, 3)\n",
      "INFO:root:Adding data shape (299, 299, 3)\n",
      "INFO:root:Adding data shape (299, 299, 3)\n",
      "INFO:root:Adding data shape (299, 299, 3)\n",
      "INFO:root:Adding data shape (299, 299, 3)\n",
      "INFO:root:Adding data shape (299, 299, 3)\n",
      "INFO:root:Adding data shape (299, 299, 3)\n",
      "INFO:root:Adding data shape (299, 299, 3)\n",
      "INFO:root:Adding data shape (299, 299, 3)\n",
      "INFO:root:Adding data shape (299, 299, 3)\n",
      "INFO:root:Adding data shape (299, 299, 3)\n",
      "INFO:root:Adding data shape (299, 299, 3)\n",
      "INFO:root:Adding data shape (299, 299, 3)\n",
      "INFO:root:Adding data shape (299, 299, 3)\n",
      "INFO:root:Adding data shape (299, 299, 3)\n",
      "INFO:root:Adding data shape (299, 299, 3)\n",
      "INFO:root:Adding data shape (299, 299, 3)\n",
      "INFO:root:Adding data shape (299, 299, 3)\n",
      "INFO:root:Adding data shape (299, 299, 3)\n",
      "INFO:root:Adding data shape (299, 299, 3)\n",
      "INFO:root:Adding data shape (299, 299, 3)\n",
      "INFO:root:Adding data shape (299, 299, 3)\n",
      "INFO:root:Adding data shape (299, 299, 3)\n",
      "INFO:root:Adding data shape (299, 299, 3)\n",
      "INFO:root:Adding data shape (299, 299, 3)\n",
      "INFO:root:Adding data shape (299, 299, 3)\n",
      "INFO:root:Adding data shape (299, 299, 3)\n",
      "INFO:root:Adding data shape (299, 299, 3)\n",
      "INFO:root:Adding data shape (299, 299, 3)\n",
      "INFO:root:Adding data shape (299, 299, 3)\n",
      "INFO:root:Adding data shape (299, 299, 3)\n",
      "INFO:root:Adding data shape (299, 299, 3)\n",
      "INFO:root:Adding data shape (299, 299, 3)\n",
      "INFO:root:Adding data shape (299, 299, 3)\n",
      "INFO:root:Adding data shape (299, 299, 3)\n",
      "INFO:root:Adding data shape (299, 299, 3)\n",
      "INFO:root:Adding data shape (299, 299, 3)\n",
      "INFO:root:Adding data shape (299, 299, 3)\n",
      "INFO:root:Adding data shape (299, 299, 3)\n",
      "INFO:root:Data length 100\n",
      "DEBUG:urllib3.connectionpool:Starting new HTTP connection (1): localhost:9000\n",
      "DEBUG:urllib3.connectionpool:http://localhost:9000 \"POST /v1/models/ImageClassifier:predict HTTP/1.1\" 200 1578136\n",
      "INFO:root:shape is (1, 299, 299, 3)\n",
      "INFO:root:Adding data shape (299, 299, 3)\n",
      "INFO:root:Data length 1\n",
      "DEBUG:urllib3.connectionpool:Starting new HTTP connection (1): localhost:9000\n",
      "DEBUG:urllib3.connectionpool:http://localhost:9000 \"POST /v1/models/ImageClassifier:predict HTTP/1.1\" 200 15773\n"
     ]
    }
   ],
   "source": [
    "i = 0\n",
    "image = images[i]\n",
    "np.random.seed(0)\n",
    "if np.argmax(explainer2.predict_fn(images).shape) == 0:\n",
    "    print(\"ok\")\n",
    "else:\n",
    "    explainer2.predict_fn = lambda x: np.argmax(predict_fn(x), axis=1)\n",
    "explanation = explainer2.explain(image, threshold=.95, p_sample=.5, tau=0.15)"
   ]
  },
  {
   "cell_type": "code",
   "execution_count": 79,
   "metadata": {},
   "outputs": [
    {
     "data": {
      "text/plain": [
       "(299, 299, 3)"
      ]
     },
     "execution_count": 79,
     "metadata": {},
     "output_type": "execute_result"
    }
   ],
   "source": [
    "explanation['anchor'].shape"
   ]
  },
  {
   "cell_type": "code",
   "execution_count": 76,
   "metadata": {},
   "outputs": [
    {
     "data": {
      "image/png": "[encoded data removed]",
      "text/plain": [
       "<Figure size 432x288 with 1 Axes>"
      ]
     },
     "metadata": {
      "needs_background": "light"
     },
     "output_type": "display_data"
    }
   ],
   "source": [
    "plt.imshow(explanation['anchor']);"
   ]
  },
  {
   "cell_type": "code",
   "execution_count": 82,
   "metadata": {},
   "outputs": [],
   "source": [
    "class NumpyEncoder(json.JSONEncoder):\n",
    "    def default(self, obj):   # pylint: disable=arguments-differ,method-hidden\n",
    "        if isinstance(obj, (\n",
    "                np.int_, np.intc, np.intp, np.int8, np.int16, np.int32, np.int64, np.uint8,\n",
    "                np.uint16, np.uint32, np.uint64)):\n",
    "            return int(obj)\n",
    "        elif isinstance(obj, (np.float_, np.float16, np.float32, np.float64)):\n",
    "            return float(obj)\n",
    "        elif isinstance(obj, (np.ndarray,)):\n",
    "            return obj.tolist()\n",
    "        return json.JSONEncoder.default(self, obj)\n",
    "j = json.loads(json.dumps(explanation, cls=NumpyEncoder))"
   ]
  },
  {
   "cell_type": "code",
   "execution_count": 85,
   "metadata": {},
   "outputs": [],
   "source": [
    "with open('json_notebook.json', 'w') as outfile:\n",
    "    json.dump(j, outfile)"
   ]
  },
  {
   "cell_type": "code",
   "execution_count": 84,
   "metadata": {},
   "outputs": [
    {
     "data": {
      "text/plain": [
       "<matplotlib.image.AxesImage at 0x7fc1bdb18dd8>"
      ]
     },
     "execution_count": 84,
     "metadata": {},
     "output_type": "execute_result"
    },
    {
     "data": {
      "image/png": "[encoded data removed]",
      "text/plain": [
       "<Figure size 432x288 with 1 Axes>"
      ]
     },
     "metadata": {
      "needs_background": "light"
     },
     "output_type": "display_data"
    }
   ],
   "source": [
    "ex_arr = np.array(j[\"anchor\"])\n",
    "plt.imshow(ex_arr)"
   ]
  },
  {
   "cell_type": "code",
   "execution_count": null,
   "metadata": {},
   "outputs": [],
   "source": [
    "plt.imshow(explanation['segments']);\n"
   ]
  },
  {
   "cell_type": "code",
   "execution_count": 6,
   "metadata": {},
   "outputs": [
    {
     "name": "stdout",
     "output_type": "stream",
     "text": [
      "Images shape: (10, 299, 299, 3)\n"
     ]
    }
   ],
   "source": [
    "category = 'Persian cat'\n",
    "image_shape = (299, 299, 3)\n",
    "data, labels = fetch_imagenet(category, nb_images=10, target_size=image_shape[:2], seed=2, return_X_y=True)\n",
    "print('Images shape: {}'.format(data.shape))\n",
    "images = preprocess_input(data)"
   ]
  },
  {
   "cell_type": "code",
   "execution_count": 7,
   "metadata": {},
   "outputs": [],
   "source": [
    "import numpy as np\n",
    "import requests\n",
    "import json\n",
    "\n",
    "payload = {\n",
    "    \"instances\": [images[0].tolist()]\n",
    "}\n",
    "\n",
    "\n",
    "# sending post request to TensorFlow Serving server\n",
    "r = requests.post('http://localhost:8081/models/imagenet:explain', json=payload)\n",
    "explanation = json.loads(r.content.decode('utf-8'))"
   ]
  },
  {
   "cell_type": "code",
   "execution_count": 8,
   "metadata": {},
   "outputs": [
    {
     "data": {
      "image/png": "[encoded data removed]",
      "text/plain": [
       "<Figure size 432x288 with 1 Axes>"
      ]
     },
     "metadata": {
      "needs_background": "light"
     },
     "output_type": "display_data"
    }
   ],
   "source": [
    "plt.imshow(explanation['anchor']);"
   ]
  },
  {
   "cell_type": "code",
   "execution_count": 12,
   "metadata": {},
   "outputs": [],
   "source": [
    "import json\n",
    "with open(\"json_file.json\", 'r') as f:\n",
    "    j = json.load(f)"
   ]
  },
  {
   "cell_type": "code",
   "execution_count": 13,
   "metadata": {},
   "outputs": [],
   "source": [
    "arr_j = np.array(j[\"anchor\"])"
   ]
  },
  {
   "cell_type": "code",
   "execution_count": 14,
   "metadata": {},
   "outputs": [
    {
     "data": {
      "text/plain": [
       "<matplotlib.image.AxesImage at 0x7fb82dbaacf8>"
      ]
     },
     "execution_count": 14,
     "metadata": {},
     "output_type": "execute_result"
    },
    {
     "data": {
      "image/png": "[encoded data removed]",
      "text/plain": [
       "<Figure size 432x288 with 1 Axes>"
      ]
     },
     "metadata": {
      "needs_background": "light"
     },
     "output_type": "display_data"
    }
   ],
   "source": [
    "plt.imshow(arr_j)"
   ]
  },
  {
   "cell_type": "code",
   "execution_count": 15,
   "metadata": {},
   "outputs": [
    {
     "name": "stdout",
     "output_type": "stream",
     "text": [
      "10396802\n",
      "64832\n"
     ]
    }
   ],
   "source": [
    "print(np.sum(arr_j))\n",
    "print(np.count_nonzero(arr_j))"
   ]
  },
  {
   "cell_type": "code",
   "execution_count": 16,
   "metadata": {},
   "outputs": [
    {
     "data": {
      "text/plain": [
       "(299, 299, 3)"
      ]
     },
     "execution_count": 16,
     "metadata": {},
     "output_type": "execute_result"
    }
   ],
   "source": [
    "arr_j.shape"
   ]
  },
  {
   "cell_type": "code",
   "execution_count": 4,
   "metadata": {},
   "outputs": [],
   "source": [
    "import json\n",
    "with open(\"json_notebook.json\", 'r') as f:\n",
    "    j2 = json.load(f)"
   ]
  },
  {
   "cell_type": "code",
   "execution_count": 6,
   "metadata": {},
   "outputs": [],
   "source": [
    "arr_j2 = np.array(j2[\"anchor\"])"
   ]
  },
  {
   "cell_type": "code",
   "execution_count": 8,
   "metadata": {},
   "outputs": [
    {
     "data": {
      "text/plain": [
       "<matplotlib.image.AxesImage at 0x7fb87e6aeb00>"
      ]
     },
     "execution_count": 8,
     "metadata": {},
     "output_type": "execute_result"
    },
    {
     "data": {
      "image/png": "[encoded data removed]",
      "text/plain": [
       "<Figure size 432x288 with 1 Axes>"
      ]
     },
     "metadata": {
      "needs_background": "light"
     },
     "output_type": "display_data"
    }
   ],
   "source": [
    "plt.imshow(arr_j2)"
   ]
  },
  {
   "cell_type": "code",
   "execution_count": 10,
   "metadata": {},
   "outputs": [
    {
     "name": "stdout",
     "output_type": "stream",
     "text": [
      "2631728\n",
      "25812\n"
     ]
    }
   ],
   "source": [
    "print(np.sum(arr_j2))\n",
    "print(np.count_nonzero(arr_j2))"
   ]
  },
  {
   "cell_type": "code",
   "execution_count": 11,
   "metadata": {},
   "outputs": [
    {
     "data": {
      "text/plain": [
       "(299, 299, 3)"
      ]
     },
     "execution_count": 11,
     "metadata": {},
     "output_type": "execute_result"
    }
   ],
   "source": [
    "arr_j2.shape"
   ]
  },
  {
   "cell_type": "code",
   "execution_count": null,
   "metadata": {},
   "outputs": [],
   "source": []
  }
 ],
 "metadata": {
  "kernelspec": {
   "display_name": "Python 3",
   "language": "python",
   "name": "python3"
  },
  "language_info": {
   "codemirror_mode": {
    "name": "ipython",
    "version": 3
   },
   "file_extension": ".py",
   "mimetype": "text/x-python",
   "name": "python",
   "nbconvert_exporter": "python",
   "pygments_lexer": "ipython3",
   "version": "3.7.3"
  }
 },
 "nbformat": 4,
 "nbformat_minor": 2
}
