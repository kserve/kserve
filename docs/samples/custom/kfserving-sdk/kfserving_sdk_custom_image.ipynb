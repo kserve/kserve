{
 "cells": [
  {
   "cell_type": "markdown",
   "metadata": {},
   "source": [
    "# Sample for KFServing SDK with a custom image\n",
    "\n",
    "This is a sample for KFServing SDK using a custom image.\n",
    "\n",
    "The notebook shows how to use KFServing SDK to create, get and delete InferenceService with a custom image.\n",
    "\n",
    "### Setup\n",
    "- Your `~/.kube/config` should point to a cluster with KFServing installed.\n",
    "- Your cluster's Istio Ingress gateway must be network accessible."
   ]
  },
  {
   "cell_type": "markdown",
   "metadata": {},
   "source": [
    "### Build the docker image we will be using.\n",
    "\n",
    "The goal of custom image support is to allow users to bring their own wrapped model inside a container and serve it with KFServing. Please note that you will need to ensure that your container is also running a web server e.g. Flask to expose your model endpoints. This example extends kfserving.KFModel which uses the tornado web server.\n",
    "\n",
    "\n",
    "To build and push with Docker Hub set the `DOCKER_HUB_USERNAME` variable below with your Docker Hub username"
   ]
  },
  {
   "cell_type": "code",
   "execution_count": 1,
   "metadata": {},
   "outputs": [],
   "source": [
    "# Set this to be your dockerhub username\n",
    "# It will be used when building your image and when creating the InferenceService for your image\n",
    "DOCKER_HUB_USERNAME = \"rzgry\""
   ]
  },
  {
   "cell_type": "code",
   "execution_count": 2,
   "metadata": {},
   "outputs": [
    {
     "name": "stdout",
     "output_type": "stream",
     "text": [
      "Sending build context to Docker daemon  162.8kB\r",
      "\r\n",
      "Step 1/7 : FROM python:3.7-slim\n",
      " ---> 7e61acc68112\n",
      "Step 2/7 : ENV APP_HOME /app\n",
      " ---> Using cache\n",
      " ---> 579e63347278\n",
      "Step 3/7 : WORKDIR $APP_HOME\n",
      " ---> Using cache\n",
      " ---> 8c34334f7db1\n",
      "Step 4/7 : COPY requirements.txt ./\n",
      " ---> Using cache\n",
      " ---> 11d60915380b\n",
      "Step 5/7 : RUN pip install --no-cache-dir -r ./requirements.txt\n",
      " ---> Using cache\n",
      " ---> ef26a0319a6a\n",
      "Step 6/7 : COPY model.py  imagenet_classes.txt ./\n",
      " ---> Using cache\n",
      " ---> e92fc584f413\n",
      "Step 7/7 : CMD [\"python\", \"model.py\"]\n",
      " ---> Using cache\n",
      " ---> 0638ef45edc1\n",
      "Successfully built 0638ef45edc1\n",
      "Successfully tagged rzgry/kfserving-custom-model:latest\n"
     ]
    }
   ],
   "source": [
    "%%bash -s \"$DOCKER_HUB_USERNAME\"\n",
    "docker build -t $1/kfserving-custom-model ."
   ]
  },
  {
   "cell_type": "code",
   "execution_count": 3,
   "metadata": {},
   "outputs": [
    {
     "name": "stdout",
     "output_type": "stream",
     "text": [
      "The push refers to repository [docker.io/rzgry/kfserving-custom-model]\n",
      "e20c8c6118ee: Preparing\n",
      "46e1361fc807: Preparing\n",
      "1cbb632188b9: Preparing\n",
      "1a2672635cd4: Preparing\n",
      "db870d9948f7: Preparing\n",
      "7d9bd7f5b03a: Preparing\n",
      "83d8f2f27444: Preparing\n",
      "cb82f398d4bd: Preparing\n",
      "488dfecc21b1: Preparing\n",
      "7d9bd7f5b03a: Waiting\n",
      "83d8f2f27444: Waiting\n",
      "cb82f398d4bd: Waiting\n",
      "488dfecc21b1: Waiting\n",
      "db870d9948f7: Layer already exists\n",
      "1cbb632188b9: Layer already exists\n",
      "1a2672635cd4: Layer already exists\n",
      "46e1361fc807: Layer already exists\n",
      "e20c8c6118ee: Layer already exists\n",
      "7d9bd7f5b03a: Layer already exists\n",
      "83d8f2f27444: Layer already exists\n",
      "cb82f398d4bd: Layer already exists\n",
      "488dfecc21b1: Layer already exists\n",
      "latest: digest: sha256:584a690653612987b268ed90fc742bcef0d5ee9380613ae3bb21d9262cdcabc1 size: 2206\n"
     ]
    }
   ],
   "source": [
    "%%bash -s \"$DOCKER_HUB_USERNAME\"\n",
    "docker push $1/kfserving-custom-model"
   ]
  },
  {
   "cell_type": "markdown",
   "metadata": {},
   "source": [
    "### KFServing Client SDK\n",
    "\n",
    "We will use the [KFServing client SDK](https://github.com/kubeflow/kfserving/blob/master/python/kfserving/README.md#kfserving-client) to create the InferenceService and deploy our custom image."
   ]
  },
  {
   "cell_type": "code",
   "execution_count": 4,
   "metadata": {},
   "outputs": [],
   "source": [
    "from kubernetes import client\n",
    "from kubernetes.client import V1Container\n",
    "\n",
    "from kfserving import KFServingClient\n",
    "from kfserving import constants\n",
    "from kfserving import utils\n",
    "from kfserving import V1alpha2EndpointSpec\n",
    "from kfserving import V1alpha2PredictorSpec\n",
    "from kfserving import V1alpha2InferenceServiceSpec\n",
    "from kfserving import V1alpha2InferenceService\n",
    "from kfserving import V1alpha2CustomSpec"
   ]
  },
  {
   "cell_type": "code",
   "execution_count": 5,
   "metadata": {},
   "outputs": [
    {
     "name": "stdout",
     "output_type": "stream",
     "text": [
      "default\n"
     ]
    }
   ],
   "source": [
    "namespace = utils.get_default_target_namespace()\n",
    "print(namespace)"
   ]
  },
  {
   "cell_type": "markdown",
   "metadata": {},
   "source": [
    "### Define InferenceService\n",
    "\n",
    "Firstly define default endpoint spec, and then define the inferenceservice using the endpoint spec.\n",
    "\n",
    "To use a custom image we need to use V1alphaCustomSpec which takes a [V1Container](https://github.com/kubernetes-client/python/blob/master/kubernetes/docs/V1Container.md)\n",
    " from the kuberenetes library\n"
   ]
  },
  {
   "cell_type": "code",
   "execution_count": 6,
   "metadata": {},
   "outputs": [],
   "source": [
    "api_version = constants.KFSERVING_GROUP + '/' + constants.KFSERVING_VERSION\n",
    "\n",
    "default_endpoint_spec = V1alpha2EndpointSpec(\n",
    "                          predictor=V1alpha2PredictorSpec(\n",
    "                              custom=V1alpha2CustomSpec(\n",
    "                                  container=V1Container(\n",
    "                                      name=\"kfserving-custom-model\",\n",
    "                                      image=f\"{DOCKER_HUB_USERNAME}/kfserving-custom-model\"))))\n",
    "\n",
    "isvc = V1alpha2InferenceService(api_version=api_version,\n",
    "                          kind=constants.KFSERVING_KIND,\n",
    "                          metadata=client.V1ObjectMeta(\n",
    "                              name='kfserving-custom-model', namespace=namespace),\n",
    "                          spec=V1alpha2InferenceServiceSpec(default=default_endpoint_spec))"
   ]
  },
  {
   "cell_type": "markdown",
   "metadata": {},
   "source": [
    "### Create the InferenceService\n",
    "\n",
    "Call KFServingClient to create InferenceService."
   ]
  },
  {
   "cell_type": "code",
   "execution_count": 7,
   "metadata": {},
   "outputs": [
    {
     "name": "stderr",
     "output_type": "stream",
     "text": [
      "/Users/rzegray/Developer/python-venvs/kfservingsdk/lib/python3.7/site-packages/urllib3/connectionpool.py:1004: InsecureRequestWarning: Unverified HTTPS request is being made to host 'iam.bluemix.net'. Adding certificate verification is strongly advised. See: https://urllib3.readthedocs.io/en/latest/advanced-usage.html#ssl-warnings\n",
      "  InsecureRequestWarning,\n"
     ]
    },
    {
     "data": {
      "text/plain": [
       "{'apiVersion': 'serving.kubeflow.org/v1alpha2',\n",
       " 'kind': 'InferenceService',\n",
       " 'metadata': {'creationTimestamp': '2020-03-09T19:49:59Z',\n",
       "  'generation': 1,\n",
       "  'name': 'kfserving-custom-model',\n",
       "  'namespace': 'default',\n",
       "  'resourceVersion': '97586539',\n",
       "  'selfLink': '/apis/serving.kubeflow.org/v1alpha2/namespaces/default/inferenceservices/kfserving-custom-model',\n",
       "  'uid': 'c31bd271-6296-4c52-9abf-ef1750ac64cc'},\n",
       " 'spec': {'default': {'predictor': {'custom': {'container': {'image': 'rzgry/kfserving-custom-model',\n",
       "      'name': 'kfserving-custom-model',\n",
       "      'resources': {'limits': {'cpu': '1', 'memory': '2Gi'},\n",
       "       'requests': {'cpu': '1', 'memory': '2Gi'}}}}}}},\n",
       " 'status': {}}"
      ]
     },
     "execution_count": 7,
     "metadata": {},
     "output_type": "execute_result"
    }
   ],
   "source": [
    "KFServing = KFServingClient()\n",
    "KFServing.create(isvc)"
   ]
  },
  {
   "cell_type": "markdown",
   "metadata": {},
   "source": [
    "### Check the InferenceService"
   ]
  },
  {
   "cell_type": "code",
   "execution_count": 8,
   "metadata": {},
   "outputs": [
    {
     "name": "stdout",
     "output_type": "stream",
     "text": [
      "NAME                 READY      DEFAULT_TRAFFIC CANARY_TRAFFIC  URL                                               \n",
      "kfserving-custom-... True                   100                 http://kfserving-custom-model.default.example.c...\n"
     ]
    }
   ],
   "source": [
    "KFServing.get('kfserving-custom-model', namespace=namespace, watch=True, timeout_seconds=120)"
   ]
  },
  {
   "cell_type": "markdown",
   "metadata": {},
   "source": [
    "### Run a prediction "
   ]
  },
  {
   "cell_type": "code",
   "execution_count": 9,
   "metadata": {},
   "outputs": [],
   "source": [
    "MODEL_NAME = \"kfserving-custom-model\""
   ]
  },
  {
   "cell_type": "code",
   "execution_count": 10,
   "metadata": {},
   "outputs": [],
   "source": [
    "%%bash --out CLUSTER_IP\n",
    "echo \"$(kubectl -n istio-system get service istio-ingressgateway -o jsonpath='{.status.loadBalancer.ingress[0].ip}')\""
   ]
  },
  {
   "cell_type": "code",
   "execution_count": 11,
   "metadata": {},
   "outputs": [],
   "source": [
    "%%bash -s \"$MODEL_NAME\" --out SERVICE_HOSTNAME\n",
    "echo \"$(kubectl get inferenceservice $1 -o jsonpath='{.status.url}' | cut -d \"/\" -f 3)\""
   ]
  },
  {
   "cell_type": "code",
   "execution_count": 12,
   "metadata": {},
   "outputs": [
    {
     "name": "stdout",
     "output_type": "stream",
     "text": [
      "b'{\"predictions\": {\"Labrador retriever\": 0.4158518612384796, \"golden retriever\": 0.1659165322780609, \"Saluki, gazelle hound\": 0.16286855936050415, \"whippet\": 0.028539149090647697, \"Ibizan hound, Ibizan Podenco\": 0.023924754932522774}}'\n"
     ]
    }
   ],
   "source": [
    "import requests\n",
    "import json\n",
    "\n",
    "with open('input.json') as json_file:\n",
    "    data = json.load(json_file)\n",
    "    url = f\"http://{CLUSTER_IP.strip()}/v1/models/{MODEL_NAME}:predict\"\n",
    "    headers = {\"Host\": SERVICE_HOSTNAME.strip()}\n",
    "    result = requests.post(url, data=json.dumps(data), headers=headers)\n",
    "    print(result.content)"
   ]
  },
  {
   "cell_type": "markdown",
   "metadata": {},
   "source": [
    "### Delete the InferenceService"
   ]
  },
  {
   "cell_type": "code",
   "execution_count": 13,
   "metadata": {},
   "outputs": [
    {
     "data": {
      "text/plain": [
       "{'kind': 'Status',\n",
       " 'apiVersion': 'v1',\n",
       " 'metadata': {},\n",
       " 'status': 'Success',\n",
       " 'details': {'name': 'kfserving-custom-model',\n",
       "  'group': 'serving.kubeflow.org',\n",
       "  'kind': 'inferenceservices',\n",
       "  'uid': 'c31bd271-6296-4c52-9abf-ef1750ac64cc'}}"
      ]
     },
     "execution_count": 13,
     "metadata": {},
     "output_type": "execute_result"
    }
   ],
   "source": [
    "KFServing.delete(MODEL_NAME, namespace=namespace)"
   ]
  },
  {
   "cell_type": "code",
   "execution_count": null,
   "metadata": {},
   "outputs": [],
   "source": []
  }
 ],
 "metadata": {
  "kernelspec": {
   "display_name": "Python 3",
   "language": "python",
   "name": "python3"
  },
  "language_info": {
   "codemirror_mode": {
    "name": "ipython",
    "version": 3
   },
   "file_extension": ".py",
   "mimetype": "text/x-python",
   "name": "python",
   "nbconvert_exporter": "python",
   "pygments_lexer": "ipython3",
   "version": "3.7.5"
  }
 },
 "nbformat": 4,
 "nbformat_minor": 4
}
