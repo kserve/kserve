{
 "cells": [
  {
   "cell_type": "markdown",
   "metadata": {},
   "source": [
    "# KfServing Logger demo"
   ]
  },
  {
   "cell_type": "markdown",
   "metadata": {},
   "source": [
    "We create a message dumper KNaive service to print out CloudEvents it receives:"
   ]
  },
  {
   "cell_type": "code",
   "execution_count": 1,
   "metadata": {},
   "outputs": [
    {
     "name": "stdout",
     "output_type": "stream",
     "text": [
      "\u001b[34;01mapiVersion\u001b[39;49;00m: serving.knative.dev/v1alpha1\r\n",
      "\u001b[34;01mkind\u001b[39;49;00m: Service\r\n",
      "\u001b[34;01mmetadata\u001b[39;49;00m:\r\n",
      "  \u001b[34;01mname\u001b[39;49;00m: message-dumper\r\n",
      "\u001b[34;01mspec\u001b[39;49;00m:\r\n",
      "  \u001b[34;01mtemplate\u001b[39;49;00m:\r\n",
      "    \u001b[34;01mspec\u001b[39;49;00m:\r\n",
      "      \u001b[34;01mcontainers\u001b[39;49;00m:\r\n",
      "      - \u001b[34;01mimage\u001b[39;49;00m: gcr.io/knative-releases/github.com/knative/eventing-sources/cmd/event_display\r\n"
     ]
    }
   ],
   "source": [
    "!pygmentize message-dumper.yaml"
   ]
  },
  {
   "cell_type": "code",
   "execution_count": 2,
   "metadata": {},
   "outputs": [
    {
     "name": "stdout",
     "output_type": "stream",
     "text": [
      "service.serving.knative.dev/message-dumper created\r\n"
     ]
    }
   ],
   "source": [
    "!kubectl apply -f message-dumper.yaml"
   ]
  },
  {
   "cell_type": "markdown",
   "metadata": {},
   "source": [
    "Create a SkLearn model with associated logger to push events to the message logger URL"
   ]
  },
  {
   "cell_type": "code",
   "execution_count": 4,
   "metadata": {},
   "outputs": [
    {
     "name": "stdout",
     "output_type": "stream",
     "text": [
      "\u001b[34;01mapiVersion\u001b[39;49;00m: \u001b[33m\"\u001b[39;49;00m\u001b[33mserving.kubeflow.org/v1alpha2\u001b[39;49;00m\u001b[33m\"\u001b[39;49;00m\r\n",
      "\u001b[34;01mkind\u001b[39;49;00m: \u001b[33m\"\u001b[39;49;00m\u001b[33mInferenceService\u001b[39;49;00m\u001b[33m\"\u001b[39;49;00m\r\n",
      "\u001b[34;01mmetadata\u001b[39;49;00m:\r\n",
      "  \u001b[34;01mname\u001b[39;49;00m: \u001b[33m\"\u001b[39;49;00m\u001b[33msklearn-iris\u001b[39;49;00m\u001b[33m\"\u001b[39;49;00m\r\n",
      "\u001b[34;01mspec\u001b[39;49;00m:\r\n",
      "  \u001b[34;01mdefault\u001b[39;49;00m:\r\n",
      "    \u001b[34;01mpredictor\u001b[39;49;00m:\r\n",
      "      \u001b[34;01mminReplicas\u001b[39;49;00m: 1      \r\n",
      "      \u001b[34;01mlogger\u001b[39;49;00m:\r\n",
      "        \u001b[34;01murl\u001b[39;49;00m: http://message-dumper.default/\r\n",
      "        \u001b[34;01mmode\u001b[39;49;00m: all\r\n",
      "      \u001b[34;01msklearn\u001b[39;49;00m:\r\n",
      "        \u001b[34;01mstorageUri\u001b[39;49;00m: \u001b[33m\"\u001b[39;49;00m\u001b[33mgs://kfserving-samples/models/sklearn/iris\u001b[39;49;00m\u001b[33m\"\u001b[39;49;00m\r\n",
      "        \u001b[34;01mresources\u001b[39;49;00m:\r\n",
      "          \u001b[34;01mrequests\u001b[39;49;00m:\r\n",
      "            \u001b[34;01mcpu\u001b[39;49;00m: 0.1\r\n",
      "                                  \r\n"
     ]
    }
   ],
   "source": [
    "!pygmentize sklearn-logging.yaml"
   ]
  },
  {
   "cell_type": "code",
   "execution_count": 6,
   "metadata": {},
   "outputs": [
    {
     "name": "stdout",
     "output_type": "stream",
     "text": [
      "inferenceservice.serving.kubeflow.org/sklearn-iris created\r\n"
     ]
    }
   ],
   "source": [
    "!kubectl apply -f sklearn-logging.yaml"
   ]
  },
  {
   "cell_type": "code",
   "execution_count": 7,
   "metadata": {},
   "outputs": [
    {
     "name": "stdout",
     "output_type": "stream",
     "text": [
      "35.204.158.239\n"
     ]
    }
   ],
   "source": [
    "CLUSTER_IPS=!(kubectl -n istio-system get service istio-ingressgateway -o jsonpath='{.status.loadBalancer.ingress[0].ip}')\n",
    "CLUSTER_IP=CLUSTER_IPS[0]\n",
    "print(CLUSTER_IP)"
   ]
  },
  {
   "cell_type": "code",
   "execution_count": 8,
   "metadata": {},
   "outputs": [
    {
     "name": "stdout",
     "output_type": "stream",
     "text": [
      "sklearn-iris.default.example.com\n"
     ]
    }
   ],
   "source": [
    "SERVICE_HOSTNAMES=!(kubectl get inferenceservice sklearn-iris -o jsonpath='{.status.url}' | cut -d \"/\" -f 3)\n",
    "SERVICE_HOSTNAME=SERVICE_HOSTNAMES[0]\n",
    "print(SERVICE_HOSTNAME)"
   ]
  },
  {
   "cell_type": "code",
   "execution_count": 16,
   "metadata": {},
   "outputs": [],
   "source": [
    "import requests\n",
    "def predict(X, name, svc_hostname, cluster_ip):\n",
    "    formData = {\n",
    "    'instances': X\n",
    "    }\n",
    "    headers = {}\n",
    "    headers[\"Host\"] = svc_hostname\n",
    "    res = requests.post('http://'+cluster_ip+'/v1/models/'+name+':predict', json=formData, headers=headers)\n",
    "    if res.status_code == 200:\n",
    "        return res.json()\n",
    "    else:\n",
    "        print(\"Failed with \",res.status_code)\n",
    "        return []"
   ]
  },
  {
   "cell_type": "code",
   "execution_count": 20,
   "metadata": {},
   "outputs": [
    {
     "data": {
      "text/plain": [
       "{'predictions': [1]}"
      ]
     },
     "execution_count": 20,
     "metadata": {},
     "output_type": "execute_result"
    }
   ],
   "source": [
    "predict([[6.8,  2.8,  4.8,  1.4]],\"sklearn-iris\",SERVICE_HOSTNAME,CLUSTER_IP)"
   ]
  },
  {
   "cell_type": "code",
   "execution_count": 21,
   "metadata": {},
   "outputs": [
    {
     "name": "stdout",
     "output_type": "stream",
     "text": [
      "☁️  cloudevents.Event\r\n",
      "Validation: valid\r\n",
      "Context Attributes,\r\n",
      "  specversion: 0.2\r\n",
      "  type: org.kubeflow.serving.inference.response\r\n",
      "  source: http://localhost:8080/\r\n",
      "  id: cd767a44-54dd-4bd4-b115-6d26514d31db\r\n",
      "  time: 2019-11-03T20:07:22.912383978Z\r\n",
      "  contenttype: application/json; charset=UTF-8\r\n",
      "Data,\r\n",
      "  {\r\n",
      "    \"predictions\": [\r\n",
      "      1\r\n",
      "    ]\r\n",
      "  }\r\n",
      "☁️  cloudevents.Event\r\n",
      "Validation: valid\r\n",
      "Context Attributes,\r\n",
      "  specversion: 0.2\r\n",
      "  type: org.kubeflow.serving.inference.request\r\n",
      "  source: http://localhost:8080/\r\n",
      "  id: cd767a44-54dd-4bd4-b115-6d26514d31db\r\n",
      "  time: 2019-11-03T20:07:22.895590001Z\r\n",
      "  contenttype: application/json\r\n",
      "Data,\r\n",
      "  {\r\n",
      "    \"instances\": [\r\n",
      "      [\r\n",
      "        6.8,\r\n",
      "        2.8,\r\n",
      "        4.8,\r\n",
      "        1.4\r\n",
      "      ]\r\n",
      "    ]\r\n",
      "  }\r\n",
      "☁️  cloudevents.Event\r\n",
      "Validation: valid\r\n",
      "Context Attributes,\r\n",
      "  specversion: 0.2\r\n",
      "  type: org.kubeflow.serving.inference.request\r\n",
      "  source: http://localhost:8080/\r\n",
      "  id: cf1bc6e7-725a-4354-9e02-a8a6a81aba91\r\n",
      "  time: 2019-11-03T20:08:24.494820358Z\r\n",
      "  contenttype: application/json\r\n",
      "Data,\r\n",
      "  {\r\n",
      "    \"instances\": [\r\n",
      "      [\r\n",
      "        6.8,\r\n",
      "        2.8,\r\n",
      "        4.8,\r\n",
      "        1.4\r\n",
      "      ]\r\n",
      "    ]\r\n",
      "  }\r\n",
      "☁️  cloudevents.Event\r\n",
      "Validation: valid\r\n",
      "Context Attributes,\r\n",
      "  specversion: 0.2\r\n",
      "  type: org.kubeflow.serving.inference.response\r\n",
      "  source: http://localhost:8080/\r\n",
      "  id: cf1bc6e7-725a-4354-9e02-a8a6a81aba91\r\n",
      "  time: 2019-11-03T20:08:24.497082732Z\r\n",
      "  contenttype: application/json; charset=UTF-8\r\n",
      "Data,\r\n",
      "  {\r\n",
      "    \"predictions\": [\r\n",
      "      1\r\n",
      "    ]\r\n",
      "  }\r\n"
     ]
    }
   ],
   "source": [
    "!kubectl logs  $(kubectl get pod -l serving.knative.dev/configuration=message-dumper -o jsonpath='{.items[0].metadata.name}') user-container"
   ]
  },
  {
   "cell_type": "code",
   "execution_count": 22,
   "metadata": {},
   "outputs": [
    {
     "name": "stdout",
     "output_type": "stream",
     "text": [
      "inferenceservice.serving.kubeflow.org \"sklearn-iris\" deleted\r\n"
     ]
    }
   ],
   "source": [
    "!kubectl delete -f sklearn-logging.yaml"
   ]
  },
  {
   "cell_type": "code",
   "execution_count": 23,
   "metadata": {},
   "outputs": [
    {
     "name": "stdout",
     "output_type": "stream",
     "text": [
      "service.serving.knative.dev \"message-dumper\" deleted\r\n"
     ]
    }
   ],
   "source": [
    "!kubectl delete -f message-dumper.yaml"
   ]
  },
  {
   "cell_type": "code",
   "execution_count": null,
   "metadata": {},
   "outputs": [],
   "source": []
  }
 ],
 "metadata": {
  "kernelspec": {
   "display_name": "Python 3",
   "language": "python",
   "name": "python3"
  },
  "language_info": {
   "codemirror_mode": {
    "name": "ipython",
    "version": 3
   },
   "file_extension": ".py",
   "mimetype": "text/x-python",
   "name": "python",
   "nbconvert_exporter": "python",
   "pygments_lexer": "ipython3",
   "version": "3.7.4"
  }
 },
 "nbformat": 4,
 "nbformat_minor": 2
}
