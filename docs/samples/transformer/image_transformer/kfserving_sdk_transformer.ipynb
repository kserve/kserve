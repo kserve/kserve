{
 "cells": [
  {
   "cell_type": "markdown",
   "metadata": {},
   "source": [
    "# Sample for using transformer with KFServing SDK "
   ]
  },
  {
   "cell_type": "markdown",
   "metadata": {},
   "source": [
    "The notebook shows how to use KFServing SDK to create KFService with transformer, predictor."
   ]
  },
  {
   "cell_type": "code",
   "execution_count": 29,
   "metadata": {},
   "outputs": [],
   "source": [
    "from kubernetes import client\n",
    "\n",
    "from kfserving import KFServingClient\n",
    "from kfserving import constants\n",
    "from kfserving import V1alpha2EndpointSpec\n",
    "from kfserving import V1alpha2PredictorSpec\n",
    "from kfserving import V1alpha2TransformerSpec\n",
    "from kfserving import V1alpha2PyTorchSpec\n",
    "from kfserving import V1alpha2CustomSpec\n",
    "from kfserving import V1alpha2KFServiceSpec\n",
    "from kfserving import V1alpha2KFService\n",
    "from kubernetes.client import V1Container\n",
    "from kubernetes.client import V1ResourceRequirements"
   ]
  },
  {
   "cell_type": "markdown",
   "metadata": {},
   "source": [
    "## Define KFService with Transformer"
   ]
  },
  {
   "cell_type": "markdown",
   "metadata": {},
   "source": [
    "Add predictor and transformer on the endpoint spec"
   ]
  },
  {
   "cell_type": "code",
   "execution_count": 30,
   "metadata": {},
   "outputs": [],
   "source": [
    "api_version = constants.KFSERVING_GROUP + '/' + constants.KFSERVING_VERSION\n",
    "default_endpoint_spec = V1alpha2EndpointSpec(\n",
    "                          predictor=V1alpha2PredictorSpec(\n",
    "                            pytorch=V1alpha2PyTorchSpec(\n",
    "                              storage_uri='gs://kfserving-samples/models/pytorch/cifar10',\n",
    "                              model_class_name= \"Net\",\n",
    "                              resources=V1ResourceRequirements(\n",
    "                                  requests={'cpu':'100m','memory':'1Gi'},\n",
    "                                  limits={'cpu':'100m', 'memory':'1Gi'}))),\n",
    "                          transformer=V1alpha2TransformerSpec(\n",
    "                            custom=V1alpha2CustomSpec(\n",
    "                              container=V1Container(\n",
    "                              image='yuzisun/image-transformer:latest',\n",
    "                              name='user-container',\n",
    "                              resources=V1ResourceRequirements(\n",
    "                                  requests={'cpu':'100m','memory':'1Gi'},\n",
    "                                  limits={'cpu':'100m', 'memory':'1Gi'})))))\n",
    "    \n",
    "kfsvc = V1alpha2KFService(api_version=api_version,\n",
    "                          kind=constants.KFSERVING_KIND,\n",
    "                          metadata=client.V1ObjectMeta(\n",
    "                              name='cifar10', namespace='kubeflow'),\n",
    "                          spec=V1alpha2KFServiceSpec(default=default_endpoint_spec))"
   ]
  },
  {
   "cell_type": "markdown",
   "metadata": {},
   "source": [
    "## Create KFService with Transformer"
   ]
  },
  {
   "cell_type": "markdown",
   "metadata": {},
   "source": [
    "Call KFServingClient to create KFService."
   ]
  },
  {
   "cell_type": "code",
   "execution_count": 31,
   "metadata": {},
   "outputs": [
    {
     "data": {
      "text/plain": [
       "{'apiVersion': 'serving.kubeflow.org/v1alpha2',\n",
       " 'kind': 'KFService',\n",
       " 'metadata': {'creationTimestamp': '2019-09-23T08:11:00Z',\n",
       "  'generation': 1,\n",
       "  'name': 'cifar10',\n",
       "  'namespace': 'kubeflow',\n",
       "  'resourceVersion': '1882645',\n",
       "  'selfLink': '/apis/serving.kubeflow.org/v1alpha2/namespaces/kubeflow/kfservices/cifar10',\n",
       "  'uid': 'ada803a9-ddd9-11e9-adc5-42010a80027c'},\n",
       " 'spec': {'default': {'predictor': {'pytorch': {'modelClassName': 'Net',\n",
       "     'resources': {'limits': {'cpu': '100m', 'memory': '1Gi'},\n",
       "      'requests': {'cpu': '100m', 'memory': '1Gi'}},\n",
       "     'runtimeVersion': 'latest',\n",
       "     'storageUri': 'gs://kfserving-samples/models/pytorch/cifar10'}},\n",
       "   'transformer': {'custom': {'container': {'image': 'yuzisun/image-transformer:latest',\n",
       "      'name': 'user-container',\n",
       "      'resources': {'limits': {'cpu': '100m', 'memory': '1Gi'},\n",
       "       'requests': {'cpu': '100m', 'memory': '1Gi'}}}}}}},\n",
       " 'status': {'canary': {}, 'default': {}}}"
      ]
     },
     "execution_count": 31,
     "metadata": {},
     "output_type": "execute_result"
    }
   ],
   "source": [
    "KFServing = KFServingClient()\n",
    "KFServing.create(kfsvc)"
   ]
  },
  {
   "cell_type": "markdown",
   "metadata": {},
   "source": [
    "## Check the KFService"
   ]
  },
  {
   "cell_type": "code",
   "execution_count": 32,
   "metadata": {},
   "outputs": [
    {
     "name": "stdout",
     "output_type": "stream",
     "text": [
      "NAME                 READY      DEFAULT_TRAFFIC CANARY_TRAFFIC  URL                                               \n",
      "cifar10              Unknown                                    http://cifar10-predict.kubeflow.example.com       \n",
      "cifar10              Unknown                                    http://cifar10-predict.kubeflow.example.com       \n",
      "cifar10              Unknown                                    http://cifar10-predict.kubeflow.example.com       \n",
      "cifar10              Unknown                                    http://cifar10-predict.kubeflow.example.com       \n",
      "cifar10              True                                       http://cifar10-predict.kubeflow.example.com       \n"
     ]
    }
   ],
   "source": [
    "KFServing.get('cifar10', namespace='kubeflow', watch=True, timeout_seconds=120)"
   ]
  },
  {
   "cell_type": "markdown",
   "metadata": {},
   "source": [
    "## Predict the image"
   ]
  },
  {
   "cell_type": "code",
   "execution_count": 33,
   "metadata": {},
   "outputs": [
    {
     "name": "stdout",
     "output_type": "stream",
     "text": [
      "env: CLUSTER_IP=['34.67.11.82']\n"
     ]
    }
   ],
   "source": [
    "CLUSTER_IP=!kubectl -n istio-system get service istio-ingressgateway -o jsonpath='{.status.loadBalancer.ingress[0].ip}'\n",
    "!MODEL_NAME=cifar10\n",
    "%env CLUSTER_IP=$CLUSTER_IP"
   ]
  },
  {
   "cell_type": "code",
   "execution_count": 34,
   "metadata": {},
   "outputs": [],
   "source": [
    "import torch\n",
    "import torchvision\n",
    "import io\n",
    "import base64\n",
    "from PIL import Image\n",
    "import numpy as np\n",
    "\n",
    "testset = torchvision.datasets.CIFAR10(root='../../../../docs/samples/pytorch/data', train=False)\n",
    "imgByteArr = io.BytesIO()\n",
    "testset[0][0].save(imgByteArr, format='PNG')\n",
    "imgByteArr = imgByteArr.getvalue()\n",
    "b64=base64.b64encode(imgByteArr).decode(\"utf-8\")\n",
    "byte_array = base64.b64decode(b64)\n",
    "image = Image.open(io.BytesIO(byte_array))\n",
    "a = np.asarray(image)\n",
    "im = Image.fromarray(a)"
   ]
  },
  {
   "cell_type": "code",
   "execution_count": 35,
   "metadata": {},
   "outputs": [
    {
     "data": {
      "text/plain": [
       "b'{\"predictions\": [[-1.6099601984024048, -2.6461076736450195, 0.32844462990760803, 2.4825074672698975, 0.43524616956710815, 2.3108043670654297, 1.00056791305542, -0.4232763648033142, -0.5100948214530945, -1.7978394031524658]]}'"
      ]
     },
     "execution_count": 35,
     "metadata": {},
     "output_type": "execute_result"
    }
   ],
   "source": [
    "import os\n",
    "url = \"http://\" + os.environ['CLUSTER_IP'].strip(\"[]''\") + \"/v1/models/cifar10:predict\"\n",
    "headers = { 'Host': 'cifar10-predict.kubeflow.example.com' }\n",
    "import requests \n",
    "import json\n",
    "instances = [{'image_bytes': {'b64': b64}}]\n",
    "response = requests.post(url, json.dumps({'instances': instances}), headers=headers)\n",
    "response.content"
   ]
  },
  {
   "cell_type": "markdown",
   "metadata": {},
   "source": [
    "## Delete the KFService"
   ]
  },
  {
   "cell_type": "code",
   "execution_count": 9,
   "metadata": {},
   "outputs": [
    {
     "data": {
      "text/plain": [
       "{'kind': 'Status',\n",
       " 'apiVersion': 'v1',\n",
       " 'metadata': {},\n",
       " 'status': 'Success',\n",
       " 'details': {'name': 'cifar10',\n",
       "  'group': 'serving.kubeflow.org',\n",
       "  'kind': 'kfservices',\n",
       "  'uid': '39cccc35-ddcf-11e9-adc5-42010a80027c'}}"
      ]
     },
     "execution_count": 9,
     "metadata": {},
     "output_type": "execute_result"
    }
   ],
   "source": [
    "KFServing.delete('cifar10', namespace='kubeflow')"
   ]
  },
  {
   "cell_type": "code",
   "execution_count": null,
   "metadata": {},
   "outputs": [],
   "source": []
  }
 ],
 "metadata": {
  "kernelspec": {
   "display_name": "Python 3",
   "language": "python",
   "name": "python3"
  },
  "language_info": {
   "codemirror_mode": {
    "name": "ipython",
    "version": 3
   },
   "file_extension": ".py",
   "mimetype": "text/x-python",
   "name": "python",
   "nbconvert_exporter": "python",
   "pygments_lexer": "ipython3",
   "version": "3.6.5"
  }
 },
 "nbformat": 4,
 "nbformat_minor": 2
}
