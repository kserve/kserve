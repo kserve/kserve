{
 "cells": [
  {
   "cell_type": "markdown",
   "metadata": {},
   "source": [
    "# Sample for KFServing SDK "
   ]
  },
  {
   "cell_type": "markdown",
   "metadata": {},
   "source": [
    "This is a sample for KFServing SDK. \n",
    "\n",
    "The notebook shows how to use KFServing SDK to create, get, patch and delete KFService."
   ]
  },
  {
   "cell_type": "code",
   "execution_count": 17,
   "metadata": {},
   "outputs": [],
   "source": [
    "from kubernetes import client\n",
    "\n",
    "from kfserving import KFServingClient\n",
    "from kfserving import constants\n",
    "from kfserving import V1alpha2EndpointSpec\n",
    "from kfserving import V1alpha2PredictorSpec\n",
    "from kfserving import V1alpha2TensorflowSpec\n",
    "from kfserving import V1alpha2KFServiceSpec\n",
    "from kfserving import V1alpha2KFService"
   ]
  },
  {
   "cell_type": "markdown",
   "metadata": {},
   "source": [
    "## Define KFService"
   ]
  },
  {
   "cell_type": "markdown",
   "metadata": {},
   "source": [
    "Firstly define the model spec for default model spec, and then define the kfservice basic on the model spec."
   ]
  },
  {
   "cell_type": "code",
   "execution_count": 18,
   "metadata": {},
   "outputs": [],
   "source": [
    "default_endpoint_spec = V1alpha2EndpointSpec(predictor=V1alpha2PredictorSpec(tensorflow=V1alpha2TensorflowSpec(\n",
    "                                             storage_uri='gs://kfserving-samples/models/tensorflow/flowers')))\n",
    "    \n",
    "kfsvc = V1alpha2KFService(api_version=constants.KFSERVING_GROUP + '/' + constants.KFSERVING_VERSION,\n",
    "                          kind=constants.KFSERVING_KIND,\n",
    "                          metadata=client.V1ObjectMeta(name='flower-sample', namespace='kubeflow'),\n",
    "                          spec=V1alpha2KFServiceSpec(default=default_endpoint_spec))"
   ]
  },
  {
   "cell_type": "markdown",
   "metadata": {},
   "source": [
    "## Create KFService"
   ]
  },
  {
   "cell_type": "markdown",
   "metadata": {},
   "source": [
    "Call KFServingClient to create KFService."
   ]
  },
  {
   "cell_type": "code",
   "execution_count": 19,
   "metadata": {
    "collapsed": true
   },
   "outputs": [
    {
     "data": {
      "text/plain": [
       "{'apiVersion': 'serving.kubeflow.org/v1alpha2',\n",
       " 'kind': 'KFService',\n",
       " 'metadata': {'creationTimestamp': '2019-09-20T02:35:00Z',\n",
       "  'generation': 1,\n",
       "  'name': 'flower-sample',\n",
       "  'namespace': 'kubeflow',\n",
       "  'resourceVersion': '894583',\n",
       "  'selfLink': '/apis/serving.kubeflow.org/v1alpha2/namespaces/kubeflow/kfservices/flower-sample',\n",
       "  'uid': '3e3091c7-db4f-11e9-adc5-42010a80027c'},\n",
       " 'spec': {'default': {'predictor': {'tensorflow': {'resources': {'limits': {'cpu': '1',\n",
       "       'memory': '2Gi'},\n",
       "      'requests': {'cpu': '1', 'memory': '2Gi'}},\n",
       "     'runtimeVersion': 'latest',\n",
       "     'storageUri': 'gs://kfserving-samples/models/tensorflow/flowers'}}}},\n",
       " 'status': {'canary': {}, 'default': {}}}"
      ]
     },
     "execution_count": 19,
     "metadata": {},
     "output_type": "execute_result"
    }
   ],
   "source": [
    "KFServing = KFServingClient()\n",
    "KFServing.create(kfsvc)"
   ]
  },
  {
   "cell_type": "markdown",
   "metadata": {},
   "source": [
    "## Check the KFService"
   ]
  },
  {
   "cell_type": "code",
   "execution_count": 20,
   "metadata": {
    "collapsed": true
   },
   "outputs": [
    {
     "data": {
      "text/plain": [
       "{'apiVersion': 'serving.kubeflow.org/v1alpha2',\n",
       " 'kind': 'KFService',\n",
       " 'metadata': {'creationTimestamp': '2019-09-20T02:35:00Z',\n",
       "  'generation': 2,\n",
       "  'name': 'flower-sample',\n",
       "  'namespace': 'kubeflow',\n",
       "  'resourceVersion': '894642',\n",
       "  'selfLink': '/apis/serving.kubeflow.org/v1alpha2/namespaces/kubeflow/kfservices/flower-sample',\n",
       "  'uid': '3e3091c7-db4f-11e9-adc5-42010a80027c'},\n",
       " 'spec': {'default': {'predictor': {'tensorflow': {'resources': {'limits': {'cpu': '1',\n",
       "       'memory': '2Gi'},\n",
       "      'requests': {'cpu': '1', 'memory': '2Gi'}},\n",
       "     'runtimeVersion': 'latest',\n",
       "     'storageUri': 'gs://kfserving-samples/models/tensorflow/flowers'}}}},\n",
       " 'status': {'canary': {},\n",
       "  'conditions': [{'lastTransitionTime': '2019-09-20T02:35:01Z',\n",
       "    'message': 'Configuration \"flower-sample-predictor-default\" does not have any ready Revision.',\n",
       "    'reason': 'RevisionMissing',\n",
       "    'status': 'False',\n",
       "    'type': 'DefaultPredictorReady'},\n",
       "   {'lastTransitionTime': '2019-09-20T02:35:01Z',\n",
       "    'message': 'Configuration \"flower-sample-predictor-default\" does not have any ready Revision.',\n",
       "    'reason': 'RevisionMissing',\n",
       "    'status': 'False',\n",
       "    'type': 'Ready'},\n",
       "   {'lastTransitionTime': '2019-09-20T02:35:01Z',\n",
       "    'message': 'Configuration \"flower-sample-predictor-default\" does not have any ready Revision.',\n",
       "    'reason': 'RevisionMissing',\n",
       "    'status': 'False',\n",
       "    'type': 'RoutesReady'}],\n",
       "  'default': {'name': 'flower-sample-predictor-default-295rc'},\n",
       "  'url': 'http://flower-sample-predict.kubeflow.34.67.11.82.xip.io'}}"
      ]
     },
     "execution_count": 20,
     "metadata": {},
     "output_type": "execute_result"
    }
   ],
   "source": [
    "KFServing.get('flower-sample', namespace='kubeflow')"
   ]
  },
  {
   "cell_type": "markdown",
   "metadata": {},
   "source": [
    "## Patch the KFService "
   ]
  },
  {
   "cell_type": "markdown",
   "metadata": {},
   "source": [
    "Patch the KFService to add canary model."
   ]
  },
  {
   "cell_type": "code",
   "execution_count": 21,
   "metadata": {
    "scrolled": true
   },
   "outputs": [
    {
     "data": {
      "text/plain": [
       "{'apiVersion': 'serving.kubeflow.org/v1alpha2',\n",
       " 'kind': 'KFService',\n",
       " 'metadata': {'creationTimestamp': '2019-09-20T02:35:00Z',\n",
       "  'generation': 3,\n",
       "  'name': 'flower-sample',\n",
       "  'namespace': 'kubeflow',\n",
       "  'resourceVersion': '894693',\n",
       "  'selfLink': '/apis/serving.kubeflow.org/v1alpha2/namespaces/kubeflow/kfservices/flower-sample',\n",
       "  'uid': '3e3091c7-db4f-11e9-adc5-42010a80027c'},\n",
       " 'spec': {'canary': {'predictor': {'tensorflow': {'resources': {'limits': {'cpu': '1',\n",
       "       'memory': '2Gi'},\n",
       "      'requests': {'cpu': '1', 'memory': '2Gi'}},\n",
       "     'runtimeVersion': 'latest',\n",
       "     'storageUri': 'gs://kfserving-samples/models/tensorflow/flowers'}}},\n",
       "  'canaryTrafficPercent': 10,\n",
       "  'default': {'predictor': {'tensorflow': {'resources': {'limits': {'cpu': '1',\n",
       "       'memory': '2Gi'},\n",
       "      'requests': {'cpu': '1', 'memory': '2Gi'}},\n",
       "     'runtimeVersion': 'latest',\n",
       "     'storageUri': 'gs://kfserving-samples/models/tensorflow/flowers'}}}},\n",
       " 'status': {'canary': {},\n",
       "  'conditions': [{'lastTransitionTime': '2019-09-20T02:35:01Z',\n",
       "    'message': 'Configuration \"flower-sample-predictor-default\" does not have any ready Revision.',\n",
       "    'reason': 'RevisionMissing',\n",
       "    'status': 'False',\n",
       "    'type': 'DefaultPredictorReady'},\n",
       "   {'lastTransitionTime': '2019-09-20T02:35:01Z',\n",
       "    'message': 'Configuration \"flower-sample-predictor-default\" does not have any ready Revision.',\n",
       "    'reason': 'RevisionMissing',\n",
       "    'status': 'False',\n",
       "    'type': 'Ready'},\n",
       "   {'lastTransitionTime': '2019-09-20T02:35:01Z',\n",
       "    'message': 'Configuration \"flower-sample-predictor-default\" does not have any ready Revision.',\n",
       "    'reason': 'RevisionMissing',\n",
       "    'status': 'False',\n",
       "    'type': 'RoutesReady'}],\n",
       "  'default': {'name': 'flower-sample-predictor-default-295rc'},\n",
       "  'url': 'http://flower-sample-predict.kubeflow.34.67.11.82.xip.io'}}"
      ]
     },
     "execution_count": 21,
     "metadata": {},
     "output_type": "execute_result"
    }
   ],
   "source": [
    "canary_endpoint_spec = V1alpha2EndpointSpec(predictor=V1alpha2PredictorSpec(tensorflow=V1alpha2TensorflowSpec(\n",
    "                                            storage_uri='gs://kfserving-samples/models/tensorflow/flowers')))\n",
    "\n",
    "kfsvc = V1alpha2KFService(api_version=constants.KFSERVING_GROUP + '/' + constants.KFSERVING_VERSION,\n",
    "                          kind=constants.KFSERVING_KIND,\n",
    "                          metadata=client.V1ObjectMeta(name='flower-sample', namespace='kubeflow'),\n",
    "                          spec=V1alpha2KFServiceSpec(default=default_endpoint_spec,\n",
    "                                                     canary=canary_endpoint_spec,\n",
    "                                                     canary_traffic_percent=10))\n",
    "\n",
    "KFServing.patch('flower-sample', kfsvc)"
   ]
  },
  {
   "cell_type": "markdown",
   "metadata": {},
   "source": [
    "## Delete the KFService"
   ]
  },
  {
   "cell_type": "code",
   "execution_count": null,
   "metadata": {},
   "outputs": [],
   "source": [
    "KFServing.delete('flower-sample', namespace='kubeflow')\n"
   ]
  }
 ],
 "metadata": {
  "kernelspec": {
   "display_name": "Python 3",
   "language": "python",
   "name": "python3"
  },
  "language_info": {
   "codemirror_mode": {
    "name": "ipython",
    "version": 3
   },
   "file_extension": ".py",
   "mimetype": "text/x-python",
   "name": "python",
   "nbconvert_exporter": "python",
   "pygments_lexer": "ipython3",
   "version": "3.6.5"
  }
 },
 "nbformat": 4,
 "nbformat_minor": 2
}
