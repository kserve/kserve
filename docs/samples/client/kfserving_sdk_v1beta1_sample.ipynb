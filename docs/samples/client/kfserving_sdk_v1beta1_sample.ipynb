{
 "cells": [
  {
   "cell_type": "markdown",
   "metadata": {},
   "source": [
    "# Sample for KFServing SDK v1beta1"
   ]
  },
  {
   "cell_type": "markdown",
   "metadata": {},
   "source": [
    "This is a sample for KFServing SDK v1beta1. \n",
    "\n",
    "The notebook shows how to use KFServing SDK to create, get and delete InferenceService."
   ]
  },
  {
   "cell_type": "code",
   "execution_count": 1,
   "metadata": {},
   "outputs": [],
   "source": [
    "from kubernetes import client \n",
    "from kfserving import KFServingClient\n",
    "from kfserving import constants\n",
    "from kfserving import utils\n",
    "from kfserving import V1beta1InferenceService\n",
    "from kfserving import V1beta1InferenceServiceSpec\n",
    "from kfserving import V1beta1PredictorSpec\n",
    "from kfserving import V1beta1TFServingSpec"
   ]
  },
  {
   "cell_type": "markdown",
   "metadata": {},
   "source": [
    "Define namespace where InferenceService needs to be deployed to. If not specified, below function defines namespace to the current one where SDK is running in the cluster, otherwise it will deploy to default namespace."
   ]
  },
  {
   "cell_type": "code",
   "execution_count": 2,
   "metadata": {},
   "outputs": [],
   "source": [
    "#namespace = utils.get_default_target_namespace()\n",
    "namespace = 'kfserving-test'\n",
    "\n",
    "# reset the KFServing version, such as v1alpha2 or v1beta1\n",
    "kfserving_version = 'v1beta1'"
   ]
  },
  {
   "cell_type": "markdown",
   "metadata": {},
   "source": [
    "## Define InferenceService"
   ]
  },
  {
   "cell_type": "markdown",
   "metadata": {},
   "source": [
    "Firstly define default endpoint spec, and then define the inferenceservice basic on the endpoint spec."
   ]
  },
  {
   "cell_type": "code",
   "execution_count": 3,
   "metadata": {},
   "outputs": [],
   "source": [
    "api_version = constants.KFSERVING_GROUP + '/' + kfserving_version\n",
    "\n",
    "isvc = V1beta1InferenceService(api_version=api_version,\n",
    "                               kind=constants.KFSERVING_KIND,\n",
    "                               metadata=client.V1ObjectMeta(\n",
    "                                   name='flower-sample', namespace=namespace),\n",
    "                               spec=V1beta1InferenceServiceSpec(\n",
    "                               predictor=V1beta1PredictorSpec(\n",
    "                               tensorflow=(V1beta1TFServingSpec(\n",
    "                                   storage_uri='gs://kfserving-samples/models/tensorflow/flowers'))))\n",
    ")"
   ]
  },
  {
   "cell_type": "markdown",
   "metadata": {},
   "source": [
    "## Create InferenceService"
   ]
  },
  {
   "cell_type": "markdown",
   "metadata": {},
   "source": [
    "Call KFServingClient to create InferenceService."
   ]
  },
  {
   "cell_type": "code",
   "execution_count": 4,
   "metadata": {},
   "outputs": [
    {
     "data": {
      "text/plain": [
       "{'apiVersion': 'serving.kubeflow.org/v1beta1',\n",
       " 'kind': 'InferenceService',\n",
       " 'metadata': {'creationTimestamp': '2020-10-29T08:24:07Z',\n",
       "  'generation': 1,\n",
       "  'name': 'flower-sample',\n",
       "  'namespace': 'kfserving-test',\n",
       "  'resourceVersion': '1508368',\n",
       "  'selfLink': '/apis/serving.kubeflow.org/v1beta1/namespaces/kfserving-test/inferenceservices/flower-sample',\n",
       "  'uid': 'e2509c42-3831-477d-b004-3c349a3b8ba6'},\n",
       " 'spec': {'predictor': {'tensorflow': {'name': 'kfserving-container',\n",
       "    'resources': {'limits': {'cpu': '1', 'memory': '2Gi'},\n",
       "     'requests': {'cpu': '1', 'memory': '2Gi'}},\n",
       "    'runtimeVersion': '1.14.0',\n",
       "    'storageUri': 'gs://kfserving-samples/models/tensorflow/flowers'}}}}"
      ]
     },
     "execution_count": 4,
     "metadata": {},
     "output_type": "execute_result"
    }
   ],
   "source": [
    "KFServing = KFServingClient()\n",
    "KFServing.create(isvc, version=kfserving_version)"
   ]
  },
  {
   "cell_type": "markdown",
   "metadata": {},
   "source": [
    "## Check the InferenceService"
   ]
  },
  {
   "cell_type": "code",
   "execution_count": 5,
   "metadata": {},
   "outputs": [
    {
     "name": "stdout",
     "output_type": "stream",
     "text": [
      "NAME                 READY      PREDICTOR_CANARY_TRAFFIC  URL                                                              \n",
      "flower-sample        False                                                                                                 \n",
      "flower-sample        False                                                                                                 \n",
      "flower-sample        False      100                                                                                        \n",
      "flower-sample        False      100                                                                                        \n",
      "flower-sample        True       100                       http://flower-sample.kfserving-test.example.com                  \n"
     ]
    }
   ],
   "source": [
    "KFServing.get('flower-sample', namespace=namespace, watch=True, timeout_seconds=120, version=kfserving_version)"
   ]
  },
  {
   "cell_type": "markdown",
   "metadata": {},
   "source": [
    "## Patch the InferenceService and define Canary Traffic Percent"
   ]
  },
  {
   "cell_type": "code",
   "execution_count": 6,
   "metadata": {},
   "outputs": [
    {
     "data": {
      "text/plain": [
       "{'apiVersion': 'serving.kubeflow.org/v1beta1',\n",
       " 'kind': 'InferenceService',\n",
       " 'metadata': {'creationTimestamp': '2020-10-29T08:24:07Z',\n",
       "  'generation': 2,\n",
       "  'name': 'flower-sample',\n",
       "  'namespace': 'kfserving-test',\n",
       "  'resourceVersion': '1508558',\n",
       "  'selfLink': '/apis/serving.kubeflow.org/v1beta1/namespaces/kfserving-test/inferenceservices/flower-sample',\n",
       "  'uid': 'e2509c42-3831-477d-b004-3c349a3b8ba6'},\n",
       " 'spec': {'predictor': {'canaryTrafficPercent': 20,\n",
       "   'tensorflow': {'name': 'kfserving-container',\n",
       "    'resources': {'limits': {'cpu': '1', 'memory': '2Gi'},\n",
       "     'requests': {'cpu': '1', 'memory': '2Gi'}},\n",
       "    'runtimeVersion': '1.14.0',\n",
       "    'storageUri': 'gs://kfserving-samples/models/tensorflow/flowers-2'}}},\n",
       " 'status': {'address': {'url': 'http://flower-sample.kfserving-test.svc.cluster.local'},\n",
       "  'components': {'predictor': {'address': {'url': 'http://flower-sample-predictor-default.kfserving-test.svc.cluster.local'},\n",
       "    'latestCreatedRevision': 'flower-sample-predictor-default-c2pnx',\n",
       "    'latestReadyRevision': 'flower-sample-predictor-default-c2pnx',\n",
       "    'trafficPercent': 100,\n",
       "    'url': 'http://flower-sample-predictor-default.kfserving-test.example.com'}},\n",
       "  'conditions': [{'lastTransitionTime': '2020-10-29T08:24:20Z',\n",
       "    'status': 'True',\n",
       "    'type': 'IngressReady'},\n",
       "   {'lastTransitionTime': '2020-10-29T08:24:20Z',\n",
       "    'severity': 'Info',\n",
       "    'status': 'True',\n",
       "    'type': 'PredictorConfigurationReady'},\n",
       "   {'lastTransitionTime': '2020-10-29T08:24:20Z',\n",
       "    'status': 'True',\n",
       "    'type': 'PredictorReady'},\n",
       "   {'lastTransitionTime': '2020-10-29T08:24:19Z',\n",
       "    'severity': 'Info',\n",
       "    'status': 'True',\n",
       "    'type': 'PredictorRouteReady'},\n",
       "   {'lastTransitionTime': '2020-10-29T08:24:20Z',\n",
       "    'status': 'True',\n",
       "    'type': 'Ready'}],\n",
       "  'url': 'http://flower-sample.kfserving-test.example.com'}}"
      ]
     },
     "execution_count": 6,
     "metadata": {},
     "output_type": "execute_result"
    }
   ],
   "source": [
    "isvc = V1beta1InferenceService(api_version=api_version,\n",
    "                               kind=constants.KFSERVING_KIND,\n",
    "                               metadata=client.V1ObjectMeta(\n",
    "                                   name='flower-sample', namespace=namespace),\n",
    "                               spec=V1beta1InferenceServiceSpec(\n",
    "                               predictor=V1beta1PredictorSpec(\n",
    "                                   canary_traffic_percent=20,\n",
    "                                   tensorflow=(V1beta1TFServingSpec(\n",
    "                                       storage_uri='gs://kfserving-samples/models/tensorflow/flowers-2'))))\n",
    ")\n",
    "\n",
    "KFServing.patch('flower-sample', isvc, namespace=namespace, version=kfserving_version)"
   ]
  },
  {
   "cell_type": "markdown",
   "metadata": {},
   "source": [
    "### Check the InferenceService after Patching"
   ]
  },
  {
   "cell_type": "code",
   "execution_count": 7,
   "metadata": {},
   "outputs": [],
   "source": [
    "KFServing.wait_isvc_ready('flower-sample', namespace=namespace, version=kfserving_version)"
   ]
  },
  {
   "cell_type": "code",
   "execution_count": 8,
   "metadata": {},
   "outputs": [
    {
     "data": {
      "text/plain": [
       "{'apiVersion': 'serving.kubeflow.org/v1beta1',\n",
       " 'kind': 'InferenceService',\n",
       " 'metadata': {'creationTimestamp': '2020-10-29T08:24:07Z',\n",
       "  'generation': 2,\n",
       "  'name': 'flower-sample',\n",
       "  'namespace': 'kfserving-test',\n",
       "  'resourceVersion': '1508712',\n",
       "  'selfLink': '/apis/serving.kubeflow.org/v1beta1/namespaces/kfserving-test/inferenceservices/flower-sample',\n",
       "  'uid': 'e2509c42-3831-477d-b004-3c349a3b8ba6'},\n",
       " 'spec': {'predictor': {'canaryTrafficPercent': 20,\n",
       "   'tensorflow': {'name': 'kfserving-container',\n",
       "    'resources': {'limits': {'cpu': '1', 'memory': '2Gi'},\n",
       "     'requests': {'cpu': '1', 'memory': '2Gi'}},\n",
       "    'runtimeVersion': '1.14.0',\n",
       "    'storageUri': 'gs://kfserving-samples/models/tensorflow/flowers-2'}}},\n",
       " 'status': {'address': {'url': 'http://flower-sample.kfserving-test.svc.cluster.local'},\n",
       "  'components': {'predictor': {'address': {'url': 'http://flower-sample-predictor-default.kfserving-test.svc.cluster.local'},\n",
       "    'latestCreatedRevision': 'flower-sample-predictor-default-974qh',\n",
       "    'latestReadyRevision': 'flower-sample-predictor-default-974qh',\n",
       "    'previousReadyRevision': 'flower-sample-predictor-default-c2pnx',\n",
       "    'trafficPercent': 20,\n",
       "    'url': 'http://flower-sample-predictor-default.kfserving-test.example.com'}},\n",
       "  'conditions': [{'lastTransitionTime': '2020-10-29T08:24:43Z',\n",
       "    'status': 'True',\n",
       "    'type': 'IngressReady'},\n",
       "   {'lastTransitionTime': '2020-10-29T08:24:43Z',\n",
       "    'severity': 'Info',\n",
       "    'status': 'True',\n",
       "    'type': 'PredictorConfigurationReady'},\n",
       "   {'lastTransitionTime': '2020-10-29T08:24:43Z',\n",
       "    'status': 'True',\n",
       "    'type': 'PredictorReady'},\n",
       "   {'lastTransitionTime': '2020-10-29T08:24:43Z',\n",
       "    'severity': 'Info',\n",
       "    'status': 'True',\n",
       "    'type': 'PredictorRouteReady'},\n",
       "   {'lastTransitionTime': '2020-10-29T08:24:43Z',\n",
       "    'status': 'True',\n",
       "    'type': 'Ready'}],\n",
       "  'url': 'http://flower-sample.kfserving-test.example.com'}}"
      ]
     },
     "execution_count": 8,
     "metadata": {},
     "output_type": "execute_result"
    }
   ],
   "source": [
    "KFServing.get('flower-sample', namespace=namespace, version=kfserving_version)"
   ]
  },
  {
   "cell_type": "markdown",
   "metadata": {},
   "source": [
    "## Delete the InferenceService"
   ]
  },
  {
   "cell_type": "code",
   "execution_count": 9,
   "metadata": {},
   "outputs": [
    {
     "data": {
      "text/plain": [
       "{'kind': 'Status',\n",
       " 'apiVersion': 'v1',\n",
       " 'metadata': {},\n",
       " 'status': 'Success',\n",
       " 'details': {'name': 'flower-sample',\n",
       "  'group': 'serving.kubeflow.org',\n",
       "  'kind': 'inferenceservices',\n",
       "  'uid': 'e2509c42-3831-477d-b004-3c349a3b8ba6'}}"
      ]
     },
     "execution_count": 9,
     "metadata": {},
     "output_type": "execute_result"
    }
   ],
   "source": [
    "KFServing.delete('flower-sample', namespace=namespace)"
   ]
  },
  {
   "cell_type": "code",
   "execution_count": null,
   "metadata": {},
   "outputs": [],
   "source": []
  }
 ],
 "metadata": {
  "kernelspec": {
   "display_name": "Python 3",
   "language": "python",
   "name": "python3"
  },
  "language_info": {
   "codemirror_mode": {
    "name": "ipython",
    "version": 3
   },
   "file_extension": ".py",
   "mimetype": "text/x-python",
   "name": "python",
   "nbconvert_exporter": "python",
   "pygments_lexer": "ipython3",
   "version": "3.6.9"
  }
 },
 "nbformat": 4,
 "nbformat_minor": 2
}
